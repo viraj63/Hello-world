{
 "cells": [
  {
   "cell_type": "code",
   "execution_count": 63,
   "id": "d8981786",
   "metadata": {},
   "outputs": [],
   "source": [
    "%matplotlib inline\n",
    "\n",
    "import numpy as np\n",
    "import pandas as pd\n",
    "import matplotlib.pyplot as plt\n",
    "import scipy.stats as stats"
   ]
  },
  {
   "cell_type": "code",
   "execution_count": 64,
   "id": "e111ba91",
   "metadata": {},
   "outputs": [
    {
     "data": {
      "text/html": [
       "<div>\n",
       "<style scoped>\n",
       "    .dataframe tbody tr th:only-of-type {\n",
       "        vertical-align: middle;\n",
       "    }\n",
       "\n",
       "    .dataframe tbody tr th {\n",
       "        vertical-align: top;\n",
       "    }\n",
       "\n",
       "    .dataframe thead th {\n",
       "        text-align: right;\n",
       "    }\n",
       "</style>\n",
       "<table border=\"1\" class=\"dataframe\">\n",
       "  <thead>\n",
       "    <tr style=\"text-align: right;\">\n",
       "      <th></th>\n",
       "      <th>Time</th>\n",
       "      <th>Pressure</th>\n",
       "    </tr>\n",
       "  </thead>\n",
       "  <tbody>\n",
       "    <tr>\n",
       "      <th>0</th>\n",
       "      <td>12:30:17</td>\n",
       "      <td>5.004</td>\n",
       "    </tr>\n",
       "    <tr>\n",
       "      <th>1</th>\n",
       "      <td>12:30:18</td>\n",
       "      <td>5.009</td>\n",
       "    </tr>\n",
       "    <tr>\n",
       "      <th>2</th>\n",
       "      <td>12:30:19</td>\n",
       "      <td>5.011</td>\n",
       "    </tr>\n",
       "    <tr>\n",
       "      <th>3</th>\n",
       "      <td>12:30:20</td>\n",
       "      <td>5.012</td>\n",
       "    </tr>\n",
       "    <tr>\n",
       "      <th>4</th>\n",
       "      <td>12:30:21</td>\n",
       "      <td>5.015</td>\n",
       "    </tr>\n",
       "  </tbody>\n",
       "</table>\n",
       "</div>"
      ],
      "text/plain": [
       "       Time  Pressure\n",
       "0  12:30:17     5.004\n",
       "1  12:30:18     5.009\n",
       "2  12:30:19     5.011\n",
       "3  12:30:20     5.012\n",
       "4  12:30:21     5.015"
      ]
     },
     "execution_count": 64,
     "metadata": {},
     "output_type": "execute_result"
    }
   ],
   "source": [
    "series=pd.read_excel(r'C:\\Users\\Ronny\\Desktop\\2022\\Ogauge pressure gauge\\range for 5 pressure.xlsx')\n",
    "series.head()\n"
   ]
  },
  {
   "cell_type": "code",
   "execution_count": 65,
   "id": "47c834c2",
   "metadata": {},
   "outputs": [],
   "source": [
    "x=series['Pressure']"
   ]
  },
  {
   "cell_type": "code",
   "execution_count": 66,
   "id": "dbb2dacd",
   "metadata": {},
   "outputs": [
    {
     "data": {
      "text/plain": [
       "5.045026190967117"
      ]
     },
     "execution_count": 66,
     "metadata": {},
     "output_type": "execute_result"
    }
   ],
   "source": [
    "np.mean(x)"
   ]
  },
  {
   "cell_type": "code",
   "execution_count": 67,
   "id": "063599f4",
   "metadata": {},
   "outputs": [
    {
     "data": {
      "text/plain": [
       "(0.00018774291950230323, 0.013701931232578247)"
      ]
     },
     "execution_count": 67,
     "metadata": {},
     "output_type": "execute_result"
    }
   ],
   "source": [
    "from statistics import variance, stdev\n",
    "#calculate sample variance(n-1)\n",
    "variance(x), stdev(x)"
   ]
  },
  {
   "cell_type": "code",
   "execution_count": 68,
   "id": "67cec7bd",
   "metadata": {},
   "outputs": [
    {
     "name": "stdout",
     "output_type": "stream",
     "text": [
      "5.033\n"
     ]
    }
   ],
   "source": [
    "q1=np.percentile(x,25)\n",
    "print(q1)"
   ]
  },
  {
   "cell_type": "code",
   "execution_count": 74,
   "id": "78a13d0e",
   "metadata": {},
   "outputs": [
    {
     "data": {
      "text/plain": [
       "Text(0, 0.5, 'Probability Density')"
      ]
     },
     "execution_count": 74,
     "metadata": {},
     "output_type": "execute_result"
    },
    {
     "data": {
      "image/png": "[encoded data removed]",
      "text/plain": [
       "<Figure size 432x288 with 1 Axes>"
      ]
     },
     "metadata": {
      "needs_background": "light"
     },
     "output_type": "display_data"
    }
   ],
   "source": [
    "# Importing required libraries\n",
    " \n",
    "import numpy as np\n",
    "import matplotlib.pyplot as plt\n",
    " \n",
    "#Creating a Function.\n",
    "def normal_dist(x , mean , sd):\n",
    "    prob_density = (np.pi*sd) * np.exp(-0.5*((x-mean)/sd)**2)\n",
    "    return prob_density\n",
    " \n",
    "#Calculate mean and Standard deviation.\n",
    "mean = np.mean(x)\n",
    "sd = np.std(x)\n",
    " \n",
    "#Apply function to the data.\n",
    "pdf = normal_dist(x,mean,sd)\n",
    " \n",
    "#Plotting the Results\n",
    "\n",
    "plt.plot(x,pdf , color = 'red')\n",
    "plt.fill_between(x=np.arange(5.01,5.06,0.01), \n",
    "                 y1= stats.norm.pdf(np.arange(5.01,5.06,0.01)) ,\n",
    "                 facecolor='blue',\n",
    "                 alpha=0.35)\n",
    "plt.xlabel('Data points')\n",
    "plt.ylabel('Probability Density')\n"
   ]
  },
  {
   "cell_type": "code",
   "execution_count": 42,
   "id": "9d75d8b1",
   "metadata": {},
   "outputs": [],
   "source": [
    "x=mean\n",
    "s=sd"
   ]
  },
  {
   "cell_type": "code",
   "execution_count": 43,
   "id": "d5442469",
   "metadata": {},
   "outputs": [
    {
     "data": {
      "text/plain": [
       "5.045026190967117"
      ]
     },
     "execution_count": 43,
     "metadata": {},
     "output_type": "execute_result"
    }
   ],
   "source": [
    "x"
   ]
  },
  {
   "cell_type": "code",
   "execution_count": 44,
   "id": "6bfd63db",
   "metadata": {},
   "outputs": [
    {
     "data": {
      "text/plain": [
       "0.013700518298185875"
      ]
     },
     "execution_count": 44,
     "metadata": {},
     "output_type": "execute_result"
    }
   ],
   "source": [
    "sd"
   ]
  },
  {
   "cell_type": "code",
   "execution_count": 50,
   "id": "7e5608f7",
   "metadata": {},
   "outputs": [
    {
     "data": {
      "text/plain": [
       "(5.031325672668931, 5.0587267092653025)"
      ]
     },
     "execution_count": 50,
     "metadata": {},
     "output_type": "execute_result"
    }
   ],
   "source": [
    "x-sd, x+sd"
   ]
  },
  {
   "cell_type": "code",
   "execution_count": 52,
   "id": "64a638c7",
   "metadata": {},
   "outputs": [
    {
     "data": {
      "text/plain": [
       "(5.017625154370745, 5.072427227563488)"
      ]
     },
     "execution_count": 52,
     "metadata": {},
     "output_type": "execute_result"
    }
   ],
   "source": [
    "x-2*sd, x+2*sd"
   ]
  },
  {
   "cell_type": "code",
   "execution_count": 53,
   "id": "52b9fde5",
   "metadata": {},
   "outputs": [
    {
     "data": {
      "text/plain": [
       "(5.0039246360725596, 5.086127745861674)"
      ]
     },
     "execution_count": 53,
     "metadata": {},
     "output_type": "execute_result"
    }
   ],
   "source": [
    "x-3*sd, x+3*sd"
   ]
  },
  {
   "cell_type": "code",
   "execution_count": 62,
   "id": "489b465b",
   "metadata": {},
   "outputs": [
    {
     "data": {
      "text/plain": [
       "<matplotlib.collections.PolyCollection at 0x208824bca90>"
      ]
     },
     "execution_count": 62,
     "metadata": {},
     "output_type": "execute_result"
    },
    {
     "data": {
      "image/png": "[encoded data removed]",
      "text/plain": [
       "<Figure size 648x648 with 1 Axes>"
      ]
     },
     "metadata": {},
     "output_type": "display_data"
    }
   ],
   "source": [
    "plt.rcParams[\"figure.figsize\"] = (9,9)\n",
    "                                  \n",
    "plt.fill_between(x=np.arange(5.0039246360725596,5.031325672668931,0.01), \n",
    "                 y1= stats.norm.pdf(np.arange(5.0039246360725596,5.031325672668931,0.01)) ,\n",
    "                 facecolor='red',\n",
    "                 alpha=0.35)\n",
    "\n",
    "plt.fill_between(x=np.arange(5.0587267092653025,5.086127745861674,0.01), \n",
    "                 y1= stats.norm.pdf(np.arange(5.0587267092653025,5.086127745861674,0.01)) ,\n",
    "                 facecolor='red',\n",
    "                 alpha=0.35)\n",
    "\n",
    "plt.fill_between(x=np.arange(5.031325672668931,5.0587267092653025,0.01), \n",
    "                 y1= stats.norm.pdf(np.arange(5.031325672668931,5.0587267092653025,0.01)) ,\n",
    "                 facecolor='blue',\n",
    "                 alpha=0.35)"
   ]
  },
  {
   "cell_type": "code",
   "execution_count": null,
   "id": "a0747ce7",
   "metadata": {},
   "outputs": [],
   "source": []
  }
 ],
 "metadata": {
  "kernelspec": {
   "display_name": "Python 3",
   "language": "python",
   "name": "python3"
  },
  "language_info": {
   "codemirror_mode": {
    "name": "ipython",
    "version": 3
   },
   "file_extension": ".py",
   "mimetype": "text/x-python",
   "name": "python",
   "nbconvert_exporter": "python",
   "pygments_lexer": "ipython3",
   "version": "3.8.8"
  }
 },
 "nbformat": 4,
 "nbformat_minor": 5
}
