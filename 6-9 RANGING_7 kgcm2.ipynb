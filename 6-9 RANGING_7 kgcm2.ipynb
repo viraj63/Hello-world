{
 "cells": [
  {
   "cell_type": "code",
   "execution_count": 1,
   "id": "bbf0cffc",
   "metadata": {},
   "outputs": [],
   "source": [
    "import warnings\n",
    "warnings.filterwarnings('ignore')"
   ]
  },
  {
   "cell_type": "code",
   "execution_count": 2,
   "id": "f3eed813",
   "metadata": {},
   "outputs": [],
   "source": [
    "%matplotlib inline\n",
    "import pandas as pd\n",
    "import numpy as np\n",
    "import matplotlib.pyplot as plt\n",
    "import seaborn as sn\n",
    "import statsmodels\n",
    "import sklearn.metrics"
   ]
  },
  {
   "cell_type": "code",
   "execution_count": 3,
   "id": "e203cc47",
   "metadata": {},
   "outputs": [],
   "source": [
    "ogauge = pd.read_excel(r'C:\\Users\\Ronny\\Desktop\\Project_2022\\Ogauge_testing\\Ranging19_5bar.xls')"
   ]
  },
  {
   "cell_type": "code",
   "execution_count": 4,
   "id": "83b06fef",
   "metadata": {},
   "outputs": [
    {
     "data": {
      "text/html": [
       "<div>\n",
       "<style scoped>\n",
       "    .dataframe tbody tr th:only-of-type {\n",
       "        vertical-align: middle;\n",
       "    }\n",
       "\n",
       "    .dataframe tbody tr th {\n",
       "        vertical-align: top;\n",
       "    }\n",
       "\n",
       "    .dataframe thead th {\n",
       "        text-align: right;\n",
       "    }\n",
       "</style>\n",
       "<table border=\"1\" class=\"dataframe\">\n",
       "  <thead>\n",
       "    <tr style=\"text-align: right;\">\n",
       "      <th></th>\n",
       "      <th>Time</th>\n",
       "      <th>PRESSURE</th>\n",
       "    </tr>\n",
       "  </thead>\n",
       "  <tbody>\n",
       "    <tr>\n",
       "      <th>0</th>\n",
       "      <td>12:30:17</td>\n",
       "      <td>5.004</td>\n",
       "    </tr>\n",
       "    <tr>\n",
       "      <th>1</th>\n",
       "      <td>12:30:18</td>\n",
       "      <td>5.009</td>\n",
       "    </tr>\n",
       "    <tr>\n",
       "      <th>2</th>\n",
       "      <td>12:30:19</td>\n",
       "      <td>5.011</td>\n",
       "    </tr>\n",
       "    <tr>\n",
       "      <th>3</th>\n",
       "      <td>12:30:20</td>\n",
       "      <td>5.012</td>\n",
       "    </tr>\n",
       "    <tr>\n",
       "      <th>4</th>\n",
       "      <td>12:30:21</td>\n",
       "      <td>5.015</td>\n",
       "    </tr>\n",
       "  </tbody>\n",
       "</table>\n",
       "</div>"
      ],
      "text/plain": [
       "       Time  PRESSURE\n",
       "0  12:30:17     5.004\n",
       "1  12:30:18     5.009\n",
       "2  12:30:19     5.011\n",
       "3  12:30:20     5.012\n",
       "4  12:30:21     5.015"
      ]
     },
     "execution_count": 4,
     "metadata": {},
     "output_type": "execute_result"
    }
   ],
   "source": [
    "ogauge.head()"
   ]
  },
  {
   "cell_type": "code",
   "execution_count": 5,
   "id": "17308538",
   "metadata": {},
   "outputs": [
    {
     "name": "stdout",
     "output_type": "stream",
     "text": [
      "<class 'pandas.core.frame.DataFrame'>\n",
      "RangeIndex: 4849 entries, 0 to 4848\n",
      "Data columns (total 2 columns):\n",
      " #   Column    Non-Null Count  Dtype  \n",
      "---  ------    --------------  -----  \n",
      " 0   Time      4849 non-null   object \n",
      " 1   PRESSURE  4849 non-null   float64\n",
      "dtypes: float64(1), object(1)\n",
      "memory usage: 75.9+ KB\n"
     ]
    }
   ],
   "source": [
    "ogauge.info()"
   ]
  },
  {
   "cell_type": "markdown",
   "id": "4583046b",
   "metadata": {},
   "source": [
    "### Forecasting using Moving Average"
   ]
  },
  {
   "cell_type": "code",
   "execution_count": 6,
   "id": "f9164b19",
   "metadata": {},
   "outputs": [
    {
     "data": {
      "text/html": [
       "<div>\n",
       "<style scoped>\n",
       "    .dataframe tbody tr th:only-of-type {\n",
       "        vertical-align: middle;\n",
       "    }\n",
       "\n",
       "    .dataframe tbody tr th {\n",
       "        vertical-align: top;\n",
       "    }\n",
       "\n",
       "    .dataframe thead th {\n",
       "        text-align: right;\n",
       "    }\n",
       "</style>\n",
       "<table border=\"1\" class=\"dataframe\">\n",
       "  <thead>\n",
       "    <tr style=\"text-align: right;\">\n",
       "      <th></th>\n",
       "      <th>Time</th>\n",
       "      <th>PRESSURE</th>\n",
       "      <th>mavg</th>\n",
       "    </tr>\n",
       "  </thead>\n",
       "  <tbody>\n",
       "    <tr>\n",
       "      <th>0</th>\n",
       "      <td>12:30:17</td>\n",
       "      <td>5.004</td>\n",
       "      <td>NaN</td>\n",
       "    </tr>\n",
       "    <tr>\n",
       "      <th>1</th>\n",
       "      <td>12:30:18</td>\n",
       "      <td>5.009</td>\n",
       "      <td>NaN</td>\n",
       "    </tr>\n",
       "    <tr>\n",
       "      <th>2</th>\n",
       "      <td>12:30:19</td>\n",
       "      <td>5.011</td>\n",
       "      <td>NaN</td>\n",
       "    </tr>\n",
       "    <tr>\n",
       "      <th>3</th>\n",
       "      <td>12:30:20</td>\n",
       "      <td>5.012</td>\n",
       "      <td>NaN</td>\n",
       "    </tr>\n",
       "    <tr>\n",
       "      <th>4</th>\n",
       "      <td>12:30:21</td>\n",
       "      <td>5.015</td>\n",
       "      <td>NaN</td>\n",
       "    </tr>\n",
       "    <tr>\n",
       "      <th>...</th>\n",
       "      <td>...</td>\n",
       "      <td>...</td>\n",
       "      <td>...</td>\n",
       "    </tr>\n",
       "    <tr>\n",
       "      <th>4844</th>\n",
       "      <td>13:59:56</td>\n",
       "      <td>5.027</td>\n",
       "      <td>5.028250</td>\n",
       "    </tr>\n",
       "    <tr>\n",
       "      <th>4845</th>\n",
       "      <td>13:59:57</td>\n",
       "      <td>5.027</td>\n",
       "      <td>5.028167</td>\n",
       "    </tr>\n",
       "    <tr>\n",
       "      <th>4846</th>\n",
       "      <td>13:59:58</td>\n",
       "      <td>5.028</td>\n",
       "      <td>5.028083</td>\n",
       "    </tr>\n",
       "    <tr>\n",
       "      <th>4847</th>\n",
       "      <td>13:59:59</td>\n",
       "      <td>5.029</td>\n",
       "      <td>5.028083</td>\n",
       "    </tr>\n",
       "    <tr>\n",
       "      <th>4848</th>\n",
       "      <td>14:00:00</td>\n",
       "      <td>5.030</td>\n",
       "      <td>5.028000</td>\n",
       "    </tr>\n",
       "  </tbody>\n",
       "</table>\n",
       "<p>4849 rows × 3 columns</p>\n",
       "</div>"
      ],
      "text/plain": [
       "          Time  PRESSURE      mavg\n",
       "0     12:30:17     5.004       NaN\n",
       "1     12:30:18     5.009       NaN\n",
       "2     12:30:19     5.011       NaN\n",
       "3     12:30:20     5.012       NaN\n",
       "4     12:30:21     5.015       NaN\n",
       "...        ...       ...       ...\n",
       "4844  13:59:56     5.027  5.028250\n",
       "4845  13:59:57     5.027  5.028167\n",
       "4846  13:59:58     5.028  5.028083\n",
       "4847  13:59:59     5.029  5.028083\n",
       "4848  14:00:00     5.030  5.028000\n",
       "\n",
       "[4849 rows x 3 columns]"
      ]
     },
     "execution_count": 6,
     "metadata": {},
     "output_type": "execute_result"
    }
   ],
   "source": [
    "ogauge['mavg'] = ogauge['PRESSURE'].rolling(window=12).mean().shift(1)\n",
    "ogauge"
   ]
  },
  {
   "cell_type": "markdown",
   "id": "217512cd",
   "metadata": {},
   "source": [
    "### to diplay upto 2 decimal use pd.options.display.float_format= '{:.2f}'.format"
   ]
  },
  {
   "cell_type": "code",
   "execution_count": 7,
   "id": "7f3d4fd8",
   "metadata": {},
   "outputs": [
    {
     "data": {
      "text/html": [
       "<div>\n",
       "<style scoped>\n",
       "    .dataframe tbody tr th:only-of-type {\n",
       "        vertical-align: middle;\n",
       "    }\n",
       "\n",
       "    .dataframe tbody tr th {\n",
       "        vertical-align: top;\n",
       "    }\n",
       "\n",
       "    .dataframe thead th {\n",
       "        text-align: right;\n",
       "    }\n",
       "</style>\n",
       "<table border=\"1\" class=\"dataframe\">\n",
       "  <thead>\n",
       "    <tr style=\"text-align: right;\">\n",
       "      <th></th>\n",
       "      <th>Time</th>\n",
       "      <th>PRESSURE</th>\n",
       "      <th>mavg</th>\n",
       "    </tr>\n",
       "  </thead>\n",
       "  <tbody>\n",
       "    <tr>\n",
       "      <th>0</th>\n",
       "      <td>12:30:17</td>\n",
       "      <td>5.00</td>\n",
       "      <td>NaN</td>\n",
       "    </tr>\n",
       "    <tr>\n",
       "      <th>1</th>\n",
       "      <td>12:30:18</td>\n",
       "      <td>5.01</td>\n",
       "      <td>NaN</td>\n",
       "    </tr>\n",
       "    <tr>\n",
       "      <th>2</th>\n",
       "      <td>12:30:19</td>\n",
       "      <td>5.01</td>\n",
       "      <td>NaN</td>\n",
       "    </tr>\n",
       "    <tr>\n",
       "      <th>3</th>\n",
       "      <td>12:30:20</td>\n",
       "      <td>5.01</td>\n",
       "      <td>NaN</td>\n",
       "    </tr>\n",
       "    <tr>\n",
       "      <th>4</th>\n",
       "      <td>12:30:21</td>\n",
       "      <td>5.01</td>\n",
       "      <td>NaN</td>\n",
       "    </tr>\n",
       "    <tr>\n",
       "      <th>...</th>\n",
       "      <td>...</td>\n",
       "      <td>...</td>\n",
       "      <td>...</td>\n",
       "    </tr>\n",
       "    <tr>\n",
       "      <th>4844</th>\n",
       "      <td>13:59:56</td>\n",
       "      <td>5.03</td>\n",
       "      <td>5.03</td>\n",
       "    </tr>\n",
       "    <tr>\n",
       "      <th>4845</th>\n",
       "      <td>13:59:57</td>\n",
       "      <td>5.03</td>\n",
       "      <td>5.03</td>\n",
       "    </tr>\n",
       "    <tr>\n",
       "      <th>4846</th>\n",
       "      <td>13:59:58</td>\n",
       "      <td>5.03</td>\n",
       "      <td>5.03</td>\n",
       "    </tr>\n",
       "    <tr>\n",
       "      <th>4847</th>\n",
       "      <td>13:59:59</td>\n",
       "      <td>5.03</td>\n",
       "      <td>5.03</td>\n",
       "    </tr>\n",
       "    <tr>\n",
       "      <th>4848</th>\n",
       "      <td>14:00:00</td>\n",
       "      <td>5.03</td>\n",
       "      <td>5.03</td>\n",
       "    </tr>\n",
       "  </tbody>\n",
       "</table>\n",
       "<p>4849 rows × 3 columns</p>\n",
       "</div>"
      ],
      "text/plain": [
       "          Time  PRESSURE  mavg\n",
       "0     12:30:17      5.00   NaN\n",
       "1     12:30:18      5.01   NaN\n",
       "2     12:30:19      5.01   NaN\n",
       "3     12:30:20      5.01   NaN\n",
       "4     12:30:21      5.01   NaN\n",
       "...        ...       ...   ...\n",
       "4844  13:59:56      5.03  5.03\n",
       "4845  13:59:57      5.03  5.03\n",
       "4846  13:59:58      5.03  5.03\n",
       "4847  13:59:59      5.03  5.03\n",
       "4848  14:00:00      5.03  5.03\n",
       "\n",
       "[4849 rows x 3 columns]"
      ]
     },
     "execution_count": 7,
     "metadata": {},
     "output_type": "execute_result"
    }
   ],
   "source": [
    "pd.options.display.float_format= '{:.2f}'.format\n",
    "ogauge"
   ]
  },
  {
   "cell_type": "code",
   "execution_count": 8,
   "id": "24fb7061",
   "metadata": {},
   "outputs": [
    {
     "data": {
      "image/png": "[encoded data removed]",
      "text/plain": [
       "<Figure size 1080x504 with 1 Axes>"
      ]
     },
     "metadata": {
      "needs_background": "light"
     },
     "output_type": "display_data"
    }
   ],
   "source": [
    "plt.figure( figsize=(15,7))\n",
    "plt.xlabel( \"Time\" )\n",
    "plt.ylabel( \"Pressure trends\" )\n",
    "plt.plot( ogauge['PRESSURE'][0:3000] );\n",
    "plt.plot( ogauge['mavg'][0:3000], '.' );\n",
    "plt.legend('PA');"
   ]
  },
  {
   "cell_type": "markdown",
   "id": "508cddd6",
   "metadata": {},
   "source": [
    "### MAPE and RMSE"
   ]
  },
  {
   "cell_type": "code",
   "execution_count": 9,
   "id": "a1bfeb8e",
   "metadata": {},
   "outputs": [
    {
     "data": {
      "text/plain": [
       "0.02"
      ]
     },
     "execution_count": 9,
     "metadata": {},
     "output_type": "execute_result"
    }
   ],
   "source": [
    "def get_mape(actual, predicted): \n",
    "    y_true, y_pred = np.array(actual), np.array(predicted)\n",
    "    return np.round( np.mean(np.abs((actual - predicted) / actual)) * 100, 2 )\n",
    "\n",
    "get_mape( ogauge['PRESSURE'][40:].values, \n",
    "          ogauge['mavg'][40:].values)"
   ]
  },
  {
   "cell_type": "code",
   "execution_count": 10,
   "id": "cc475bfb",
   "metadata": {},
   "outputs": [
    {
     "data": {
      "text/plain": [
       "0.0013939371398384935"
      ]
     },
     "execution_count": 10,
     "metadata": {},
     "output_type": "execute_result"
    }
   ],
   "source": [
    "from sklearn.metrics import mean_squared_error\n",
    "np.sqrt(mean_squared_error( ogauge['PRESSURE'][36:].values, \n",
    "                            ogauge['mavg'][36:].values))"
   ]
  },
  {
   "cell_type": "markdown",
   "id": "a3a155d7",
   "metadata": {},
   "source": [
    "### Exponential smoothing"
   ]
  },
  {
   "cell_type": "code",
   "execution_count": 11,
   "id": "bc0f4f78",
   "metadata": {},
   "outputs": [
    {
     "data": {
      "text/html": [
       "<div>\n",
       "<style scoped>\n",
       "    .dataframe tbody tr th:only-of-type {\n",
       "        vertical-align: middle;\n",
       "    }\n",
       "\n",
       "    .dataframe tbody tr th {\n",
       "        vertical-align: top;\n",
       "    }\n",
       "\n",
       "    .dataframe thead th {\n",
       "        text-align: right;\n",
       "    }\n",
       "</style>\n",
       "<table border=\"1\" class=\"dataframe\">\n",
       "  <thead>\n",
       "    <tr style=\"text-align: right;\">\n",
       "      <th></th>\n",
       "      <th>Time</th>\n",
       "      <th>PRESSURE</th>\n",
       "      <th>mavg</th>\n",
       "    </tr>\n",
       "  </thead>\n",
       "  <tbody>\n",
       "    <tr>\n",
       "      <th>0</th>\n",
       "      <td>12:30:17</td>\n",
       "      <td>5.00</td>\n",
       "      <td>NaN</td>\n",
       "    </tr>\n",
       "    <tr>\n",
       "      <th>1</th>\n",
       "      <td>12:30:18</td>\n",
       "      <td>5.01</td>\n",
       "      <td>NaN</td>\n",
       "    </tr>\n",
       "    <tr>\n",
       "      <th>2</th>\n",
       "      <td>12:30:19</td>\n",
       "      <td>5.01</td>\n",
       "      <td>NaN</td>\n",
       "    </tr>\n",
       "    <tr>\n",
       "      <th>3</th>\n",
       "      <td>12:30:20</td>\n",
       "      <td>5.01</td>\n",
       "      <td>NaN</td>\n",
       "    </tr>\n",
       "    <tr>\n",
       "      <th>4</th>\n",
       "      <td>12:30:21</td>\n",
       "      <td>5.01</td>\n",
       "      <td>NaN</td>\n",
       "    </tr>\n",
       "    <tr>\n",
       "      <th>...</th>\n",
       "      <td>...</td>\n",
       "      <td>...</td>\n",
       "      <td>...</td>\n",
       "    </tr>\n",
       "    <tr>\n",
       "      <th>4844</th>\n",
       "      <td>13:59:56</td>\n",
       "      <td>5.03</td>\n",
       "      <td>5.03</td>\n",
       "    </tr>\n",
       "    <tr>\n",
       "      <th>4845</th>\n",
       "      <td>13:59:57</td>\n",
       "      <td>5.03</td>\n",
       "      <td>5.03</td>\n",
       "    </tr>\n",
       "    <tr>\n",
       "      <th>4846</th>\n",
       "      <td>13:59:58</td>\n",
       "      <td>5.03</td>\n",
       "      <td>5.03</td>\n",
       "    </tr>\n",
       "    <tr>\n",
       "      <th>4847</th>\n",
       "      <td>13:59:59</td>\n",
       "      <td>5.03</td>\n",
       "      <td>5.03</td>\n",
       "    </tr>\n",
       "    <tr>\n",
       "      <th>4848</th>\n",
       "      <td>14:00:00</td>\n",
       "      <td>5.03</td>\n",
       "      <td>5.03</td>\n",
       "    </tr>\n",
       "  </tbody>\n",
       "</table>\n",
       "<p>4849 rows × 3 columns</p>\n",
       "</div>"
      ],
      "text/plain": [
       "          Time  PRESSURE  mavg\n",
       "0     12:30:17      5.00   NaN\n",
       "1     12:30:18      5.01   NaN\n",
       "2     12:30:19      5.01   NaN\n",
       "3     12:30:20      5.01   NaN\n",
       "4     12:30:21      5.01   NaN\n",
       "...        ...       ...   ...\n",
       "4844  13:59:56      5.03  5.03\n",
       "4845  13:59:57      5.03  5.03\n",
       "4846  13:59:58      5.03  5.03\n",
       "4847  13:59:59      5.03  5.03\n",
       "4848  14:00:00      5.03  5.03\n",
       "\n",
       "[4849 rows x 3 columns]"
      ]
     },
     "execution_count": 11,
     "metadata": {},
     "output_type": "execute_result"
    }
   ],
   "source": [
    "ogauge"
   ]
  },
  {
   "cell_type": "code",
   "execution_count": 12,
   "id": "6189877c",
   "metadata": {},
   "outputs": [
    {
     "data": {
      "text/html": [
       "<div>\n",
       "<style scoped>\n",
       "    .dataframe tbody tr th:only-of-type {\n",
       "        vertical-align: middle;\n",
       "    }\n",
       "\n",
       "    .dataframe tbody tr th {\n",
       "        vertical-align: top;\n",
       "    }\n",
       "\n",
       "    .dataframe thead th {\n",
       "        text-align: right;\n",
       "    }\n",
       "</style>\n",
       "<table border=\"1\" class=\"dataframe\">\n",
       "  <thead>\n",
       "    <tr style=\"text-align: right;\">\n",
       "      <th></th>\n",
       "      <th>Time</th>\n",
       "      <th>PRESSURE</th>\n",
       "      <th>mavg</th>\n",
       "      <th>ewm</th>\n",
       "    </tr>\n",
       "  </thead>\n",
       "  <tbody>\n",
       "    <tr>\n",
       "      <th>0</th>\n",
       "      <td>12:30:17</td>\n",
       "      <td>5.00</td>\n",
       "      <td>NaN</td>\n",
       "      <td>5.00</td>\n",
       "    </tr>\n",
       "    <tr>\n",
       "      <th>1</th>\n",
       "      <td>12:30:18</td>\n",
       "      <td>5.01</td>\n",
       "      <td>NaN</td>\n",
       "      <td>5.01</td>\n",
       "    </tr>\n",
       "    <tr>\n",
       "      <th>2</th>\n",
       "      <td>12:30:19</td>\n",
       "      <td>5.01</td>\n",
       "      <td>NaN</td>\n",
       "      <td>5.01</td>\n",
       "    </tr>\n",
       "    <tr>\n",
       "      <th>3</th>\n",
       "      <td>12:30:20</td>\n",
       "      <td>5.01</td>\n",
       "      <td>NaN</td>\n",
       "      <td>5.01</td>\n",
       "    </tr>\n",
       "    <tr>\n",
       "      <th>4</th>\n",
       "      <td>12:30:21</td>\n",
       "      <td>5.01</td>\n",
       "      <td>NaN</td>\n",
       "      <td>5.01</td>\n",
       "    </tr>\n",
       "    <tr>\n",
       "      <th>...</th>\n",
       "      <td>...</td>\n",
       "      <td>...</td>\n",
       "      <td>...</td>\n",
       "      <td>...</td>\n",
       "    </tr>\n",
       "    <tr>\n",
       "      <th>4844</th>\n",
       "      <td>13:59:56</td>\n",
       "      <td>5.03</td>\n",
       "      <td>5.03</td>\n",
       "      <td>5.03</td>\n",
       "    </tr>\n",
       "    <tr>\n",
       "      <th>4845</th>\n",
       "      <td>13:59:57</td>\n",
       "      <td>5.03</td>\n",
       "      <td>5.03</td>\n",
       "      <td>5.03</td>\n",
       "    </tr>\n",
       "    <tr>\n",
       "      <th>4846</th>\n",
       "      <td>13:59:58</td>\n",
       "      <td>5.03</td>\n",
       "      <td>5.03</td>\n",
       "      <td>5.03</td>\n",
       "    </tr>\n",
       "    <tr>\n",
       "      <th>4847</th>\n",
       "      <td>13:59:59</td>\n",
       "      <td>5.03</td>\n",
       "      <td>5.03</td>\n",
       "      <td>5.03</td>\n",
       "    </tr>\n",
       "    <tr>\n",
       "      <th>4848</th>\n",
       "      <td>14:00:00</td>\n",
       "      <td>5.03</td>\n",
       "      <td>5.03</td>\n",
       "      <td>5.03</td>\n",
       "    </tr>\n",
       "  </tbody>\n",
       "</table>\n",
       "<p>4849 rows × 4 columns</p>\n",
       "</div>"
      ],
      "text/plain": [
       "          Time  PRESSURE  mavg  ewm\n",
       "0     12:30:17      5.00   NaN 5.00\n",
       "1     12:30:18      5.01   NaN 5.01\n",
       "2     12:30:19      5.01   NaN 5.01\n",
       "3     12:30:20      5.01   NaN 5.01\n",
       "4     12:30:21      5.01   NaN 5.01\n",
       "...        ...       ...   ...  ...\n",
       "4844  13:59:56      5.03  5.03 5.03\n",
       "4845  13:59:57      5.03  5.03 5.03\n",
       "4846  13:59:58      5.03  5.03 5.03\n",
       "4847  13:59:59      5.03  5.03 5.03\n",
       "4848  14:00:00      5.03  5.03 5.03\n",
       "\n",
       "[4849 rows x 4 columns]"
      ]
     },
     "execution_count": 12,
     "metadata": {},
     "output_type": "execute_result"
    }
   ],
   "source": [
    "ogauge['ewm'] = ogauge['PRESSURE'].ewm(alpha=0.2).mean()\n",
    "ogauge"
   ]
  },
  {
   "cell_type": "code",
   "execution_count": 13,
   "id": "d2cc02e0",
   "metadata": {},
   "outputs": [],
   "source": [
    "pd.options.display.float_format= '{:.2f}'.format"
   ]
  },
  {
   "cell_type": "code",
   "execution_count": 14,
   "id": "37af4d27",
   "metadata": {},
   "outputs": [
    {
     "data": {
      "text/plain": [
       "(0.02, 0.001100395734274552)"
      ]
     },
     "execution_count": 14,
     "metadata": {},
     "output_type": "execute_result"
    }
   ],
   "source": [
    "MAPE=get_mape( ogauge['PRESSURE'][40:].values, \n",
    "          ogauge['ewm'][40:].values)\n",
    "RMSE=np.sqrt(mean_squared_error( ogauge['PRESSURE'][36:].values, \n",
    "                            ogauge['ewm'][36:].values))\n",
    "MAPE,RMSE"
   ]
  },
  {
   "cell_type": "code",
   "execution_count": 15,
   "id": "976f42a4",
   "metadata": {},
   "outputs": [
    {
     "data": {
      "image/png": "[encoded data removed]",
      "text/plain": [
       "<Figure size 1080x504 with 1 Axes>"
      ]
     },
     "metadata": {
      "needs_background": "light"
     },
     "output_type": "display_data"
    }
   ],
   "source": [
    "plt.figure( figsize=(15,7))\n",
    "plt.xlabel( \"Time\" )\n",
    "plt.ylabel( \"Pressure trends\" )\n",
    "plt.plot( ogauge['PRESSURE'][0:3000] );\n",
    "plt.plot( ogauge['ewm'][0:3000], '.' );\n",
    "plt.legend('PA');"
   ]
  },
  {
   "cell_type": "markdown",
   "id": "d5a7d8a8",
   "metadata": {},
   "source": [
    "### We can decompose time-series data into trend,seasonal,cyclical and residual components"
   ]
  },
  {
   "cell_type": "code",
   "execution_count": 16,
   "id": "c00a5a62",
   "metadata": {},
   "outputs": [],
   "source": [
    "from statsmodels.tsa.seasonal import seasonal_decompose"
   ]
  },
  {
   "cell_type": "code",
   "execution_count": 17,
   "id": "609052cc",
   "metadata": {},
   "outputs": [
    {
     "data": {
      "image/png": "[encoded data removed]",
      "text/plain": [
       "<Figure size 432x288 with 4 Axes>"
      ]
     },
     "metadata": {
      "needs_background": "light"
     },
     "output_type": "display_data"
    }
   ],
   "source": [
    "ts_decompose = seasonal_decompose(np.array(ogauge['PRESSURE']), model=\"multiplicative\", period=12)\n",
    "ts_plot = ts_decompose.plot()"
   ]
  },
  {
   "cell_type": "code",
   "execution_count": 18,
   "id": "13e688b4",
   "metadata": {},
   "outputs": [
    {
     "data": {
      "text/html": [
       "<div>\n",
       "<style scoped>\n",
       "    .dataframe tbody tr th:only-of-type {\n",
       "        vertical-align: middle;\n",
       "    }\n",
       "\n",
       "    .dataframe tbody tr th {\n",
       "        vertical-align: top;\n",
       "    }\n",
       "\n",
       "    .dataframe thead th {\n",
       "        text-align: right;\n",
       "    }\n",
       "</style>\n",
       "<table border=\"1\" class=\"dataframe\">\n",
       "  <thead>\n",
       "    <tr style=\"text-align: right;\">\n",
       "      <th></th>\n",
       "      <th>Time</th>\n",
       "      <th>PRESSURE</th>\n",
       "      <th>mavg</th>\n",
       "      <th>ewm</th>\n",
       "      <th>seasonal</th>\n",
       "      <th>trend</th>\n",
       "      <th>residual</th>\n",
       "    </tr>\n",
       "  </thead>\n",
       "  <tbody>\n",
       "    <tr>\n",
       "      <th>0</th>\n",
       "      <td>12:30:17</td>\n",
       "      <td>5.00</td>\n",
       "      <td>NaN</td>\n",
       "      <td>5.00</td>\n",
       "      <td>1.00</td>\n",
       "      <td>NaN</td>\n",
       "      <td>NaN</td>\n",
       "    </tr>\n",
       "    <tr>\n",
       "      <th>1</th>\n",
       "      <td>12:30:18</td>\n",
       "      <td>5.01</td>\n",
       "      <td>NaN</td>\n",
       "      <td>5.01</td>\n",
       "      <td>1.00</td>\n",
       "      <td>NaN</td>\n",
       "      <td>NaN</td>\n",
       "    </tr>\n",
       "    <tr>\n",
       "      <th>2</th>\n",
       "      <td>12:30:19</td>\n",
       "      <td>5.01</td>\n",
       "      <td>NaN</td>\n",
       "      <td>5.01</td>\n",
       "      <td>1.00</td>\n",
       "      <td>NaN</td>\n",
       "      <td>NaN</td>\n",
       "    </tr>\n",
       "    <tr>\n",
       "      <th>3</th>\n",
       "      <td>12:30:20</td>\n",
       "      <td>5.01</td>\n",
       "      <td>NaN</td>\n",
       "      <td>5.01</td>\n",
       "      <td>1.00</td>\n",
       "      <td>NaN</td>\n",
       "      <td>NaN</td>\n",
       "    </tr>\n",
       "    <tr>\n",
       "      <th>4</th>\n",
       "      <td>12:30:21</td>\n",
       "      <td>5.01</td>\n",
       "      <td>NaN</td>\n",
       "      <td>5.01</td>\n",
       "      <td>1.00</td>\n",
       "      <td>NaN</td>\n",
       "      <td>NaN</td>\n",
       "    </tr>\n",
       "    <tr>\n",
       "      <th>...</th>\n",
       "      <td>...</td>\n",
       "      <td>...</td>\n",
       "      <td>...</td>\n",
       "      <td>...</td>\n",
       "      <td>...</td>\n",
       "      <td>...</td>\n",
       "      <td>...</td>\n",
       "    </tr>\n",
       "    <tr>\n",
       "      <th>4844</th>\n",
       "      <td>13:59:56</td>\n",
       "      <td>5.03</td>\n",
       "      <td>5.03</td>\n",
       "      <td>5.03</td>\n",
       "      <td>1.00</td>\n",
       "      <td>NaN</td>\n",
       "      <td>NaN</td>\n",
       "    </tr>\n",
       "    <tr>\n",
       "      <th>4845</th>\n",
       "      <td>13:59:57</td>\n",
       "      <td>5.03</td>\n",
       "      <td>5.03</td>\n",
       "      <td>5.03</td>\n",
       "      <td>1.00</td>\n",
       "      <td>NaN</td>\n",
       "      <td>NaN</td>\n",
       "    </tr>\n",
       "    <tr>\n",
       "      <th>4846</th>\n",
       "      <td>13:59:58</td>\n",
       "      <td>5.03</td>\n",
       "      <td>5.03</td>\n",
       "      <td>5.03</td>\n",
       "      <td>1.00</td>\n",
       "      <td>NaN</td>\n",
       "      <td>NaN</td>\n",
       "    </tr>\n",
       "    <tr>\n",
       "      <th>4847</th>\n",
       "      <td>13:59:59</td>\n",
       "      <td>5.03</td>\n",
       "      <td>5.03</td>\n",
       "      <td>5.03</td>\n",
       "      <td>1.00</td>\n",
       "      <td>NaN</td>\n",
       "      <td>NaN</td>\n",
       "    </tr>\n",
       "    <tr>\n",
       "      <th>4848</th>\n",
       "      <td>14:00:00</td>\n",
       "      <td>5.03</td>\n",
       "      <td>5.03</td>\n",
       "      <td>5.03</td>\n",
       "      <td>1.00</td>\n",
       "      <td>NaN</td>\n",
       "      <td>NaN</td>\n",
       "    </tr>\n",
       "  </tbody>\n",
       "</table>\n",
       "<p>4849 rows × 7 columns</p>\n",
       "</div>"
      ],
      "text/plain": [
       "          Time  PRESSURE  mavg  ewm  seasonal  trend  residual\n",
       "0     12:30:17      5.00   NaN 5.00      1.00    NaN       NaN\n",
       "1     12:30:18      5.01   NaN 5.01      1.00    NaN       NaN\n",
       "2     12:30:19      5.01   NaN 5.01      1.00    NaN       NaN\n",
       "3     12:30:20      5.01   NaN 5.01      1.00    NaN       NaN\n",
       "4     12:30:21      5.01   NaN 5.01      1.00    NaN       NaN\n",
       "...        ...       ...   ...  ...       ...    ...       ...\n",
       "4844  13:59:56      5.03  5.03 5.03      1.00    NaN       NaN\n",
       "4845  13:59:57      5.03  5.03 5.03      1.00    NaN       NaN\n",
       "4846  13:59:58      5.03  5.03 5.03      1.00    NaN       NaN\n",
       "4847  13:59:59      5.03  5.03 5.03      1.00    NaN       NaN\n",
       "4848  14:00:00      5.03  5.03 5.03      1.00    NaN       NaN\n",
       "\n",
       "[4849 rows x 7 columns]"
      ]
     },
     "execution_count": 18,
     "metadata": {},
     "output_type": "execute_result"
    }
   ],
   "source": [
    "ogauge['seasonal'] = ts_decompose.seasonal\n",
    "ogauge['trend'] = ts_decompose.trend\n",
    "ogauge['residual'] = ts_decompose.resid\n",
    "ogauge"
   ]
  },
  {
   "cell_type": "code",
   "execution_count": 19,
   "id": "3a9856ee",
   "metadata": {},
   "outputs": [
    {
     "data": {
      "text/plain": [
       "<matplotlib.legend.Legend at 0x133507a4520>"
      ]
     },
     "execution_count": 19,
     "metadata": {},
     "output_type": "execute_result"
    },
    {
     "data": {
      "image/png": "[encoded data removed]",
      "text/plain": [
       "<Figure size 1080x504 with 1 Axes>"
      ]
     },
     "metadata": {
      "needs_background": "light"
     },
     "output_type": "display_data"
    }
   ],
   "source": [
    "plt.figure( figsize=(15,7))\n",
    "plt.xlabel( \"Time\" )\n",
    "plt.ylabel( \"Pressure trends\" )\n",
    "plt.plot( ogauge['PRESSURE'][0:3000], );\n",
    "plt.plot( ogauge['trend'][0:3000]);\n",
    "plt.legend('PT')"
   ]
  },
  {
   "cell_type": "markdown",
   "id": "5d8ab410",
   "metadata": {},
   "source": [
    "### Stationarity test"
   ]
  },
  {
   "cell_type": "code",
   "execution_count": 20,
   "id": "0080112c",
   "metadata": {},
   "outputs": [],
   "source": [
    "from statsmodels.tsa.stattools import adfuller"
   ]
  },
  {
   "cell_type": "code",
   "execution_count": 21,
   "id": "b57d0aea",
   "metadata": {},
   "outputs": [],
   "source": [
    "def adfuller_test( ts ):\n",
    "    adfuller_result = adfuller( ts, autolag=None )\n",
    "    adfuller_out = pd.Series(adfuller_result[0:4], \n",
    "                         index=['Test Statistic',\n",
    "                                'p-value',\n",
    "                                'Lags Used',\n",
    "                                'Number of Observations Used'])\n",
    "    print( adfuller_out )"
   ]
  },
  {
   "cell_type": "code",
   "execution_count": 22,
   "id": "d46dfff4",
   "metadata": {},
   "outputs": [
    {
     "name": "stdout",
     "output_type": "stream",
     "text": [
      "Test Statistic                  -1.14\n",
      "p-value                          0.70\n",
      "Lags Used                       32.00\n",
      "Number of Observations Used   4816.00\n",
      "dtype: float64\n"
     ]
    }
   ],
   "source": [
    "adfuller_test(ogauge.PRESSURE)"
   ]
  },
  {
   "cell_type": "markdown",
   "id": "381dd426",
   "metadata": {},
   "source": [
    "### p value <=0.05 \n",
    "therefore we can reject the null hypothesis and can go with alternative hypothesis."
   ]
  },
  {
   "cell_type": "code",
   "execution_count": 23,
   "id": "e6ce1793",
   "metadata": {},
   "outputs": [],
   "source": [
    "def test_stationarity(timeseries):\n",
    "    \n",
    "    movingAverage = timeseries.rolling(window=12).mean()\n",
    "    #Variance is equal to the average squared deviations from the mean\n",
    "    #Standard deviation is square root of Variancs\n",
    "    movingSTD = timeseries.rolling(window=12).std()\n",
    "    \n",
    "    plt.figure( figsize=(15,7))\n",
    "    plt.xlabel( \"Time\" )\n",
    "    plt.ylabel( \"Pressure trends\" )\n",
    "    #plt.plot(timeseries, color='red', label='Original')\n",
    "    plt.plot(movingAverage, color='green', label='Rolling Mean')\n",
    "    plt.plot(movingSTD, color='BLUE', label='Rolling Std')\n",
    "    plt.legend()"
   ]
  },
  {
   "cell_type": "code",
   "execution_count": 24,
   "id": "e511714c",
   "metadata": {},
   "outputs": [
    {
     "data": {
      "image/png": "[encoded data removed]",
      "text/plain": [
       "<Figure size 1080x504 with 1 Axes>"
      ]
     },
     "metadata": {
      "needs_background": "light"
     },
     "output_type": "display_data"
    }
   ],
   "source": [
    "test_stationarity(ogauge)"
   ]
  },
  {
   "cell_type": "markdown",
   "id": "d88bae80",
   "metadata": {},
   "source": [
    "# Checking the optimal performing model "
   ]
  },
  {
   "cell_type": "code",
   "execution_count": 25,
   "id": "7eab02ef",
   "metadata": {},
   "outputs": [],
   "source": [
    "# Create Training and Test\n",
    "train = ogauge.PRESSURE[:1500]\n",
    "test = ogauge.PRESSURE[1500:]"
   ]
  },
  {
   "cell_type": "code",
   "execution_count": 26,
   "id": "0d92aa07",
   "metadata": {},
   "outputs": [
    {
     "data": {
      "text/plain": [
       "\"model = pm.auto_arima(train, start_p=1, start_q=1,\\n                      test='adf',       # use adftest to find optimal 'd'\\n                      max_p=3, max_q=3, # maximum p and q\\n                      m=1,              # frequency of series\\n                      d=None,           # let model determine 'd'\\n                      seasonal=False,   # No Seasonality\\n                      start_P=0, \\n                      D=0, \\n                      trace=True,\\n                      error_action='ignore',  \\n                      suppress_warnings=True, \\n                      stepwise=True)\\nprint(model.summary())\""
      ]
     },
     "execution_count": 26,
     "metadata": {},
     "output_type": "execute_result"
    }
   ],
   "source": [
    "from statsmodels.tsa.arima_model import ARIMA\n",
    "\n",
    "import pmdarima as pm\n",
    "\n",
    "'''model = pm.auto_arima(train, start_p=1, start_q=1,\n",
    "                      test='adf',       # use adftest to find optimal 'd'\n",
    "                      max_p=3, max_q=3, # maximum p and q\n",
    "                      m=1,              # frequency of series\n",
    "                      d=None,           # let model determine 'd'\n",
    "                      seasonal=False,   # No Seasonality\n",
    "                      start_P=0, \n",
    "                      D=0, \n",
    "                      trace=True,\n",
    "                      error_action='ignore',  \n",
    "                      suppress_warnings=True, \n",
    "                      stepwise=True)\n",
    "print(model.summary())'''"
   ]
  },
  {
   "cell_type": "code",
   "execution_count": 27,
   "id": "2661bcfa",
   "metadata": {},
   "outputs": [],
   "source": [
    "from statsmodels.tsa.arima_model import ARIMA"
   ]
  },
  {
   "cell_type": "code",
   "execution_count": 28,
   "id": "039ddb67",
   "metadata": {},
   "outputs": [
    {
     "data": {
      "text/html": [
       "<table class=\"simpletable\">\n",
       "<tr>\n",
       "        <td>Model:</td>              <td>ARIMA</td>              <td>BIC:</td>         <td>-15589.0713</td>\n",
       "</tr>\n",
       "<tr>\n",
       "  <td>Dependent Variable:</td>    <td>D.PRESSURE</td>       <td>Log-Likelihood:</td>     <td>7809.2</td>   \n",
       "</tr>\n",
       "<tr>\n",
       "         <td>Date:</td>        <td>2022-01-01 16:46</td>        <td>Scale:</td>          <td>1.0000</td>   \n",
       "</tr>\n",
       "<tr>\n",
       "   <td>No. Observations:</td>        <td>1499</td>              <td>Method:</td>         <td>css-mle</td>  \n",
       "</tr>\n",
       "<tr>\n",
       "       <td>Df Model:</td>              <td>3</td>               <td>Sample:</td>            <td>1</td>     \n",
       "</tr>\n",
       "<tr>\n",
       "     <td>Df Residuals:</td>          <td>1496</td>                 <td></td>                <td>0</td>     \n",
       "</tr>\n",
       "<tr>\n",
       "      <td>Converged:</td>           <td>1.0000</td>      <td>S.D. of innovations:</td>    <td>0.001</td>   \n",
       "</tr>\n",
       "<tr>\n",
       "    <td>No. Iterations:</td>        <td>32.0000</td>             <td>HQIC:</td>        <td>-15602.405</td> \n",
       "</tr>\n",
       "<tr>\n",
       "         <td>AIC:</td>            <td>-15610.3215</td>             <td></td>                <td></td>      \n",
       "</tr>\n",
       "</table>\n",
       "<table class=\"simpletable\">\n",
       "<tr>\n",
       "          <td></td>          <th>Coef.</th>  <th>Std.Err.</th>     <th>t</th>     <th>P>|t|</th> <th>[0.025</th>  <th>0.975]</th> \n",
       "</tr>\n",
       "<tr>\n",
       "  <th>const</th>            <td>0.0000</td>   <td>0.0000</td>   <td>2.7521</td>  <td>0.0059</td> <td>0.0000</td>  <td>0.0001</td> \n",
       "</tr>\n",
       "<tr>\n",
       "  <th>ma.L1.D.PRESSURE</th> <td>-0.6462</td>  <td>0.0269</td>  <td>-24.0610</td> <td>0.0000</td> <td>-0.6988</td> <td>-0.5936</td>\n",
       "</tr>\n",
       "<tr>\n",
       "  <th>ma.L2.D.PRESSURE</th> <td>0.0198</td>   <td>0.0260</td>   <td>0.7586</td>  <td>0.4481</td> <td>-0.0313</td> <td>0.0708</td> \n",
       "</tr>\n",
       "</table>\n",
       "<table class=\"simpletable\">\n",
       "<tr>\n",
       "    <td></td>    <th>Real</th>   <th>Imaginary</th> <th>Modulus</th> <th>Frequency</th>\n",
       "</tr>\n",
       "<tr>\n",
       "  <th>MA.1</th> <td>1.6286</td>   <td>0.0000</td>   <td>1.6286</td>   <td>0.0000</td>  \n",
       "</tr>\n",
       "<tr>\n",
       "  <th>MA.2</th> <td>31.0863</td>  <td>0.0000</td>   <td>31.0863</td>  <td>0.0000</td>  \n",
       "</tr>\n",
       "</table>"
      ],
      "text/plain": [
       "<class 'statsmodels.iolib.summary2.Summary'>\n",
       "\"\"\"\n",
       "                           Results: ARIMA\n",
       "=====================================================================\n",
       "Model:              ARIMA            BIC:                 -15589.0713\n",
       "Dependent Variable: D.PRESSURE       Log-Likelihood:      7809.2     \n",
       "Date:               2022-01-01 16:46 Scale:               1.0000     \n",
       "No. Observations:   1499             Method:              css-mle    \n",
       "Df Model:           3                Sample:              1          \n",
       "Df Residuals:       1496                                  0          \n",
       "Converged:          1.0000           S.D. of innovations: 0.001      \n",
       "No. Iterations:     32.0000          HQIC:                -15602.405 \n",
       "AIC:                -15610.3215                                      \n",
       "---------------------------------------------------------------------\n",
       "                      Coef.  Std.Err.    t     P>|t|   [0.025  0.975]\n",
       "---------------------------------------------------------------------\n",
       "const                 0.0000   0.0000   2.7521 0.0059  0.0000  0.0001\n",
       "ma.L1.D.PRESSURE     -0.6462   0.0269 -24.0610 0.0000 -0.6988 -0.5936\n",
       "ma.L2.D.PRESSURE      0.0198   0.0260   0.7586 0.4481 -0.0313  0.0708\n",
       "------------------------------------------------------------------------------\n",
       "                  Real           Imaginary          Modulus          Frequency\n",
       "------------------------------------------------------------------------------\n",
       "MA.1             1.6286             0.0000           1.6286             0.0000\n",
       "MA.2            31.0863             0.0000          31.0863             0.0000\n",
       "=====================================================================\n",
       "\n",
       "\"\"\""
      ]
     },
     "execution_count": 28,
     "metadata": {},
     "output_type": "execute_result"
    }
   ],
   "source": [
    "arima = ARIMA( train, \n",
    "              order = (0,1,2))\n",
    "autoarima_model = arima.fit()\n",
    "autoarima_model.summary2()"
   ]
  },
  {
   "cell_type": "code",
   "execution_count": 29,
   "id": "0867c29a",
   "metadata": {},
   "outputs": [],
   "source": [
    "fc, se, conf = autoarima_model.forecast(1304, alpha=0.05)"
   ]
  },
  {
   "cell_type": "code",
   "execution_count": 30,
   "id": "926ea3cb",
   "metadata": {},
   "outputs": [
    {
     "ename": "ValueError",
     "evalue": "Length of passed values is 1304, index implies 3349.",
     "output_type": "error",
     "traceback": [
      "\u001b[1;31m---------------------------------------------------------------------------\u001b[0m",
      "\u001b[1;31mValueError\u001b[0m                                Traceback (most recent call last)",
      "\u001b[1;32m<ipython-input-30-fe8533d9bfcc>\u001b[0m in \u001b[0;36m<module>\u001b[1;34m\u001b[0m\n\u001b[0;32m      1\u001b[0m \u001b[1;31m# Make as pandas series\u001b[0m\u001b[1;33m\u001b[0m\u001b[1;33m\u001b[0m\u001b[1;33m\u001b[0m\u001b[0m\n\u001b[1;32m----> 2\u001b[1;33m \u001b[0mfc_series\u001b[0m \u001b[1;33m=\u001b[0m \u001b[0mpd\u001b[0m\u001b[1;33m.\u001b[0m\u001b[0mSeries\u001b[0m\u001b[1;33m(\u001b[0m\u001b[0mfc\u001b[0m\u001b[1;33m,\u001b[0m \u001b[0mindex\u001b[0m\u001b[1;33m=\u001b[0m\u001b[0mtest\u001b[0m\u001b[1;33m.\u001b[0m\u001b[0mindex\u001b[0m\u001b[1;33m)\u001b[0m\u001b[1;33m\u001b[0m\u001b[1;33m\u001b[0m\u001b[0m\n\u001b[0m\u001b[0;32m      3\u001b[0m \u001b[0mlower_series\u001b[0m \u001b[1;33m=\u001b[0m \u001b[0mpd\u001b[0m\u001b[1;33m.\u001b[0m\u001b[0mSeries\u001b[0m\u001b[1;33m(\u001b[0m\u001b[0mconf\u001b[0m\u001b[1;33m[\u001b[0m\u001b[1;33m:\u001b[0m\u001b[1;33m,\u001b[0m \u001b[1;36m0\u001b[0m\u001b[1;33m]\u001b[0m\u001b[1;33m,\u001b[0m \u001b[0mindex\u001b[0m\u001b[1;33m=\u001b[0m\u001b[0mtest\u001b[0m\u001b[1;33m.\u001b[0m\u001b[0mindex\u001b[0m\u001b[1;33m)\u001b[0m\u001b[1;33m\u001b[0m\u001b[1;33m\u001b[0m\u001b[0m\n\u001b[0;32m      4\u001b[0m \u001b[0mupper_series\u001b[0m \u001b[1;33m=\u001b[0m \u001b[0mpd\u001b[0m\u001b[1;33m.\u001b[0m\u001b[0mSeries\u001b[0m\u001b[1;33m(\u001b[0m\u001b[0mconf\u001b[0m\u001b[1;33m[\u001b[0m\u001b[1;33m:\u001b[0m\u001b[1;33m,\u001b[0m \u001b[1;36m1\u001b[0m\u001b[1;33m]\u001b[0m\u001b[1;33m,\u001b[0m \u001b[0mindex\u001b[0m\u001b[1;33m=\u001b[0m\u001b[0mtest\u001b[0m\u001b[1;33m.\u001b[0m\u001b[0mindex\u001b[0m\u001b[1;33m)\u001b[0m\u001b[1;33m\u001b[0m\u001b[1;33m\u001b[0m\u001b[0m\n",
      "\u001b[1;32m~\\anaconda3\\lib\\site-packages\\pandas\\core\\series.py\u001b[0m in \u001b[0;36m__init__\u001b[1;34m(self, data, index, dtype, name, copy, fastpath)\u001b[0m\n\u001b[0;32m    348\u001b[0m                 \u001b[1;32mtry\u001b[0m\u001b[1;33m:\u001b[0m\u001b[1;33m\u001b[0m\u001b[1;33m\u001b[0m\u001b[0m\n\u001b[0;32m    349\u001b[0m                     \u001b[1;32mif\u001b[0m \u001b[0mlen\u001b[0m\u001b[1;33m(\u001b[0m\u001b[0mindex\u001b[0m\u001b[1;33m)\u001b[0m \u001b[1;33m!=\u001b[0m \u001b[0mlen\u001b[0m\u001b[1;33m(\u001b[0m\u001b[0mdata\u001b[0m\u001b[1;33m)\u001b[0m\u001b[1;33m:\u001b[0m\u001b[1;33m\u001b[0m\u001b[1;33m\u001b[0m\u001b[0m\n\u001b[1;32m--> 350\u001b[1;33m                         raise ValueError(\n\u001b[0m\u001b[0;32m    351\u001b[0m                             \u001b[1;34mf\"Length of passed values is {len(data)}, \"\u001b[0m\u001b[1;33m\u001b[0m\u001b[1;33m\u001b[0m\u001b[0m\n\u001b[0;32m    352\u001b[0m                             \u001b[1;34mf\"index implies {len(index)}.\"\u001b[0m\u001b[1;33m\u001b[0m\u001b[1;33m\u001b[0m\u001b[0m\n",
      "\u001b[1;31mValueError\u001b[0m: Length of passed values is 1304, index implies 3349."
     ]
    }
   ],
   "source": [
    "# Make as pandas series\n",
    "fc_series = pd.Series(fc, index=test.index)\n",
    "lower_series = pd.Series(conf[:, 0], index=test.index)\n",
    "upper_series = pd.Series(conf[:, 1], index=test.index)"
   ]
  },
  {
   "cell_type": "code",
   "execution_count": null,
   "id": "c05bd2c0",
   "metadata": {},
   "outputs": [],
   "source": [
    "plt.figure(figsize=(12,5), dpi=100)\n",
    "plt.plot(train, label='training')\n",
    "plt.plot(test, label='actual')\n",
    "plt.plot(fc_series, label='forecast')\n",
    "plt.fill_between(lower_series.index, lower_series, upper_series, \n",
    "                 color='k', alpha=.15)\n",
    "plt.title('Forecast vs Actuals')\n",
    "plt.legend(loc='upper left', fontsize=8)\n",
    "plt.show()"
   ]
  },
  {
   "cell_type": "code",
   "execution_count": null,
   "id": "c3de3fcf",
   "metadata": {},
   "outputs": [],
   "source": [
    "fc"
   ]
  },
  {
   "cell_type": "markdown",
   "id": "789d0fac",
   "metadata": {},
   "source": [
    "### Checking forecast accuracy"
   ]
  },
  {
   "cell_type": "code",
   "execution_count": null,
   "id": "5423c7b2",
   "metadata": {},
   "outputs": [],
   "source": [
    "from statsmodels.graphics.tsaplots import plot_acf, plot_pacf, acf"
   ]
  },
  {
   "cell_type": "code",
   "execution_count": null,
   "id": "ecc3dd54",
   "metadata": {},
   "outputs": [],
   "source": [
    "def forecast_accuracy(forecast, actual):\n",
    "    mape = np.mean(np.abs(forecast - actual)/np.abs(actual))  # MAPE\n",
    "    me = np.mean(forecast - actual)             # ME\n",
    "    mae = np.mean(np.abs(forecast - actual))    # MAE\n",
    "    mpe = np.mean((forecast - actual)/actual)   # MPE\n",
    "    rmse = np.mean((forecast - actual)**2)**.5  # RMSE\n",
    "    corr = np.corrcoef(forecast, actual)[0,1]   # corr\n",
    "    mins = np.amin(np.hstack([forecast[:,None], \n",
    "                              actual[:,None]]), axis=1)\n",
    "    maxs = np.amax(np.hstack([forecast[:,None], \n",
    "                              actual[:,None]]), axis=1)\n",
    "    minmax = 1 - np.mean(mins/maxs)             # minmax\n",
    "    acf1 = acf(fc-test)[1]                      # ACF1\n",
    "    return({'mape':mape, 'me':me, 'mae': mae, \n",
    "            'mpe': mpe, 'rmse':rmse, 'acf1':acf1, \n",
    "            'corr':corr, 'minmax':minmax})\n",
    "\n",
    "forecast_accuracy(fc, test.values)"
   ]
  },
  {
   "cell_type": "code",
   "execution_count": 31,
   "id": "58a23527",
   "metadata": {},
   "outputs": [
    {
     "ename": "NameError",
     "evalue": "name 'plot_acf' is not defined",
     "output_type": "error",
     "traceback": [
      "\u001b[1;31m---------------------------------------------------------------------------\u001b[0m",
      "\u001b[1;31mNameError\u001b[0m                                 Traceback (most recent call last)",
      "\u001b[1;32m<ipython-input-31-f46bb187b4d6>\u001b[0m in \u001b[0;36m<module>\u001b[1;34m\u001b[0m\n\u001b[1;32m----> 1\u001b[1;33m \u001b[0macf_plot\u001b[0m \u001b[1;33m=\u001b[0m \u001b[0mplot_acf\u001b[0m\u001b[1;33m(\u001b[0m \u001b[0mogauge\u001b[0m\u001b[1;33m.\u001b[0m\u001b[0mPRESSURE\u001b[0m\u001b[1;33m,\u001b[0m\u001b[0mlags\u001b[0m\u001b[1;33m=\u001b[0m\u001b[1;36m20\u001b[0m\u001b[1;33m)\u001b[0m\u001b[1;33m\u001b[0m\u001b[1;33m\u001b[0m\u001b[0m\n\u001b[0m",
      "\u001b[1;31mNameError\u001b[0m: name 'plot_acf' is not defined"
     ]
    }
   ],
   "source": [
    "acf_plot = plot_acf( ogauge.PRESSURE,lags=20)"
   ]
  },
  {
   "cell_type": "code",
   "execution_count": 32,
   "id": "4e63bb7d",
   "metadata": {},
   "outputs": [
    {
     "ename": "NameError",
     "evalue": "name 'plot_pacf' is not defined",
     "output_type": "error",
     "traceback": [
      "\u001b[1;31m---------------------------------------------------------------------------\u001b[0m",
      "\u001b[1;31mNameError\u001b[0m                                 Traceback (most recent call last)",
      "\u001b[1;32m<ipython-input-32-161755a89a02>\u001b[0m in \u001b[0;36m<module>\u001b[1;34m\u001b[0m\n\u001b[1;32m----> 1\u001b[1;33m \u001b[0mpacf_plot\u001b[0m \u001b[1;33m=\u001b[0m \u001b[0mplot_pacf\u001b[0m\u001b[1;33m(\u001b[0m \u001b[0mogauge\u001b[0m\u001b[1;33m.\u001b[0m\u001b[0mPRESSURE\u001b[0m\u001b[1;33m,\u001b[0m \u001b[0mlags\u001b[0m\u001b[1;33m=\u001b[0m\u001b[1;36m15\u001b[0m \u001b[1;33m)\u001b[0m\u001b[1;33m\u001b[0m\u001b[1;33m\u001b[0m\u001b[0m\n\u001b[0m",
      "\u001b[1;31mNameError\u001b[0m: name 'plot_pacf' is not defined"
     ]
    }
   ],
   "source": [
    "pacf_plot = plot_pacf( ogauge.PRESSURE, lags=15 )"
   ]
  },
  {
   "cell_type": "code",
   "execution_count": 33,
   "id": "5ccc986f",
   "metadata": {},
   "outputs": [
    {
     "ename": "ValueError",
     "evalue": "operands could not be broadcast together with shapes (3349,) (1304,) ",
     "output_type": "error",
     "traceback": [
      "\u001b[1;31m---------------------------------------------------------------------------\u001b[0m",
      "\u001b[1;31mValueError\u001b[0m                                Traceback (most recent call last)",
      "\u001b[1;32m<ipython-input-33-17cde885f048>\u001b[0m in \u001b[0;36m<module>\u001b[1;34m\u001b[0m\n\u001b[1;32m----> 1\u001b[1;33m \u001b[0mget_mape\u001b[0m\u001b[1;33m(\u001b[0m\u001b[0mtest\u001b[0m\u001b[1;33m.\u001b[0m\u001b[0mvalues\u001b[0m\u001b[1;33m,\u001b[0m\u001b[0mfc\u001b[0m\u001b[1;33m)\u001b[0m\u001b[1;33m\u001b[0m\u001b[1;33m\u001b[0m\u001b[0m\n\u001b[0m",
      "\u001b[1;32m<ipython-input-9-5da9a5b97fd4>\u001b[0m in \u001b[0;36mget_mape\u001b[1;34m(actual, predicted)\u001b[0m\n\u001b[0;32m      1\u001b[0m \u001b[1;32mdef\u001b[0m \u001b[0mget_mape\u001b[0m\u001b[1;33m(\u001b[0m\u001b[0mactual\u001b[0m\u001b[1;33m,\u001b[0m \u001b[0mpredicted\u001b[0m\u001b[1;33m)\u001b[0m\u001b[1;33m:\u001b[0m\u001b[1;33m\u001b[0m\u001b[1;33m\u001b[0m\u001b[0m\n\u001b[0;32m      2\u001b[0m     \u001b[0my_true\u001b[0m\u001b[1;33m,\u001b[0m \u001b[0my_pred\u001b[0m \u001b[1;33m=\u001b[0m \u001b[0mnp\u001b[0m\u001b[1;33m.\u001b[0m\u001b[0marray\u001b[0m\u001b[1;33m(\u001b[0m\u001b[0mactual\u001b[0m\u001b[1;33m)\u001b[0m\u001b[1;33m,\u001b[0m \u001b[0mnp\u001b[0m\u001b[1;33m.\u001b[0m\u001b[0marray\u001b[0m\u001b[1;33m(\u001b[0m\u001b[0mpredicted\u001b[0m\u001b[1;33m)\u001b[0m\u001b[1;33m\u001b[0m\u001b[1;33m\u001b[0m\u001b[0m\n\u001b[1;32m----> 3\u001b[1;33m     \u001b[1;32mreturn\u001b[0m \u001b[0mnp\u001b[0m\u001b[1;33m.\u001b[0m\u001b[0mround\u001b[0m\u001b[1;33m(\u001b[0m \u001b[0mnp\u001b[0m\u001b[1;33m.\u001b[0m\u001b[0mmean\u001b[0m\u001b[1;33m(\u001b[0m\u001b[0mnp\u001b[0m\u001b[1;33m.\u001b[0m\u001b[0mabs\u001b[0m\u001b[1;33m(\u001b[0m\u001b[1;33m(\u001b[0m\u001b[0mactual\u001b[0m \u001b[1;33m-\u001b[0m \u001b[0mpredicted\u001b[0m\u001b[1;33m)\u001b[0m \u001b[1;33m/\u001b[0m \u001b[0mactual\u001b[0m\u001b[1;33m)\u001b[0m\u001b[1;33m)\u001b[0m \u001b[1;33m*\u001b[0m \u001b[1;36m100\u001b[0m\u001b[1;33m,\u001b[0m \u001b[1;36m2\u001b[0m \u001b[1;33m)\u001b[0m\u001b[1;33m\u001b[0m\u001b[1;33m\u001b[0m\u001b[0m\n\u001b[0m\u001b[0;32m      4\u001b[0m \u001b[1;33m\u001b[0m\u001b[0m\n\u001b[0;32m      5\u001b[0m get_mape( ogauge['PRESSURE'][40:].values, \n",
      "\u001b[1;31mValueError\u001b[0m: operands could not be broadcast together with shapes (3349,) (1304,) "
     ]
    }
   ],
   "source": [
    "get_mape(test.values,fc)"
   ]
  },
  {
   "cell_type": "code",
   "execution_count": null,
   "id": "034adcdd",
   "metadata": {},
   "outputs": [],
   "source": []
  },
  {
   "cell_type": "code",
   "execution_count": null,
   "id": "068f736a",
   "metadata": {},
   "outputs": [],
   "source": []
  },
  {
   "cell_type": "code",
   "execution_count": null,
   "id": "414a02eb",
   "metadata": {},
   "outputs": [],
   "source": []
  }
 ],
 "metadata": {
  "kernelspec": {
   "display_name": "Python 3",
   "language": "python",
   "name": "python3"
  },
  "language_info": {
   "codemirror_mode": {
    "name": "ipython",
    "version": 3
   },
   "file_extension": ".py",
   "mimetype": "text/x-python",
   "name": "python",
   "nbconvert_exporter": "python",
   "pygments_lexer": "ipython3",
   "version": "3.8.8"
  }
 },
 "nbformat": 4,
 "nbformat_minor": 5
}
