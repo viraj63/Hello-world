{
 "cells": [
  {
   "cell_type": "code",
   "execution_count": 83,
   "id": "2ff1be44",
   "metadata": {
    "scrolled": true
   },
   "outputs": [],
   "source": [
    "import pandas as pd\n",
    "import numpy as np"
   ]
  },
  {
   "cell_type": "code",
   "execution_count": 118,
   "id": "da0d6696",
   "metadata": {},
   "outputs": [
    {
     "name": "stdout",
     "output_type": "stream",
     "text": [
      "          PRESSURE\n",
      "Time              \n",
      "15:48:59     5.010\n",
      "15:49:00     5.012\n",
      "15:49:01     5.010\n",
      "15:49:02     5.008\n",
      "15:49:03     5.009\n",
      "...            ...\n",
      "17:21:49     5.018\n",
      "17:21:50     5.020\n",
      "17:21:51     5.018\n",
      "17:21:52     5.020\n",
      "17:21:53     5.021\n",
      "\n",
      "[5573 rows x 1 columns]\n"
     ]
    }
   ],
   "source": [
    "series=pd.read_excel(r'C:\\Users\\Ronny\\Desktop\\ogauge_new\\Ranging 46 for 5 leak.xlsx', header=0, index_col=0)\n",
    "print(series)"
   ]
  },
  {
   "cell_type": "code",
   "execution_count": 119,
   "id": "e7bbdc16",
   "metadata": {},
   "outputs": [
    {
     "data": {
      "text/html": [
       "<div>\n",
       "<style scoped>\n",
       "    .dataframe tbody tr th:only-of-type {\n",
       "        vertical-align: middle;\n",
       "    }\n",
       "\n",
       "    .dataframe tbody tr th {\n",
       "        vertical-align: top;\n",
       "    }\n",
       "\n",
       "    .dataframe thead th {\n",
       "        text-align: right;\n",
       "    }\n",
       "</style>\n",
       "<table border=\"1\" class=\"dataframe\">\n",
       "  <thead>\n",
       "    <tr style=\"text-align: right;\">\n",
       "      <th></th>\n",
       "      <th>PRESSURE</th>\n",
       "    </tr>\n",
       "  </thead>\n",
       "  <tbody>\n",
       "    <tr>\n",
       "      <th>count</th>\n",
       "      <td>5573.000000</td>\n",
       "    </tr>\n",
       "    <tr>\n",
       "      <th>mean</th>\n",
       "      <td>4.992682</td>\n",
       "    </tr>\n",
       "    <tr>\n",
       "      <th>std</th>\n",
       "      <td>0.030823</td>\n",
       "    </tr>\n",
       "    <tr>\n",
       "      <th>min</th>\n",
       "      <td>4.906000</td>\n",
       "    </tr>\n",
       "    <tr>\n",
       "      <th>25%</th>\n",
       "      <td>4.970000</td>\n",
       "    </tr>\n",
       "    <tr>\n",
       "      <th>50%</th>\n",
       "      <td>4.997000</td>\n",
       "    </tr>\n",
       "    <tr>\n",
       "      <th>75%</th>\n",
       "      <td>5.017000</td>\n",
       "    </tr>\n",
       "    <tr>\n",
       "      <th>max</th>\n",
       "      <td>5.057000</td>\n",
       "    </tr>\n",
       "  </tbody>\n",
       "</table>\n",
       "</div>"
      ],
      "text/plain": [
       "          PRESSURE\n",
       "count  5573.000000\n",
       "mean      4.992682\n",
       "std       0.030823\n",
       "min       4.906000\n",
       "25%       4.970000\n",
       "50%       4.997000\n",
       "75%       5.017000\n",
       "max       5.057000"
      ]
     },
     "execution_count": 119,
     "metadata": {},
     "output_type": "execute_result"
    }
   ],
   "source": [
    "series.describe()"
   ]
  },
  {
   "cell_type": "code",
   "execution_count": 120,
   "id": "64fc4a17",
   "metadata": {},
   "outputs": [],
   "source": [
    "x=series['PRESSURE']"
   ]
  },
  {
   "cell_type": "code",
   "execution_count": 121,
   "id": "6cf6a16b",
   "metadata": {},
   "outputs": [
    {
     "data": {
      "text/plain": [
       "4.992681679526276"
      ]
     },
     "execution_count": 121,
     "metadata": {},
     "output_type": "execute_result"
    }
   ],
   "source": [
    "np.mean(x)"
   ]
  },
  {
   "cell_type": "code",
   "execution_count": 122,
   "id": "064d03b6",
   "metadata": {},
   "outputs": [
    {
     "data": {
      "text/plain": [
       "4.997"
      ]
     },
     "execution_count": 122,
     "metadata": {},
     "output_type": "execute_result"
    }
   ],
   "source": [
    "np.median(x)"
   ]
  },
  {
   "cell_type": "code",
   "execution_count": 123,
   "id": "0a9e9c6e",
   "metadata": {},
   "outputs": [
    {
     "data": {
      "text/plain": [
       "ModeResult(mode=array([5.009]), count=array([118]))"
      ]
     },
     "execution_count": 123,
     "metadata": {},
     "output_type": "execute_result"
    }
   ],
   "source": [
    "import scipy\n",
    "from scipy import stats\n",
    "stats.mode(x)"
   ]
  },
  {
   "cell_type": "markdown",
   "id": "af0d759f",
   "metadata": {},
   "source": [
    "### Percentile"
   ]
  },
  {
   "cell_type": "code",
   "execution_count": 124,
   "id": "e755cc07",
   "metadata": {},
   "outputs": [
    {
     "name": "stdout",
     "output_type": "stream",
     "text": [
      "4.97\n"
     ]
    }
   ],
   "source": [
    "q1=np.percentile(x,25)\n",
    "print(q1)"
   ]
  },
  {
   "cell_type": "code",
   "execution_count": 125,
   "id": "0733b24f",
   "metadata": {},
   "outputs": [
    {
     "name": "stdout",
     "output_type": "stream",
     "text": [
      "5.017\n"
     ]
    }
   ],
   "source": [
    "q3=np.percentile(x,75)\n",
    "print(q3)"
   ]
  },
  {
   "cell_type": "code",
   "execution_count": 126,
   "id": "d9f347a2",
   "metadata": {},
   "outputs": [],
   "source": [
    "def range(data):\n",
    "    min_val=min(x)\n",
    "    max_val=max(x)\n",
    "    \n",
    "    return (max_val - min_val)"
   ]
  },
  {
   "cell_type": "code",
   "execution_count": 127,
   "id": "7328df40",
   "metadata": {},
   "outputs": [
    {
     "data": {
      "text/plain": [
       "0.1510000000000007"
      ]
     },
     "execution_count": 127,
     "metadata": {},
     "output_type": "execute_result"
    }
   ],
   "source": [
    "range(x)"
   ]
  },
  {
   "cell_type": "code",
   "execution_count": 128,
   "id": "3ddb8006",
   "metadata": {},
   "outputs": [
    {
     "data": {
      "text/plain": [
       "0.0470000000000006"
      ]
     },
     "execution_count": 128,
     "metadata": {},
     "output_type": "execute_result"
    }
   ],
   "source": [
    "IQ_range = q3-q1\n",
    "IQ_range"
   ]
  },
  {
   "cell_type": "markdown",
   "id": "dcb6528c",
   "metadata": {},
   "source": [
    "### Variance of mean or population "
   ]
  },
  {
   "cell_type": "code",
   "execution_count": 129,
   "id": "adc89b7a",
   "metadata": {},
   "outputs": [
    {
     "data": {
      "text/plain": [
       "(0.0009500870961018714, 0.03082348286780505)"
      ]
     },
     "execution_count": 129,
     "metadata": {},
     "output_type": "execute_result"
    }
   ],
   "source": [
    "from statistics import variance, pvariance, stdev, pstdev\n",
    "#calculate sample variance(n-1)\n",
    "variance(x), stdev(x)"
   ]
  },
  {
   "cell_type": "code",
   "execution_count": 130,
   "id": "c35742fa",
   "metadata": {},
   "outputs": [
    {
     "data": {
      "text/plain": [
       "(0.0009499166157329315, 0.030820717313731223)"
      ]
     },
     "execution_count": 130,
     "metadata": {},
     "output_type": "execute_result"
    }
   ],
   "source": [
    "#calculate population variance(N)\n",
    "pvariance(x), pstdev(x)"
   ]
  },
  {
   "cell_type": "code",
   "execution_count": 131,
   "id": "0b7c6d30",
   "metadata": {},
   "outputs": [
    {
     "data": {
      "text/plain": [
       "(0.0009499166157329237, 0.030820717313731094)"
      ]
     },
     "execution_count": 131,
     "metadata": {},
     "output_type": "execute_result"
    }
   ],
   "source": [
    "#Population Var and Std using numpy\n",
    "np.var(x), np.std(x)"
   ]
  },
  {
   "cell_type": "markdown",
   "id": "4310890f",
   "metadata": {},
   "source": [
    "### Skewness"
   ]
  },
  {
   "cell_type": "code",
   "execution_count": 132,
   "id": "d6a614cb",
   "metadata": {},
   "outputs": [],
   "source": [
    "from scipy.stats import skew"
   ]
  },
  {
   "cell_type": "code",
   "execution_count": 133,
   "id": "02add2bd",
   "metadata": {},
   "outputs": [
    {
     "data": {
      "text/plain": [
       "-0.4067084584941086"
      ]
     },
     "execution_count": 133,
     "metadata": {},
     "output_type": "execute_result"
    }
   ],
   "source": [
    "skew(x)"
   ]
  },
  {
   "cell_type": "code",
   "execution_count": 134,
   "id": "675a3741",
   "metadata": {},
   "outputs": [],
   "source": [
    "#Since negative value left skewed data"
   ]
  },
  {
   "cell_type": "code",
   "execution_count": 135,
   "id": "62192747",
   "metadata": {},
   "outputs": [
    {
     "data": {
      "image/png": "[encoded data removed]",
      "text/plain": [
       "<Figure size 432x288 with 1 Axes>"
      ]
     },
     "metadata": {
      "needs_background": "light"
     },
     "output_type": "display_data"
    }
   ],
   "source": [
    "from matplotlib import pyplot as plt\n",
    "plt.boxplot(x, sym='*')\n",
    "plt.show()"
   ]
  },
  {
   "cell_type": "code",
   "execution_count": null,
   "id": "6a9d48fd",
   "metadata": {},
   "outputs": [],
   "source": []
  },
  {
   "cell_type": "code",
   "execution_count": null,
   "id": "7544dce5",
   "metadata": {},
   "outputs": [],
   "source": []
  }
 ],
 "metadata": {
  "kernelspec": {
   "display_name": "Python 3",
   "language": "python",
   "name": "python3"
  },
  "language_info": {
   "codemirror_mode": {
    "name": "ipython",
    "version": 3
   },
   "file_extension": ".py",
   "mimetype": "text/x-python",
   "name": "python",
   "nbconvert_exporter": "python",
   "pygments_lexer": "ipython3",
   "version": "3.8.8"
  }
 },
 "nbformat": 4,
 "nbformat_minor": 5
}
