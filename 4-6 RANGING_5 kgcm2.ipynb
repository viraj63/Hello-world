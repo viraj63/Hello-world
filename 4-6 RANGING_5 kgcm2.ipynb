{
 "cells": [
  {
   "cell_type": "code",
   "execution_count": 37,
   "id": "bbf0cffc",
   "metadata": {},
   "outputs": [],
   "source": [
    "import warnings\n",
    "warnings.filterwarnings('ignore')"
   ]
  },
  {
   "cell_type": "code",
   "execution_count": 38,
   "id": "f3eed813",
   "metadata": {},
   "outputs": [],
   "source": [
    "%matplotlib inline\n",
    "import pandas as pd\n",
    "import numpy as np\n",
    "import matplotlib.pyplot as plt\n",
    "import seaborn as sn\n",
    "import statsmodels\n",
    "import sklearn.metrics"
   ]
  },
  {
   "cell_type": "code",
   "execution_count": 39,
   "id": "e203cc47",
   "metadata": {},
   "outputs": [],
   "source": [
    "ogauge = pd.read_excel(r'C:\\Users\\Ronny\\Desktop\\Project_2022\\Ogauge_testing\\Ranging46_5bar.xls')"
   ]
  },
  {
   "cell_type": "code",
   "execution_count": 40,
   "id": "83b06fef",
   "metadata": {},
   "outputs": [
    {
     "data": {
      "text/html": [
       "<div>\n",
       "<style scoped>\n",
       "    .dataframe tbody tr th:only-of-type {\n",
       "        vertical-align: middle;\n",
       "    }\n",
       "\n",
       "    .dataframe tbody tr th {\n",
       "        vertical-align: top;\n",
       "    }\n",
       "\n",
       "    .dataframe thead th {\n",
       "        text-align: right;\n",
       "    }\n",
       "</style>\n",
       "<table border=\"1\" class=\"dataframe\">\n",
       "  <thead>\n",
       "    <tr style=\"text-align: right;\">\n",
       "      <th></th>\n",
       "      <th>Time</th>\n",
       "      <th>PRESSURE</th>\n",
       "    </tr>\n",
       "  </thead>\n",
       "  <tbody>\n",
       "    <tr>\n",
       "      <th>0</th>\n",
       "      <td>13:00:02</td>\n",
       "      <td>5.02</td>\n",
       "    </tr>\n",
       "    <tr>\n",
       "      <th>1</th>\n",
       "      <td>13:00:03</td>\n",
       "      <td>5.01</td>\n",
       "    </tr>\n",
       "    <tr>\n",
       "      <th>2</th>\n",
       "      <td>13:00:04</td>\n",
       "      <td>5.02</td>\n",
       "    </tr>\n",
       "    <tr>\n",
       "      <th>3</th>\n",
       "      <td>13:00:05</td>\n",
       "      <td>5.02</td>\n",
       "    </tr>\n",
       "    <tr>\n",
       "      <th>4</th>\n",
       "      <td>13:00:06</td>\n",
       "      <td>5.02</td>\n",
       "    </tr>\n",
       "    <tr>\n",
       "      <th>...</th>\n",
       "      <td>...</td>\n",
       "      <td>...</td>\n",
       "    </tr>\n",
       "    <tr>\n",
       "      <th>2734</th>\n",
       "      <td>13:59:49</td>\n",
       "      <td>5.01</td>\n",
       "    </tr>\n",
       "    <tr>\n",
       "      <th>2735</th>\n",
       "      <td>13:59:50</td>\n",
       "      <td>5.01</td>\n",
       "    </tr>\n",
       "    <tr>\n",
       "      <th>2736</th>\n",
       "      <td>13:59:51</td>\n",
       "      <td>5.01</td>\n",
       "    </tr>\n",
       "    <tr>\n",
       "      <th>2737</th>\n",
       "      <td>13:59:52</td>\n",
       "      <td>5.01</td>\n",
       "    </tr>\n",
       "    <tr>\n",
       "      <th>2738</th>\n",
       "      <td>13:59:53</td>\n",
       "      <td>5.01</td>\n",
       "    </tr>\n",
       "  </tbody>\n",
       "</table>\n",
       "<p>2739 rows × 2 columns</p>\n",
       "</div>"
      ],
      "text/plain": [
       "          Time  PRESSURE\n",
       "0     13:00:02      5.02\n",
       "1     13:00:03      5.01\n",
       "2     13:00:04      5.02\n",
       "3     13:00:05      5.02\n",
       "4     13:00:06      5.02\n",
       "...        ...       ...\n",
       "2734  13:59:49      5.01\n",
       "2735  13:59:50      5.01\n",
       "2736  13:59:51      5.01\n",
       "2737  13:59:52      5.01\n",
       "2738  13:59:53      5.01\n",
       "\n",
       "[2739 rows x 2 columns]"
      ]
     },
     "execution_count": 40,
     "metadata": {},
     "output_type": "execute_result"
    }
   ],
   "source": [
    "ogauge.head(-5)"
   ]
  },
  {
   "cell_type": "code",
   "execution_count": 41,
   "id": "17308538",
   "metadata": {},
   "outputs": [
    {
     "name": "stdout",
     "output_type": "stream",
     "text": [
      "<class 'pandas.core.frame.DataFrame'>\n",
      "RangeIndex: 2744 entries, 0 to 2743\n",
      "Data columns (total 2 columns):\n",
      " #   Column    Non-Null Count  Dtype  \n",
      "---  ------    --------------  -----  \n",
      " 0   Time      2744 non-null   object \n",
      " 1   PRESSURE  2744 non-null   float64\n",
      "dtypes: float64(1), object(1)\n",
      "memory usage: 43.0+ KB\n"
     ]
    }
   ],
   "source": [
    "ogauge.info()"
   ]
  },
  {
   "cell_type": "markdown",
   "id": "4583046b",
   "metadata": {},
   "source": [
    "### Forecasting using Moving Average"
   ]
  },
  {
   "cell_type": "code",
   "execution_count": 42,
   "id": "f9164b19",
   "metadata": {},
   "outputs": [
    {
     "data": {
      "text/html": [
       "<div>\n",
       "<style scoped>\n",
       "    .dataframe tbody tr th:only-of-type {\n",
       "        vertical-align: middle;\n",
       "    }\n",
       "\n",
       "    .dataframe tbody tr th {\n",
       "        vertical-align: top;\n",
       "    }\n",
       "\n",
       "    .dataframe thead th {\n",
       "        text-align: right;\n",
       "    }\n",
       "</style>\n",
       "<table border=\"1\" class=\"dataframe\">\n",
       "  <thead>\n",
       "    <tr style=\"text-align: right;\">\n",
       "      <th></th>\n",
       "      <th>Time</th>\n",
       "      <th>PRESSURE</th>\n",
       "      <th>mavg</th>\n",
       "    </tr>\n",
       "  </thead>\n",
       "  <tbody>\n",
       "    <tr>\n",
       "      <th>0</th>\n",
       "      <td>13:00:02</td>\n",
       "      <td>5.02</td>\n",
       "      <td>NaN</td>\n",
       "    </tr>\n",
       "    <tr>\n",
       "      <th>1</th>\n",
       "      <td>13:00:03</td>\n",
       "      <td>5.01</td>\n",
       "      <td>NaN</td>\n",
       "    </tr>\n",
       "    <tr>\n",
       "      <th>2</th>\n",
       "      <td>13:00:04</td>\n",
       "      <td>5.02</td>\n",
       "      <td>NaN</td>\n",
       "    </tr>\n",
       "    <tr>\n",
       "      <th>3</th>\n",
       "      <td>13:00:05</td>\n",
       "      <td>5.02</td>\n",
       "      <td>NaN</td>\n",
       "    </tr>\n",
       "    <tr>\n",
       "      <th>4</th>\n",
       "      <td>13:00:06</td>\n",
       "      <td>5.02</td>\n",
       "      <td>NaN</td>\n",
       "    </tr>\n",
       "    <tr>\n",
       "      <th>...</th>\n",
       "      <td>...</td>\n",
       "      <td>...</td>\n",
       "      <td>...</td>\n",
       "    </tr>\n",
       "    <tr>\n",
       "      <th>2739</th>\n",
       "      <td>13:59:54</td>\n",
       "      <td>5.01</td>\n",
       "      <td>5.01</td>\n",
       "    </tr>\n",
       "    <tr>\n",
       "      <th>2740</th>\n",
       "      <td>13:59:55</td>\n",
       "      <td>5.01</td>\n",
       "      <td>5.01</td>\n",
       "    </tr>\n",
       "    <tr>\n",
       "      <th>2741</th>\n",
       "      <td>13:59:58</td>\n",
       "      <td>5.01</td>\n",
       "      <td>5.01</td>\n",
       "    </tr>\n",
       "    <tr>\n",
       "      <th>2742</th>\n",
       "      <td>13:59:59</td>\n",
       "      <td>5.02</td>\n",
       "      <td>5.01</td>\n",
       "    </tr>\n",
       "    <tr>\n",
       "      <th>2743</th>\n",
       "      <td>14:00:00</td>\n",
       "      <td>5.01</td>\n",
       "      <td>5.01</td>\n",
       "    </tr>\n",
       "  </tbody>\n",
       "</table>\n",
       "<p>2744 rows × 3 columns</p>\n",
       "</div>"
      ],
      "text/plain": [
       "          Time  PRESSURE  mavg\n",
       "0     13:00:02      5.02   NaN\n",
       "1     13:00:03      5.01   NaN\n",
       "2     13:00:04      5.02   NaN\n",
       "3     13:00:05      5.02   NaN\n",
       "4     13:00:06      5.02   NaN\n",
       "...        ...       ...   ...\n",
       "2739  13:59:54      5.01  5.01\n",
       "2740  13:59:55      5.01  5.01\n",
       "2741  13:59:58      5.01  5.01\n",
       "2742  13:59:59      5.02  5.01\n",
       "2743  14:00:00      5.01  5.01\n",
       "\n",
       "[2744 rows x 3 columns]"
      ]
     },
     "execution_count": 42,
     "metadata": {},
     "output_type": "execute_result"
    }
   ],
   "source": [
    "ogauge['mavg'] = ogauge['PRESSURE'].rolling(window=12).mean().shift(1)\n",
    "ogauge"
   ]
  },
  {
   "cell_type": "markdown",
   "id": "217512cd",
   "metadata": {},
   "source": [
    "### to diplay upto 2 decimal use pd.options.display.float_format= '{:.2f}'.format"
   ]
  },
  {
   "cell_type": "code",
   "execution_count": 43,
   "id": "7f3d4fd8",
   "metadata": {},
   "outputs": [
    {
     "data": {
      "text/html": [
       "<div>\n",
       "<style scoped>\n",
       "    .dataframe tbody tr th:only-of-type {\n",
       "        vertical-align: middle;\n",
       "    }\n",
       "\n",
       "    .dataframe tbody tr th {\n",
       "        vertical-align: top;\n",
       "    }\n",
       "\n",
       "    .dataframe thead th {\n",
       "        text-align: right;\n",
       "    }\n",
       "</style>\n",
       "<table border=\"1\" class=\"dataframe\">\n",
       "  <thead>\n",
       "    <tr style=\"text-align: right;\">\n",
       "      <th></th>\n",
       "      <th>Time</th>\n",
       "      <th>PRESSURE</th>\n",
       "      <th>mavg</th>\n",
       "    </tr>\n",
       "  </thead>\n",
       "  <tbody>\n",
       "    <tr>\n",
       "      <th>0</th>\n",
       "      <td>13:00:02</td>\n",
       "      <td>5.02</td>\n",
       "      <td>NaN</td>\n",
       "    </tr>\n",
       "    <tr>\n",
       "      <th>1</th>\n",
       "      <td>13:00:03</td>\n",
       "      <td>5.01</td>\n",
       "      <td>NaN</td>\n",
       "    </tr>\n",
       "    <tr>\n",
       "      <th>2</th>\n",
       "      <td>13:00:04</td>\n",
       "      <td>5.02</td>\n",
       "      <td>NaN</td>\n",
       "    </tr>\n",
       "    <tr>\n",
       "      <th>3</th>\n",
       "      <td>13:00:05</td>\n",
       "      <td>5.02</td>\n",
       "      <td>NaN</td>\n",
       "    </tr>\n",
       "    <tr>\n",
       "      <th>4</th>\n",
       "      <td>13:00:06</td>\n",
       "      <td>5.02</td>\n",
       "      <td>NaN</td>\n",
       "    </tr>\n",
       "    <tr>\n",
       "      <th>...</th>\n",
       "      <td>...</td>\n",
       "      <td>...</td>\n",
       "      <td>...</td>\n",
       "    </tr>\n",
       "    <tr>\n",
       "      <th>2739</th>\n",
       "      <td>13:59:54</td>\n",
       "      <td>5.01</td>\n",
       "      <td>5.01</td>\n",
       "    </tr>\n",
       "    <tr>\n",
       "      <th>2740</th>\n",
       "      <td>13:59:55</td>\n",
       "      <td>5.01</td>\n",
       "      <td>5.01</td>\n",
       "    </tr>\n",
       "    <tr>\n",
       "      <th>2741</th>\n",
       "      <td>13:59:58</td>\n",
       "      <td>5.01</td>\n",
       "      <td>5.01</td>\n",
       "    </tr>\n",
       "    <tr>\n",
       "      <th>2742</th>\n",
       "      <td>13:59:59</td>\n",
       "      <td>5.02</td>\n",
       "      <td>5.01</td>\n",
       "    </tr>\n",
       "    <tr>\n",
       "      <th>2743</th>\n",
       "      <td>14:00:00</td>\n",
       "      <td>5.01</td>\n",
       "      <td>5.01</td>\n",
       "    </tr>\n",
       "  </tbody>\n",
       "</table>\n",
       "<p>2744 rows × 3 columns</p>\n",
       "</div>"
      ],
      "text/plain": [
       "          Time  PRESSURE  mavg\n",
       "0     13:00:02      5.02   NaN\n",
       "1     13:00:03      5.01   NaN\n",
       "2     13:00:04      5.02   NaN\n",
       "3     13:00:05      5.02   NaN\n",
       "4     13:00:06      5.02   NaN\n",
       "...        ...       ...   ...\n",
       "2739  13:59:54      5.01  5.01\n",
       "2740  13:59:55      5.01  5.01\n",
       "2741  13:59:58      5.01  5.01\n",
       "2742  13:59:59      5.02  5.01\n",
       "2743  14:00:00      5.01  5.01\n",
       "\n",
       "[2744 rows x 3 columns]"
      ]
     },
     "execution_count": 43,
     "metadata": {},
     "output_type": "execute_result"
    }
   ],
   "source": [
    "pd.options.display.float_format= '{:.2f}'.format\n",
    "ogauge"
   ]
  },
  {
   "cell_type": "code",
   "execution_count": 44,
   "id": "24fb7061",
   "metadata": {},
   "outputs": [
    {
     "data": {
      "image/png": "[encoded data removed]",
      "text/plain": [
       "<Figure size 1080x504 with 1 Axes>"
      ]
     },
     "metadata": {
      "needs_background": "light"
     },
     "output_type": "display_data"
    }
   ],
   "source": [
    "plt.figure( figsize=(15,7))\n",
    "plt.xlabel( \"Time\" )\n",
    "plt.ylabel( \"Pressure trends\" )\n",
    "plt.plot( ogauge['PRESSURE'][0:3000] );\n",
    "plt.plot( ogauge['mavg'][0:3000], color='orange' );\n",
    "plt.legend('PA');"
   ]
  },
  {
   "cell_type": "markdown",
   "id": "508cddd6",
   "metadata": {},
   "source": [
    "### MAPE and RMSE"
   ]
  },
  {
   "cell_type": "code",
   "execution_count": 45,
   "id": "a1bfeb8e",
   "metadata": {},
   "outputs": [
    {
     "data": {
      "text/plain": [
       "0.03"
      ]
     },
     "execution_count": 45,
     "metadata": {},
     "output_type": "execute_result"
    }
   ],
   "source": [
    "def get_mape(actual, predicted): \n",
    "    y_true, y_pred = np.array(actual), np.array(predicted)\n",
    "    return np.round( np.mean(np.abs((actual - predicted) / actual)) * 100, 2 )\n",
    "\n",
    "get_mape( ogauge['PRESSURE'][40:].values, \n",
    "          ogauge['mavg'][40:].values)"
   ]
  },
  {
   "cell_type": "code",
   "execution_count": 46,
   "id": "cc475bfb",
   "metadata": {},
   "outputs": [
    {
     "data": {
      "text/plain": [
       "0.003700320926483176"
      ]
     },
     "execution_count": 46,
     "metadata": {},
     "output_type": "execute_result"
    }
   ],
   "source": [
    "from sklearn.metrics import mean_squared_error\n",
    "np.sqrt(mean_squared_error( ogauge['PRESSURE'][36:].values, \n",
    "                            ogauge['mavg'][36:].values))"
   ]
  },
  {
   "cell_type": "markdown",
   "id": "a3a155d7",
   "metadata": {},
   "source": [
    "### Exponential smoothing"
   ]
  },
  {
   "cell_type": "code",
   "execution_count": 47,
   "id": "bc0f4f78",
   "metadata": {},
   "outputs": [
    {
     "data": {
      "text/html": [
       "<div>\n",
       "<style scoped>\n",
       "    .dataframe tbody tr th:only-of-type {\n",
       "        vertical-align: middle;\n",
       "    }\n",
       "\n",
       "    .dataframe tbody tr th {\n",
       "        vertical-align: top;\n",
       "    }\n",
       "\n",
       "    .dataframe thead th {\n",
       "        text-align: right;\n",
       "    }\n",
       "</style>\n",
       "<table border=\"1\" class=\"dataframe\">\n",
       "  <thead>\n",
       "    <tr style=\"text-align: right;\">\n",
       "      <th></th>\n",
       "      <th>Time</th>\n",
       "      <th>PRESSURE</th>\n",
       "      <th>mavg</th>\n",
       "    </tr>\n",
       "  </thead>\n",
       "  <tbody>\n",
       "    <tr>\n",
       "      <th>0</th>\n",
       "      <td>13:00:02</td>\n",
       "      <td>5.02</td>\n",
       "      <td>NaN</td>\n",
       "    </tr>\n",
       "    <tr>\n",
       "      <th>1</th>\n",
       "      <td>13:00:03</td>\n",
       "      <td>5.01</td>\n",
       "      <td>NaN</td>\n",
       "    </tr>\n",
       "    <tr>\n",
       "      <th>2</th>\n",
       "      <td>13:00:04</td>\n",
       "      <td>5.02</td>\n",
       "      <td>NaN</td>\n",
       "    </tr>\n",
       "    <tr>\n",
       "      <th>3</th>\n",
       "      <td>13:00:05</td>\n",
       "      <td>5.02</td>\n",
       "      <td>NaN</td>\n",
       "    </tr>\n",
       "    <tr>\n",
       "      <th>4</th>\n",
       "      <td>13:00:06</td>\n",
       "      <td>5.02</td>\n",
       "      <td>NaN</td>\n",
       "    </tr>\n",
       "    <tr>\n",
       "      <th>...</th>\n",
       "      <td>...</td>\n",
       "      <td>...</td>\n",
       "      <td>...</td>\n",
       "    </tr>\n",
       "    <tr>\n",
       "      <th>2739</th>\n",
       "      <td>13:59:54</td>\n",
       "      <td>5.01</td>\n",
       "      <td>5.01</td>\n",
       "    </tr>\n",
       "    <tr>\n",
       "      <th>2740</th>\n",
       "      <td>13:59:55</td>\n",
       "      <td>5.01</td>\n",
       "      <td>5.01</td>\n",
       "    </tr>\n",
       "    <tr>\n",
       "      <th>2741</th>\n",
       "      <td>13:59:58</td>\n",
       "      <td>5.01</td>\n",
       "      <td>5.01</td>\n",
       "    </tr>\n",
       "    <tr>\n",
       "      <th>2742</th>\n",
       "      <td>13:59:59</td>\n",
       "      <td>5.02</td>\n",
       "      <td>5.01</td>\n",
       "    </tr>\n",
       "    <tr>\n",
       "      <th>2743</th>\n",
       "      <td>14:00:00</td>\n",
       "      <td>5.01</td>\n",
       "      <td>5.01</td>\n",
       "    </tr>\n",
       "  </tbody>\n",
       "</table>\n",
       "<p>2744 rows × 3 columns</p>\n",
       "</div>"
      ],
      "text/plain": [
       "          Time  PRESSURE  mavg\n",
       "0     13:00:02      5.02   NaN\n",
       "1     13:00:03      5.01   NaN\n",
       "2     13:00:04      5.02   NaN\n",
       "3     13:00:05      5.02   NaN\n",
       "4     13:00:06      5.02   NaN\n",
       "...        ...       ...   ...\n",
       "2739  13:59:54      5.01  5.01\n",
       "2740  13:59:55      5.01  5.01\n",
       "2741  13:59:58      5.01  5.01\n",
       "2742  13:59:59      5.02  5.01\n",
       "2743  14:00:00      5.01  5.01\n",
       "\n",
       "[2744 rows x 3 columns]"
      ]
     },
     "execution_count": 47,
     "metadata": {},
     "output_type": "execute_result"
    }
   ],
   "source": [
    "ogauge"
   ]
  },
  {
   "cell_type": "code",
   "execution_count": 48,
   "id": "6189877c",
   "metadata": {},
   "outputs": [
    {
     "data": {
      "text/html": [
       "<div>\n",
       "<style scoped>\n",
       "    .dataframe tbody tr th:only-of-type {\n",
       "        vertical-align: middle;\n",
       "    }\n",
       "\n",
       "    .dataframe tbody tr th {\n",
       "        vertical-align: top;\n",
       "    }\n",
       "\n",
       "    .dataframe thead th {\n",
       "        text-align: right;\n",
       "    }\n",
       "</style>\n",
       "<table border=\"1\" class=\"dataframe\">\n",
       "  <thead>\n",
       "    <tr style=\"text-align: right;\">\n",
       "      <th></th>\n",
       "      <th>Time</th>\n",
       "      <th>PRESSURE</th>\n",
       "      <th>mavg</th>\n",
       "      <th>ewm</th>\n",
       "    </tr>\n",
       "  </thead>\n",
       "  <tbody>\n",
       "    <tr>\n",
       "      <th>0</th>\n",
       "      <td>13:00:02</td>\n",
       "      <td>5.02</td>\n",
       "      <td>NaN</td>\n",
       "      <td>5.02</td>\n",
       "    </tr>\n",
       "    <tr>\n",
       "      <th>1</th>\n",
       "      <td>13:00:03</td>\n",
       "      <td>5.01</td>\n",
       "      <td>NaN</td>\n",
       "      <td>5.01</td>\n",
       "    </tr>\n",
       "    <tr>\n",
       "      <th>2</th>\n",
       "      <td>13:00:04</td>\n",
       "      <td>5.02</td>\n",
       "      <td>NaN</td>\n",
       "      <td>5.02</td>\n",
       "    </tr>\n",
       "    <tr>\n",
       "      <th>3</th>\n",
       "      <td>13:00:05</td>\n",
       "      <td>5.02</td>\n",
       "      <td>NaN</td>\n",
       "      <td>5.02</td>\n",
       "    </tr>\n",
       "    <tr>\n",
       "      <th>4</th>\n",
       "      <td>13:00:06</td>\n",
       "      <td>5.02</td>\n",
       "      <td>NaN</td>\n",
       "      <td>5.02</td>\n",
       "    </tr>\n",
       "    <tr>\n",
       "      <th>...</th>\n",
       "      <td>...</td>\n",
       "      <td>...</td>\n",
       "      <td>...</td>\n",
       "      <td>...</td>\n",
       "    </tr>\n",
       "    <tr>\n",
       "      <th>2739</th>\n",
       "      <td>13:59:54</td>\n",
       "      <td>5.01</td>\n",
       "      <td>5.01</td>\n",
       "      <td>5.01</td>\n",
       "    </tr>\n",
       "    <tr>\n",
       "      <th>2740</th>\n",
       "      <td>13:59:55</td>\n",
       "      <td>5.01</td>\n",
       "      <td>5.01</td>\n",
       "      <td>5.01</td>\n",
       "    </tr>\n",
       "    <tr>\n",
       "      <th>2741</th>\n",
       "      <td>13:59:58</td>\n",
       "      <td>5.01</td>\n",
       "      <td>5.01</td>\n",
       "      <td>5.01</td>\n",
       "    </tr>\n",
       "    <tr>\n",
       "      <th>2742</th>\n",
       "      <td>13:59:59</td>\n",
       "      <td>5.02</td>\n",
       "      <td>5.01</td>\n",
       "      <td>5.01</td>\n",
       "    </tr>\n",
       "    <tr>\n",
       "      <th>2743</th>\n",
       "      <td>14:00:00</td>\n",
       "      <td>5.01</td>\n",
       "      <td>5.01</td>\n",
       "      <td>5.01</td>\n",
       "    </tr>\n",
       "  </tbody>\n",
       "</table>\n",
       "<p>2744 rows × 4 columns</p>\n",
       "</div>"
      ],
      "text/plain": [
       "          Time  PRESSURE  mavg  ewm\n",
       "0     13:00:02      5.02   NaN 5.02\n",
       "1     13:00:03      5.01   NaN 5.01\n",
       "2     13:00:04      5.02   NaN 5.02\n",
       "3     13:00:05      5.02   NaN 5.02\n",
       "4     13:00:06      5.02   NaN 5.02\n",
       "...        ...       ...   ...  ...\n",
       "2739  13:59:54      5.01  5.01 5.01\n",
       "2740  13:59:55      5.01  5.01 5.01\n",
       "2741  13:59:58      5.01  5.01 5.01\n",
       "2742  13:59:59      5.02  5.01 5.01\n",
       "2743  14:00:00      5.01  5.01 5.01\n",
       "\n",
       "[2744 rows x 4 columns]"
      ]
     },
     "execution_count": 48,
     "metadata": {},
     "output_type": "execute_result"
    }
   ],
   "source": [
    "ogauge['ewm'] = ogauge['PRESSURE'].ewm(alpha=0.2).mean()\n",
    "ogauge"
   ]
  },
  {
   "cell_type": "code",
   "execution_count": 49,
   "id": "d2cc02e0",
   "metadata": {},
   "outputs": [],
   "source": [
    "pd.options.display.float_format= '{:.2f}'.format"
   ]
  },
  {
   "cell_type": "code",
   "execution_count": 50,
   "id": "37af4d27",
   "metadata": {},
   "outputs": [
    {
     "data": {
      "text/plain": [
       "(0.02, 0.0023969714296658458)"
      ]
     },
     "execution_count": 50,
     "metadata": {},
     "output_type": "execute_result"
    }
   ],
   "source": [
    "MAPE=get_mape( ogauge['PRESSURE'][40:].values, \n",
    "          ogauge['ewm'][40:].values)\n",
    "RMSE=np.sqrt(mean_squared_error( ogauge['PRESSURE'][36:].values, \n",
    "                            ogauge['ewm'][36:].values))\n",
    "MAPE,RMSE"
   ]
  },
  {
   "cell_type": "code",
   "execution_count": 52,
   "id": "976f42a4",
   "metadata": {},
   "outputs": [
    {
     "data": {
      "image/png": "[encoded data removed]",
      "text/plain": [
       "<Figure size 1080x504 with 1 Axes>"
      ]
     },
     "metadata": {
      "needs_background": "light"
     },
     "output_type": "display_data"
    }
   ],
   "source": [
    "plt.figure( figsize=(15,7))\n",
    "plt.xlabel( \"Time\" )\n",
    "plt.ylabel( \"Pressure trends\" )\n",
    "plt.plot( ogauge['PRESSURE'][0:3000] );\n",
    "plt.plot( ogauge['ewm'][0:3000], color='orange' );\n",
    "plt.legend('PA');"
   ]
  },
  {
   "cell_type": "markdown",
   "id": "d5a7d8a8",
   "metadata": {},
   "source": [
    "### We can decompose time-series data into trend,seasonal,cyclical and residual components"
   ]
  },
  {
   "cell_type": "code",
   "execution_count": 53,
   "id": "c00a5a62",
   "metadata": {},
   "outputs": [],
   "source": [
    "from statsmodels.tsa.seasonal import seasonal_decompose"
   ]
  },
  {
   "cell_type": "code",
   "execution_count": 54,
   "id": "609052cc",
   "metadata": {},
   "outputs": [
    {
     "data": {
      "image/png": "[encoded data removed]",
      "text/plain": [
       "<Figure size 432x288 with 4 Axes>"
      ]
     },
     "metadata": {
      "needs_background": "light"
     },
     "output_type": "display_data"
    }
   ],
   "source": [
    "ts_decompose = seasonal_decompose(np.array(ogauge['PRESSURE']), model=\"multiplicative\", period=12)\n",
    "ts_plot = ts_decompose.plot()"
   ]
  },
  {
   "cell_type": "code",
   "execution_count": 55,
   "id": "13e688b4",
   "metadata": {},
   "outputs": [
    {
     "data": {
      "text/html": [
       "<div>\n",
       "<style scoped>\n",
       "    .dataframe tbody tr th:only-of-type {\n",
       "        vertical-align: middle;\n",
       "    }\n",
       "\n",
       "    .dataframe tbody tr th {\n",
       "        vertical-align: top;\n",
       "    }\n",
       "\n",
       "    .dataframe thead th {\n",
       "        text-align: right;\n",
       "    }\n",
       "</style>\n",
       "<table border=\"1\" class=\"dataframe\">\n",
       "  <thead>\n",
       "    <tr style=\"text-align: right;\">\n",
       "      <th></th>\n",
       "      <th>Time</th>\n",
       "      <th>PRESSURE</th>\n",
       "      <th>mavg</th>\n",
       "      <th>ewm</th>\n",
       "      <th>seasonal</th>\n",
       "      <th>trend</th>\n",
       "      <th>residual</th>\n",
       "    </tr>\n",
       "  </thead>\n",
       "  <tbody>\n",
       "    <tr>\n",
       "      <th>0</th>\n",
       "      <td>13:00:02</td>\n",
       "      <td>5.02</td>\n",
       "      <td>NaN</td>\n",
       "      <td>5.02</td>\n",
       "      <td>1.00</td>\n",
       "      <td>NaN</td>\n",
       "      <td>NaN</td>\n",
       "    </tr>\n",
       "    <tr>\n",
       "      <th>1</th>\n",
       "      <td>13:00:03</td>\n",
       "      <td>5.01</td>\n",
       "      <td>NaN</td>\n",
       "      <td>5.01</td>\n",
       "      <td>1.00</td>\n",
       "      <td>NaN</td>\n",
       "      <td>NaN</td>\n",
       "    </tr>\n",
       "    <tr>\n",
       "      <th>2</th>\n",
       "      <td>13:00:04</td>\n",
       "      <td>5.02</td>\n",
       "      <td>NaN</td>\n",
       "      <td>5.02</td>\n",
       "      <td>1.00</td>\n",
       "      <td>NaN</td>\n",
       "      <td>NaN</td>\n",
       "    </tr>\n",
       "    <tr>\n",
       "      <th>3</th>\n",
       "      <td>13:00:05</td>\n",
       "      <td>5.02</td>\n",
       "      <td>NaN</td>\n",
       "      <td>5.02</td>\n",
       "      <td>1.00</td>\n",
       "      <td>NaN</td>\n",
       "      <td>NaN</td>\n",
       "    </tr>\n",
       "    <tr>\n",
       "      <th>4</th>\n",
       "      <td>13:00:06</td>\n",
       "      <td>5.02</td>\n",
       "      <td>NaN</td>\n",
       "      <td>5.02</td>\n",
       "      <td>1.00</td>\n",
       "      <td>NaN</td>\n",
       "      <td>NaN</td>\n",
       "    </tr>\n",
       "    <tr>\n",
       "      <th>...</th>\n",
       "      <td>...</td>\n",
       "      <td>...</td>\n",
       "      <td>...</td>\n",
       "      <td>...</td>\n",
       "      <td>...</td>\n",
       "      <td>...</td>\n",
       "      <td>...</td>\n",
       "    </tr>\n",
       "    <tr>\n",
       "      <th>2739</th>\n",
       "      <td>13:59:54</td>\n",
       "      <td>5.01</td>\n",
       "      <td>5.01</td>\n",
       "      <td>5.01</td>\n",
       "      <td>1.00</td>\n",
       "      <td>NaN</td>\n",
       "      <td>NaN</td>\n",
       "    </tr>\n",
       "    <tr>\n",
       "      <th>2740</th>\n",
       "      <td>13:59:55</td>\n",
       "      <td>5.01</td>\n",
       "      <td>5.01</td>\n",
       "      <td>5.01</td>\n",
       "      <td>1.00</td>\n",
       "      <td>NaN</td>\n",
       "      <td>NaN</td>\n",
       "    </tr>\n",
       "    <tr>\n",
       "      <th>2741</th>\n",
       "      <td>13:59:58</td>\n",
       "      <td>5.01</td>\n",
       "      <td>5.01</td>\n",
       "      <td>5.01</td>\n",
       "      <td>1.00</td>\n",
       "      <td>NaN</td>\n",
       "      <td>NaN</td>\n",
       "    </tr>\n",
       "    <tr>\n",
       "      <th>2742</th>\n",
       "      <td>13:59:59</td>\n",
       "      <td>5.02</td>\n",
       "      <td>5.01</td>\n",
       "      <td>5.01</td>\n",
       "      <td>1.00</td>\n",
       "      <td>NaN</td>\n",
       "      <td>NaN</td>\n",
       "    </tr>\n",
       "    <tr>\n",
       "      <th>2743</th>\n",
       "      <td>14:00:00</td>\n",
       "      <td>5.01</td>\n",
       "      <td>5.01</td>\n",
       "      <td>5.01</td>\n",
       "      <td>1.00</td>\n",
       "      <td>NaN</td>\n",
       "      <td>NaN</td>\n",
       "    </tr>\n",
       "  </tbody>\n",
       "</table>\n",
       "<p>2744 rows × 7 columns</p>\n",
       "</div>"
      ],
      "text/plain": [
       "          Time  PRESSURE  mavg  ewm  seasonal  trend  residual\n",
       "0     13:00:02      5.02   NaN 5.02      1.00    NaN       NaN\n",
       "1     13:00:03      5.01   NaN 5.01      1.00    NaN       NaN\n",
       "2     13:00:04      5.02   NaN 5.02      1.00    NaN       NaN\n",
       "3     13:00:05      5.02   NaN 5.02      1.00    NaN       NaN\n",
       "4     13:00:06      5.02   NaN 5.02      1.00    NaN       NaN\n",
       "...        ...       ...   ...  ...       ...    ...       ...\n",
       "2739  13:59:54      5.01  5.01 5.01      1.00    NaN       NaN\n",
       "2740  13:59:55      5.01  5.01 5.01      1.00    NaN       NaN\n",
       "2741  13:59:58      5.01  5.01 5.01      1.00    NaN       NaN\n",
       "2742  13:59:59      5.02  5.01 5.01      1.00    NaN       NaN\n",
       "2743  14:00:00      5.01  5.01 5.01      1.00    NaN       NaN\n",
       "\n",
       "[2744 rows x 7 columns]"
      ]
     },
     "execution_count": 55,
     "metadata": {},
     "output_type": "execute_result"
    }
   ],
   "source": [
    "ogauge['seasonal'] = ts_decompose.seasonal\n",
    "ogauge['trend'] = ts_decompose.trend\n",
    "ogauge['residual'] = ts_decompose.resid\n",
    "ogauge"
   ]
  },
  {
   "cell_type": "code",
   "execution_count": 56,
   "id": "3a9856ee",
   "metadata": {},
   "outputs": [
    {
     "data": {
      "text/plain": [
       "<matplotlib.legend.Legend at 0x1d4cdbc3af0>"
      ]
     },
     "execution_count": 56,
     "metadata": {},
     "output_type": "execute_result"
    },
    {
     "data": {
      "image/png": "[encoded data removed]",
      "text/plain": [
       "<Figure size 1080x504 with 1 Axes>"
      ]
     },
     "metadata": {
      "needs_background": "light"
     },
     "output_type": "display_data"
    }
   ],
   "source": [
    "plt.figure( figsize=(15,7))\n",
    "plt.xlabel( \"Time\" )\n",
    "plt.ylabel( \"Pressure trends\" )\n",
    "plt.plot( ogauge['PRESSURE'][0:3000], );\n",
    "plt.plot( ogauge['trend'][0:3000]);\n",
    "plt.legend('PT')"
   ]
  },
  {
   "cell_type": "markdown",
   "id": "5d8ab410",
   "metadata": {},
   "source": [
    "### Stationarity test"
   ]
  },
  {
   "cell_type": "code",
   "execution_count": 57,
   "id": "0080112c",
   "metadata": {},
   "outputs": [],
   "source": [
    "from statsmodels.tsa.stattools import adfuller"
   ]
  },
  {
   "cell_type": "code",
   "execution_count": 58,
   "id": "b57d0aea",
   "metadata": {},
   "outputs": [],
   "source": [
    "def adfuller_test( ts ):\n",
    "    adfuller_result = adfuller( ts, autolag=None )\n",
    "    adfuller_out = pd.Series(adfuller_result[0:4], \n",
    "                         index=['Test Statistic',\n",
    "                                'p-value',\n",
    "                                'Lags Used',\n",
    "                                'Number of Observations Used'])\n",
    "    print( adfuller_out )"
   ]
  },
  {
   "cell_type": "code",
   "execution_count": 59,
   "id": "d46dfff4",
   "metadata": {},
   "outputs": [
    {
     "name": "stdout",
     "output_type": "stream",
     "text": [
      "Test Statistic                  -3.01\n",
      "p-value                          0.03\n",
      "Lags Used                       28.00\n",
      "Number of Observations Used   2715.00\n",
      "dtype: float64\n"
     ]
    }
   ],
   "source": [
    "adfuller_test(ogauge.PRESSURE)"
   ]
  },
  {
   "cell_type": "markdown",
   "id": "381dd426",
   "metadata": {},
   "source": [
    "### p value <=0.05 \n",
    "therefore we can reject the null hypothesis and can go with alternative hypothesis."
   ]
  },
  {
   "cell_type": "code",
   "execution_count": 60,
   "id": "e6ce1793",
   "metadata": {},
   "outputs": [],
   "source": [
    "def test_stationarity(timeseries):\n",
    "    \n",
    "    movingAverage = timeseries.rolling(window=12).mean()\n",
    "    #Variance is equal to the average squared deviations from the mean\n",
    "    #Standard deviation is square root of Variancs\n",
    "    movingSTD = timeseries.rolling(window=12).std()\n",
    "    \n",
    "    plt.figure( figsize=(15,7))\n",
    "    plt.xlabel( \"Time\" )\n",
    "    plt.ylabel( \"Pressure trends\" )\n",
    "    #plt.plot(timeseries, color='red', label='Original')\n",
    "    plt.plot(movingAverage, color='green', label='Rolling Mean')\n",
    "    plt.plot(movingSTD, color='BLUE', label='Rolling Std')\n",
    "    plt.legend()"
   ]
  },
  {
   "cell_type": "code",
   "execution_count": 61,
   "id": "e511714c",
   "metadata": {},
   "outputs": [
    {
     "data": {
      "image/png": "[encoded data removed]",
      "text/plain": [
       "<Figure size 1080x504 with 1 Axes>"
      ]
     },
     "metadata": {
      "needs_background": "light"
     },
     "output_type": "display_data"
    }
   ],
   "source": [
    "test_stationarity(ogauge)"
   ]
  },
  {
   "cell_type": "markdown",
   "id": "d88bae80",
   "metadata": {},
   "source": [
    "# Checking the optimal performing model "
   ]
  },
  {
   "cell_type": "code",
   "execution_count": 62,
   "id": "7eab02ef",
   "metadata": {},
   "outputs": [],
   "source": [
    "# Create Training and Test\n",
    "train = ogauge.PRESSURE[:1500]\n",
    "test = ogauge.PRESSURE[1500:]"
   ]
  },
  {
   "cell_type": "code",
   "execution_count": 63,
   "id": "0d92aa07",
   "metadata": {},
   "outputs": [
    {
     "name": "stdout",
     "output_type": "stream",
     "text": [
      "Performing stepwise search to minimize aic\n",
      " ARIMA(1,1,1)(0,0,0)[0] intercept   : AIC=-14055.861, Time=1.46 sec\n",
      " ARIMA(0,1,0)(0,0,0)[0] intercept   : AIC=-13992.647, Time=0.24 sec\n",
      " ARIMA(1,1,0)(0,0,0)[0] intercept   : AIC=-14039.465, Time=0.36 sec\n",
      " ARIMA(0,1,1)(0,0,0)[0] intercept   : AIC=-14049.423, Time=0.78 sec\n",
      " ARIMA(0,1,0)(0,0,0)[0]             : AIC=-13994.647, Time=0.13 sec\n",
      " ARIMA(2,1,1)(0,0,0)[0] intercept   : AIC=-14052.146, Time=0.90 sec\n",
      " ARIMA(1,1,2)(0,0,0)[0] intercept   : AIC=-14054.547, Time=0.68 sec\n",
      " ARIMA(0,1,2)(0,0,0)[0] intercept   : AIC=-14056.514, Time=1.45 sec\n",
      " ARIMA(0,1,3)(0,0,0)[0] intercept   : AIC=-14054.236, Time=1.46 sec\n",
      " ARIMA(1,1,3)(0,0,0)[0] intercept   : AIC=-14052.228, Time=0.37 sec\n",
      " ARIMA(0,1,2)(0,0,0)[0]             : AIC=-14058.509, Time=0.22 sec\n",
      " ARIMA(0,1,1)(0,0,0)[0]             : AIC=-14051.422, Time=0.34 sec\n",
      " ARIMA(1,1,2)(0,0,0)[0]             : AIC=-14056.543, Time=0.23 sec\n",
      " ARIMA(0,1,3)(0,0,0)[0]             : AIC=-14056.231, Time=0.28 sec\n",
      " ARIMA(1,1,1)(0,0,0)[0]             : AIC=-14057.860, Time=0.20 sec\n",
      " ARIMA(1,1,3)(0,0,0)[0]             : AIC=-14054.230, Time=0.25 sec\n",
      "\n",
      "Best model:  ARIMA(0,1,2)(0,0,0)[0]          \n",
      "Total fit time: 9.368 seconds\n",
      "                               SARIMAX Results                                \n",
      "==============================================================================\n",
      "Dep. Variable:                      y   No. Observations:                 1500\n",
      "Model:               SARIMAX(0, 1, 2)   Log Likelihood                7032.254\n",
      "Date:                Sun, 02 Jan 2022   AIC                         -14058.509\n",
      "Time:                        14:13:21   BIC                         -14042.571\n",
      "Sample:                             0   HQIC                        -14052.571\n",
      "                               - 1500                                         \n",
      "Covariance Type:                  opg                                         \n",
      "==============================================================================\n",
      "                 coef    std err          z      P>|z|      [0.025      0.975]\n",
      "------------------------------------------------------------------------------\n",
      "ma.L1         -0.2024      0.007    -27.128      0.000      -0.217      -0.188\n",
      "ma.L2         -0.0671      0.007     -9.359      0.000      -0.081      -0.053\n",
      "sigma2      4.912e-06   2.44e-08    201.561      0.000    4.86e-06    4.96e-06\n",
      "===================================================================================\n",
      "Ljung-Box (L1) (Q):                   0.00   Jarque-Bera (JB):           3972881.94\n",
      "Prob(Q):                              0.99   Prob(JB):                         0.00\n",
      "Heteroskedasticity (H):               0.18   Skew:                           -10.03\n",
      "Prob(H) (two-sided):                  0.00   Kurtosis:                       254.41\n",
      "===================================================================================\n",
      "\n",
      "Warnings:\n",
      "[1] Covariance matrix calculated using the outer product of gradients (complex-step).\n"
     ]
    }
   ],
   "source": [
    "from statsmodels.tsa.arima_model import ARIMA\n",
    "\n",
    "import pmdarima as pm\n",
    "\n",
    "model = pm.auto_arima(train, start_p=1, start_q=1,\n",
    "                      test='adf',       # use adftest to find optimal 'd'\n",
    "                      max_p=3, max_q=3, # maximum p and q\n",
    "                      m=1,              # frequency of series\n",
    "                      d=None,           # let model determine 'd'\n",
    "                      seasonal=False,   # No Seasonality\n",
    "                      start_P=0, \n",
    "                      D=0, \n",
    "                      trace=True,\n",
    "                      error_action='ignore',  \n",
    "                      suppress_warnings=True, \n",
    "                      stepwise=True)\n",
    "print(model.summary())"
   ]
  },
  {
   "cell_type": "code",
   "execution_count": 64,
   "id": "2661bcfa",
   "metadata": {},
   "outputs": [],
   "source": [
    "from statsmodels.tsa.arima_model import ARIMA\n",
    "from matplotlib import pyplot\n",
    "from statsmodels.tsa.ar_model import AutoReg\n",
    "from sklearn.metrics import mean_squared_error\n",
    "from math import sqrt"
   ]
  },
  {
   "cell_type": "code",
   "execution_count": 65,
   "id": "e64ec438",
   "metadata": {},
   "outputs": [
    {
     "data": {
      "text/plain": [
       "\"model = AutoReg(train, lags=29)\\nmodel_fit = model.fit()\\npredictions = model_fit.predict(start=len(train), end=len(train)+len(test)-1, dynamic=False)\\nfor i in range(len(predictions)):\\n    print('predicted=%f', 'expected=%f' %(predictions[i],test[i]))\\nrmse =sqrt(mean_squared_error(test,predictions))\\nprint('Test RMSE: %.3f' %rmse)\\n\\npyplot.plot(test)\\npyplot.plot(predictions, color='red')\\npyplot.show()\""
      ]
     },
     "execution_count": 65,
     "metadata": {},
     "output_type": "execute_result"
    }
   ],
   "source": [
    "'''model = AutoReg(train, lags=29)\n",
    "model_fit = model.fit()\n",
    "predictions = model_fit.predict(start=len(train), end=len(train)+len(test)-1, dynamic=False)\n",
    "for i in range(len(predictions)):\n",
    "    print('predicted=%f', 'expected=%f' %(predictions[i],test[i]))\n",
    "rmse =sqrt(mean_squared_error(test,predictions))\n",
    "print('Test RMSE: %.3f' %rmse)\n",
    "\n",
    "pyplot.plot(test)\n",
    "pyplot.plot(predictions, color='red')\n",
    "pyplot.show()'''"
   ]
  },
  {
   "cell_type": "code",
   "execution_count": 66,
   "id": "039ddb67",
   "metadata": {},
   "outputs": [
    {
     "data": {
      "text/html": [
       "<table class=\"simpletable\">\n",
       "<tr>\n",
       "        <td>Model:</td>              <td>ARIMA</td>              <td>BIC:</td>         <td>-14035.4825</td>\n",
       "</tr>\n",
       "<tr>\n",
       "  <td>Dependent Variable:</td>    <td>D.PRESSURE</td>       <td>Log-Likelihood:</td>     <td>7032.4</td>   \n",
       "</tr>\n",
       "<tr>\n",
       "         <td>Date:</td>        <td>2022-01-02 14:13</td>        <td>Scale:</td>          <td>1.0000</td>   \n",
       "</tr>\n",
       "<tr>\n",
       "   <td>No. Observations:</td>        <td>1499</td>              <td>Method:</td>         <td>css-mle</td>  \n",
       "</tr>\n",
       "<tr>\n",
       "       <td>Df Model:</td>              <td>3</td>               <td>Sample:</td>            <td>1</td>     \n",
       "</tr>\n",
       "<tr>\n",
       "     <td>Df Residuals:</td>          <td>1496</td>                 <td></td>                <td>0</td>     \n",
       "</tr>\n",
       "<tr>\n",
       "      <td>Converged:</td>           <td>1.0000</td>      <td>S.D. of innovations:</td>    <td>0.002</td>   \n",
       "</tr>\n",
       "<tr>\n",
       "    <td>No. Iterations:</td>        <td>22.0000</td>             <td>HQIC:</td>        <td>-14048.816</td> \n",
       "</tr>\n",
       "<tr>\n",
       "         <td>AIC:</td>            <td>-14056.7327</td>             <td></td>                <td></td>      \n",
       "</tr>\n",
       "</table>\n",
       "<table class=\"simpletable\">\n",
       "<tr>\n",
       "          <td></td>          <th>Coef.</th>  <th>Std.Err.</th>    <th>t</th>     <th>P>|t|</th> <th>[0.025</th>  <th>0.975]</th> \n",
       "</tr>\n",
       "<tr>\n",
       "  <th>const</th>            <td>-0.0000</td>  <td>0.0000</td>  <td>-0.0076</td> <td>0.9940</td> <td>-0.0001</td> <td>0.0001</td> \n",
       "</tr>\n",
       "<tr>\n",
       "  <th>ma.L1.D.PRESSURE</th> <td>-0.2017</td>  <td>0.0259</td>  <td>-7.7944</td> <td>0.0000</td> <td>-0.2524</td> <td>-0.1510</td>\n",
       "</tr>\n",
       "<tr>\n",
       "  <th>ma.L2.D.PRESSURE</th> <td>-0.0792</td>  <td>0.0263</td>  <td>-3.0091</td> <td>0.0026</td> <td>-0.1307</td> <td>-0.0276</td>\n",
       "</tr>\n",
       "</table>\n",
       "<table class=\"simpletable\">\n",
       "<tr>\n",
       "    <td></td>    <th>Real</th>   <th>Imaginary</th> <th>Modulus</th> <th>Frequency</th>\n",
       "</tr>\n",
       "<tr>\n",
       "  <th>MA.1</th> <td>2.5018</td>   <td>0.0000</td>   <td>2.5018</td>   <td>0.0000</td>  \n",
       "</tr>\n",
       "<tr>\n",
       "  <th>MA.2</th> <td>-5.0496</td>  <td>0.0000</td>   <td>5.0496</td>   <td>0.5000</td>  \n",
       "</tr>\n",
       "</table>"
      ],
      "text/plain": [
       "<class 'statsmodels.iolib.summary2.Summary'>\n",
       "\"\"\"\n",
       "                           Results: ARIMA\n",
       "=====================================================================\n",
       "Model:              ARIMA            BIC:                 -14035.4825\n",
       "Dependent Variable: D.PRESSURE       Log-Likelihood:      7032.4     \n",
       "Date:               2022-01-02 14:13 Scale:               1.0000     \n",
       "No. Observations:   1499             Method:              css-mle    \n",
       "Df Model:           3                Sample:              1          \n",
       "Df Residuals:       1496                                  0          \n",
       "Converged:          1.0000           S.D. of innovations: 0.002      \n",
       "No. Iterations:     22.0000          HQIC:                -14048.816 \n",
       "AIC:                -14056.7327                                      \n",
       "----------------------------------------------------------------------\n",
       "                   Coef.   Std.Err.     t     P>|t|    [0.025   0.975]\n",
       "----------------------------------------------------------------------\n",
       "const             -0.0000    0.0000  -0.0076  0.9940  -0.0001   0.0001\n",
       "ma.L1.D.PRESSURE  -0.2017    0.0259  -7.7944  0.0000  -0.2524  -0.1510\n",
       "ma.L2.D.PRESSURE  -0.0792    0.0263  -3.0091  0.0026  -0.1307  -0.0276\n",
       "------------------------------------------------------------------------------\n",
       "                  Real           Imaginary          Modulus          Frequency\n",
       "------------------------------------------------------------------------------\n",
       "MA.1             2.5018             0.0000           2.5018             0.0000\n",
       "MA.2            -5.0496             0.0000           5.0496             0.5000\n",
       "=====================================================================\n",
       "\n",
       "\"\"\""
      ]
     },
     "execution_count": 66,
     "metadata": {},
     "output_type": "execute_result"
    }
   ],
   "source": [
    "arima = ARIMA( train, \n",
    "              order = (0,1,2))\n",
    "autoarima_model = arima.fit()\n",
    "autoarima_model.summary2()"
   ]
  },
  {
   "cell_type": "code",
   "execution_count": 72,
   "id": "0867c29a",
   "metadata": {},
   "outputs": [],
   "source": [
    "fc, se, conf = autoarima_model.forecast(1244, alpha=0.05)"
   ]
  },
  {
   "cell_type": "code",
   "execution_count": 73,
   "id": "926ea3cb",
   "metadata": {},
   "outputs": [],
   "source": [
    "# Make as pandas series\n",
    "fc_series = pd.Series(fc, index=test.index)\n",
    "lower_series = pd.Series(conf[:, 0], index=test.index)\n",
    "upper_series = pd.Series(conf[:, 1], index=test.index)"
   ]
  },
  {
   "cell_type": "code",
   "execution_count": 77,
   "id": "c05bd2c0",
   "metadata": {},
   "outputs": [
    {
     "data": {
      "image/png": "[encoded data removed]",
      "text/plain": [
       "<Figure size 800x500 with 1 Axes>"
      ]
     },
     "metadata": {
      "needs_background": "light"
     },
     "output_type": "display_data"
    }
   ],
   "source": [
    "plt.figure(figsize=(8,5), dpi=100)\n",
    "plt.plot(test, label='Actual')\n",
    "plt.plot(fc_series, label='Predicted', color='green')\n",
    "plt.title('Forecast vs Actuals')\n",
    "plt.legend(loc='upper left', fontsize=8)\n",
    "plt.show()"
   ]
  },
  {
   "cell_type": "code",
   "execution_count": 78,
   "id": "c3de3fcf",
   "metadata": {},
   "outputs": [
    {
     "data": {
      "text/plain": [
       "array([5.01557984, 5.01535738, 5.01535706, ..., 5.01497083, 5.01497051,\n",
       "       5.0149702 ])"
      ]
     },
     "execution_count": 78,
     "metadata": {},
     "output_type": "execute_result"
    }
   ],
   "source": [
    "fc"
   ]
  },
  {
   "cell_type": "markdown",
   "id": "789d0fac",
   "metadata": {},
   "source": [
    "### Checking forecast accuracy"
   ]
  },
  {
   "cell_type": "code",
   "execution_count": 79,
   "id": "5423c7b2",
   "metadata": {},
   "outputs": [],
   "source": [
    "from statsmodels.graphics.tsaplots import plot_acf, plot_pacf, acf"
   ]
  },
  {
   "cell_type": "code",
   "execution_count": 80,
   "id": "ecc3dd54",
   "metadata": {},
   "outputs": [
    {
     "data": {
      "text/plain": [
       "{'mape': 0.006375900023093204,\n",
       " 'me': 0.023234863428232496,\n",
       " 'mae': 0.03168013395584598,\n",
       " 'mpe': 0.004697838622686605,\n",
       " 'rmse': 0.04015268425949133,\n",
       " 'acf1': 0.998291709915987,\n",
       " 'corr': 0.25127979595377364,\n",
       " 'minmax': 0.006313943140043632}"
      ]
     },
     "execution_count": 80,
     "metadata": {},
     "output_type": "execute_result"
    }
   ],
   "source": [
    "def forecast_accuracy(forecast, actual):\n",
    "    mape = np.mean(np.abs(forecast - actual)/np.abs(actual))  # MAPE\n",
    "    me = np.mean(forecast - actual)             # ME\n",
    "    mae = np.mean(np.abs(forecast - actual))    # MAE\n",
    "    mpe = np.mean((forecast - actual)/actual)   # MPE\n",
    "    rmse = np.mean((forecast - actual)**2)**.5  # RMSE\n",
    "    corr = np.corrcoef(forecast, actual)[0,1]   # corr\n",
    "    mins = np.amin(np.hstack([forecast[:,None], \n",
    "                              actual[:,None]]), axis=1)\n",
    "    maxs = np.amax(np.hstack([forecast[:,None], \n",
    "                              actual[:,None]]), axis=1)\n",
    "    minmax = 1 - np.mean(mins/maxs)             # minmax\n",
    "    acf1 = acf(fc-test)[1]                      # ACF1\n",
    "    return({'mape':mape, 'me':me, 'mae': mae, \n",
    "            'mpe': mpe, 'rmse':rmse, 'acf1':acf1, \n",
    "            'corr':corr, 'minmax':minmax})\n",
    "\n",
    "forecast_accuracy(fc, test.values)"
   ]
  },
  {
   "cell_type": "code",
   "execution_count": 81,
   "id": "58a23527",
   "metadata": {},
   "outputs": [
    {
     "data": {
      "image/png": "[encoded data removed]",
      "text/plain": [
       "<Figure size 432x288 with 1 Axes>"
      ]
     },
     "metadata": {
      "needs_background": "light"
     },
     "output_type": "display_data"
    }
   ],
   "source": [
    "acf_plot = plot_acf( ogauge.PRESSURE,lags=200)"
   ]
  },
  {
   "cell_type": "code",
   "execution_count": 82,
   "id": "2e88f9f9",
   "metadata": {},
   "outputs": [
    {
     "name": "stdout",
     "output_type": "stream",
     "text": [
      "The Autocorrelation plot for the data is:\n"
     ]
    },
    {
     "data": {
      "image/png": "[encoded data removed]",
      "text/plain": [
       "<Figure size 432x288 with 1 Axes>"
      ]
     },
     "metadata": {
      "needs_background": "light"
     },
     "output_type": "display_data"
    }
   ],
   "source": [
    "   \n",
    "# Adding plot title.\n",
    "plt.title(\"Autocorrelation Plot\")\n",
    " \n",
    "# Providing x-axis name.\n",
    "plt.xlabel(\"Lags\")\n",
    " \n",
    "# Plotting the Autocorrelation plot.\n",
    "plt.acorr(ogauge.PRESSURE, maxlags = 100)\n",
    " \n",
    "# Displaying the plot.\n",
    "print(\"The Autocorrelation plot for the data is:\")\n",
    "plt.grid(True)\n",
    " \n",
    "plt.show()"
   ]
  },
  {
   "cell_type": "code",
   "execution_count": 83,
   "id": "4e63bb7d",
   "metadata": {},
   "outputs": [
    {
     "data": {
      "image/png": "[encoded data removed]",
      "text/plain": [
       "<Figure size 432x288 with 1 Axes>"
      ]
     },
     "metadata": {
      "needs_background": "light"
     },
     "output_type": "display_data"
    }
   ],
   "source": [
    "pacf_plot = plot_pacf( ogauge.PRESSURE, lags=15 )"
   ]
  },
  {
   "cell_type": "code",
   "execution_count": 84,
   "id": "5ccc986f",
   "metadata": {},
   "outputs": [
    {
     "data": {
      "text/plain": [
       "0.64"
      ]
     },
     "execution_count": 84,
     "metadata": {},
     "output_type": "execute_result"
    }
   ],
   "source": [
    "get_mape(test.values,fc)"
   ]
  },
  {
   "cell_type": "code",
   "execution_count": 85,
   "id": "034adcdd",
   "metadata": {},
   "outputs": [],
   "source": [
    "from pandas import Series"
   ]
  },
  {
   "cell_type": "code",
   "execution_count": 86,
   "id": "16dba3d1",
   "metadata": {},
   "outputs": [
    {
     "name": "stdout",
     "output_type": "stream",
     "text": [
      "Mean: 4.996474125364427\n",
      "Variance: 0.0009316901796940804\n",
      "SD: 0.030523600372401687\n"
     ]
    }
   ],
   "source": [
    "mean = ogauge['PRESSURE'].mean()\n",
    "print(\"Mean:\",mean)\n",
    "#Variance is measure of linear dependence between two random variables\n",
    "Variance = ogauge['PRESSURE'].var()\n",
    "print(\"Variance:\",Variance)\n",
    "SD = ogauge['PRESSURE'].std()\n",
    "print(\"SD:\",SD)"
   ]
  },
  {
   "cell_type": "code",
   "execution_count": 87,
   "id": "fbd81c10",
   "metadata": {},
   "outputs": [],
   "source": [
    "from scipy.stats import norm\n",
    "import seaborn as sns"
   ]
  },
  {
   "cell_type": "code",
   "execution_count": 88,
   "id": "2810e8c7",
   "metadata": {},
   "outputs": [
    {
     "data": {
      "text/plain": [
       "[Text(0.5, 0, 'Normal Distribution'), Text(0, 0.5, 'Frequency')]"
      ]
     },
     "execution_count": 88,
     "metadata": {},
     "output_type": "execute_result"
    },
    {
     "data": {
      "image/png": "[encoded data removed]",
      "text/plain": [
       "<Figure size 432x288 with 1 Axes>"
      ]
     },
     "metadata": {
      "needs_background": "light"
     },
     "output_type": "display_data"
    }
   ],
   "source": [
    "ax = sns.distplot(ogauge['PRESSURE'],\n",
    "                  bins=100,\n",
    "                  kde=True,\n",
    "                  color='skyblue',\n",
    "                  hist_kws={\"linewidth\": 15,'alpha':1})\n",
    "ax.set(xlabel='Normal Distribution', ylabel='Frequency',)"
   ]
  },
  {
   "cell_type": "code",
   "execution_count": 89,
   "id": "0ca645df",
   "metadata": {},
   "outputs": [
    {
     "name": "stdout",
     "output_type": "stream",
     "text": [
      "ACVF: 0.000924529354446687\n",
      "AVF: 0.9923141561396082\n"
     ]
    }
   ],
   "source": [
    "#ACVF is covariance of a variable with itself at some other time\n",
    "\n",
    "import numpy as np\n",
    "\n",
    "Xi = np.array(ogauge['PRESSURE'])\n",
    "N = np.size(Xi)\n",
    "k = 5\n",
    "Xs = np.average(Xi)\n",
    "\n",
    "def autocovariance(Xi, N, k, Xs):\n",
    "    autoCov = 0\n",
    "    for i in np.arange(0, N-k):\n",
    "        autoCov += ((Xi[i+k])-Xs)*(Xi[i]-Xs)\n",
    "    return (1/(N-1))*autoCov\n",
    "\n",
    "def autocorrelation():\n",
    "    return autocovariance(Xi, N, k, Xs) / autocovariance(Xi, N, 0, Xs)\n",
    "\n",
    "print(\"ACVF:\", autocovariance(Xi, N, k, Xs))\n",
    "print(\"AVF:\", autocorrelation())"
   ]
  }
 ],
 "metadata": {
  "kernelspec": {
   "display_name": "Python 3 (ipykernel)",
   "language": "python",
   "name": "python3"
  },
  "language_info": {
   "codemirror_mode": {
    "name": "ipython",
    "version": 3
   },
   "file_extension": ".py",
   "mimetype": "text/x-python",
   "name": "python",
   "nbconvert_exporter": "python",
   "pygments_lexer": "ipython3",
   "version": "3.9.12"
  }
 },
 "nbformat": 4,
 "nbformat_minor": 5
}
