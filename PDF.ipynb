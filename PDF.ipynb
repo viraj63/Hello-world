{
 "cells": [
  {
   "cell_type": "code",
   "execution_count": 15,
   "id": "f26af9da",
   "metadata": {},
   "outputs": [
    {
     "data": {
      "text/html": [
       "<div>\n",
       "<style scoped>\n",
       "    .dataframe tbody tr th:only-of-type {\n",
       "        vertical-align: middle;\n",
       "    }\n",
       "\n",
       "    .dataframe tbody tr th {\n",
       "        vertical-align: top;\n",
       "    }\n",
       "\n",
       "    .dataframe thead th {\n",
       "        text-align: right;\n",
       "    }\n",
       "</style>\n",
       "<table border=\"1\" class=\"dataframe\">\n",
       "  <thead>\n",
       "    <tr style=\"text-align: right;\">\n",
       "      <th></th>\n",
       "      <th>Time</th>\n",
       "      <th>PRESSURE</th>\n",
       "    </tr>\n",
       "  </thead>\n",
       "  <tbody>\n",
       "    <tr>\n",
       "      <th>0</th>\n",
       "      <td>12:30:17</td>\n",
       "      <td>5.004</td>\n",
       "    </tr>\n",
       "    <tr>\n",
       "      <th>1</th>\n",
       "      <td>12:30:18</td>\n",
       "      <td>5.009</td>\n",
       "    </tr>\n",
       "    <tr>\n",
       "      <th>2</th>\n",
       "      <td>12:30:19</td>\n",
       "      <td>5.011</td>\n",
       "    </tr>\n",
       "    <tr>\n",
       "      <th>3</th>\n",
       "      <td>12:30:20</td>\n",
       "      <td>5.012</td>\n",
       "    </tr>\n",
       "    <tr>\n",
       "      <th>4</th>\n",
       "      <td>12:30:21</td>\n",
       "      <td>5.015</td>\n",
       "    </tr>\n",
       "  </tbody>\n",
       "</table>\n",
       "</div>"
      ],
      "text/plain": [
       "       Time  PRESSURE\n",
       "0  12:30:17     5.004\n",
       "1  12:30:18     5.009\n",
       "2  12:30:19     5.011\n",
       "3  12:30:20     5.012\n",
       "4  12:30:21     5.015"
      ]
     },
     "execution_count": 15,
     "metadata": {},
     "output_type": "execute_result"
    }
   ],
   "source": [
    "import numpy as np\n",
    "import matplotlib.pyplot as plt\n",
    "import seaborn as sns\n",
    "series=pd.read_excel(r'C:\\Users\\Ronny\\Desktop\\Project_2022\\Ogauge_testing\\Ranging19_5bar.xls')\n",
    "series.head()"
   ]
  },
  {
   "cell_type": "code",
   "execution_count": 28,
   "id": "81bfbb74",
   "metadata": {},
   "outputs": [
    {
     "name": "stdout",
     "output_type": "stream",
     "text": [
      "Mean: 5.045026190967117\n",
      "Variance: 0.00018774291950230036\n",
      "SD: 0.013701931232578141\n"
     ]
    }
   ],
   "source": [
    "mean = series['PRESSURE'].mean()\n",
    "print(\"Mean:\",mean)\n",
    "#Variance is measure of linear dependence between two random variables\n",
    "Variance = series['PRESSURE'].var()\n",
    "print(\"Variance:\",Variance)\n",
    "SD = series['PRESSURE'].std()\n",
    "print(\"SD:\",SD)"
   ]
  },
  {
   "cell_type": "code",
   "execution_count": 38,
   "id": "b224f21d",
   "metadata": {},
   "outputs": [
    {
     "data": {
      "text/plain": [
       "Text(0, 0.5, 'Probability Density')"
      ]
     },
     "execution_count": 38,
     "metadata": {},
     "output_type": "execute_result"
    },
    {
     "data": {
      "image/png": "[encoded data removed]",
      "text/plain": [
       "<Figure size 800x500 with 1 Axes>"
      ]
     },
     "metadata": {
      "needs_background": "light"
     },
     "output_type": "display_data"
    }
   ],
   "source": [
    "#Creating a Function.\n",
    "def normal_dist(x , mean , sd):\n",
    "    prob_density = (np.pi*sd) * np.exp(-0.5*((x-mean)/sd)**2)\n",
    "    return prob_density\n",
    " \n",
    "#Calculate mean and Standard deviation.\n",
    "mean = np.mean(series['PRESSURE'])\n",
    "sd = np.std(series['PRESSURE'])\n",
    " \n",
    "#Apply function to the data.\n",
    "pdf = normal_dist(series['PRESSURE'], mean , sd)\n",
    " \n",
    "#Plotting the Results\n",
    "plt.figure(figsize=(8,5), dpi=100)\n",
    "plt.plot(pdf , color = 'blue')\n",
    "plt.xlabel('Data points')\n",
    "plt.ylabel('Probability Density')\n"
   ]
  },
  {
   "cell_type": "code",
   "execution_count": null,
   "id": "23f9c397",
   "metadata": {},
   "outputs": [],
   "source": []
  }
 ],
 "metadata": {
  "kernelspec": {
   "display_name": "Python 3",
   "language": "python",
   "name": "python3"
  },
  "language_info": {
   "codemirror_mode": {
    "name": "ipython",
    "version": 3
   },
   "file_extension": ".py",
   "mimetype": "text/x-python",
   "name": "python",
   "nbconvert_exporter": "python",
   "pygments_lexer": "ipython3",
   "version": "3.8.8"
  }
 },
 "nbformat": 4,
 "nbformat_minor": 5
}
