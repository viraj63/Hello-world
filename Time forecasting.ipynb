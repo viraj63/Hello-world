{
 "cells": [
  {
   "cell_type": "code",
   "execution_count": 16,
   "id": "648da485",
   "metadata": {},
   "outputs": [],
   "source": [
    "# Importing required libraries\n",
    "import pandas as pd\n",
    "import numpy as np\n",
    "from plotly.offline import download_plotlyjs, init_notebook_mode, plot, iplot\n",
    "import plotly.plotly as py\n",
    "import matplotlib.pyplot as plot\n",
    "from matplotlib import pyplot\n",
    "import plotly.graph_objs as go\n",
    "from statsmodels.tsa.seasonal import seasonal_decompose"
   ]
  },
  {
   "cell_type": "code",
   "execution_count": 50,
   "id": "8f8b508b",
   "metadata": {},
   "outputs": [
    {
     "data": {
      "text/html": [
       "<div>\n",
       "<style scoped>\n",
       "    .dataframe tbody tr th:only-of-type {\n",
       "        vertical-align: middle;\n",
       "    }\n",
       "\n",
       "    .dataframe tbody tr th {\n",
       "        vertical-align: top;\n",
       "    }\n",
       "\n",
       "    .dataframe thead th {\n",
       "        text-align: right;\n",
       "    }\n",
       "</style>\n",
       "<table border=\"1\" class=\"dataframe\">\n",
       "  <thead>\n",
       "    <tr style=\"text-align: right;\">\n",
       "      <th></th>\n",
       "      <th>load_date</th>\n",
       "      <th>actuals</th>\n",
       "    </tr>\n",
       "  </thead>\n",
       "  <tbody>\n",
       "    <tr>\n",
       "      <th>0</th>\n",
       "      <td>0.521030</td>\n",
       "      <td>5.004</td>\n",
       "    </tr>\n",
       "    <tr>\n",
       "      <th>1</th>\n",
       "      <td>0.521042</td>\n",
       "      <td>5.009</td>\n",
       "    </tr>\n",
       "    <tr>\n",
       "      <th>2</th>\n",
       "      <td>0.521053</td>\n",
       "      <td>5.011</td>\n",
       "    </tr>\n",
       "    <tr>\n",
       "      <th>3</th>\n",
       "      <td>0.521065</td>\n",
       "      <td>5.012</td>\n",
       "    </tr>\n",
       "    <tr>\n",
       "      <th>4</th>\n",
       "      <td>0.521076</td>\n",
       "      <td>5.015</td>\n",
       "    </tr>\n",
       "  </tbody>\n",
       "</table>\n",
       "</div>"
      ],
      "text/plain": [
       "   load_date  actuals\n",
       "0   0.521030    5.004\n",
       "1   0.521042    5.009\n",
       "2   0.521053    5.011\n",
       "3   0.521065    5.012\n",
       "4   0.521076    5.015"
      ]
     },
     "execution_count": 50,
     "metadata": {},
     "output_type": "execute_result"
    }
   ],
   "source": [
    "import pandas as pd\n",
    "time_series_df=pd.read_excel(r'C:\\Users\\Ronny\\Desktop\\2022\\Ogauge pressure gauge\\New data\\range for 5 Pressure.xlsx')\n",
    "time_series_df.columns = ['load_date','actuals']\n",
    "time_series_df.head()"
   ]
  },
  {
   "cell_type": "code",
   "execution_count": 51,
   "id": "ea77b827",
   "metadata": {},
   "outputs": [],
   "source": [
    "actual_vals = time_series_df.actuals.values\n",
    "actual_log = np.log10(actual_vals)"
   ]
  },
  {
   "cell_type": "code",
   "execution_count": 52,
   "id": "795f608b",
   "metadata": {},
   "outputs": [],
   "source": [
    "import math\n",
    "import statsmodels.api as sm\n",
    "import statsmodels.tsa.api as smt\n",
    "from sklearn.metrics import mean_squared_error\n",
    "from matplotlib import pyplot\n",
    "import matplotlib.pyplot as plt\n",
    "import plotly.plotly as py\n",
    "import plotly.tools as tls\n",
    "\n",
    "train, test = actual_vals[0:-70], actual_vals[-70:]\n",
    "\n",
    "train_log, test_log = np.log10(train), np.log10(test)\n",
    "\n",
    "my_order = (0, 1, 2)\n",
    "my_seasonal_order = (1, 1, 2, 12)"
   ]
  },
  {
   "cell_type": "code",
   "execution_count": 53,
   "id": "2fbf156a",
   "metadata": {},
   "outputs": [
    {
     "name": "stdout",
     "output_type": "stream",
     "text": [
      "Optimization terminated successfully.\n",
      "         Current function value: -5.174759\n",
      "         Iterations: 275\n",
      "         Function evaluations: 501\n"
     ]
    },
    {
     "data": {
      "text/html": [
       "<table class=\"simpletable\">\n",
       "<caption>SARIMAX Results</caption>\n",
       "<tr>\n",
       "  <th>Dep. Variable:</th>               <td>actuals</td>            <th>  No. Observations:  </th>    <td>1849</td>   \n",
       "</tr>\n",
       "<tr>\n",
       "  <th>Model:</th>           <td>SARIMAX(0, 1, 2)x(1, 1, 2, 12)</td> <th>  Log Likelihood     </th>  <td>9568.129</td> \n",
       "</tr>\n",
       "<tr>\n",
       "  <th>Date:</th>                   <td>Sat, 02 Jul 2022</td>        <th>  AIC                </th> <td>-19124.257</td>\n",
       "</tr>\n",
       "<tr>\n",
       "  <th>Time:</th>                       <td>19:31:16</td>            <th>  BIC                </th> <td>-19091.165</td>\n",
       "</tr>\n",
       "<tr>\n",
       "  <th>Sample:</th>                         <td>0</td>               <th>  HQIC               </th> <td>-19112.054</td>\n",
       "</tr>\n",
       "<tr>\n",
       "  <th></th>                             <td> - 1849</td>            <th>                     </th>      <td> </td>    \n",
       "</tr>\n",
       "<tr>\n",
       "  <th>Covariance Type:</th>               <td>opg</td>              <th>                     </th>      <td> </td>    \n",
       "</tr>\n",
       "</table>\n",
       "<table class=\"simpletable\">\n",
       "<tr>\n",
       "      <td></td>        <th>coef</th>     <th>std err</th>      <th>z</th>      <th>P>|z|</th>  <th>[0.025</th>    <th>0.975]</th>  \n",
       "</tr>\n",
       "<tr>\n",
       "  <th>ma.L1</th>    <td>   -0.6603</td> <td>    0.011</td> <td>  -58.121</td> <td> 0.000</td> <td>   -0.683</td> <td>   -0.638</td>\n",
       "</tr>\n",
       "<tr>\n",
       "  <th>ma.L2</th>    <td>   -0.0047</td> <td>    0.016</td> <td>   -0.296</td> <td> 0.768</td> <td>   -0.036</td> <td>    0.026</td>\n",
       "</tr>\n",
       "<tr>\n",
       "  <th>ar.S.L12</th> <td>   -0.9448</td> <td>    0.251</td> <td>   -3.768</td> <td> 0.000</td> <td>   -1.436</td> <td>   -0.453</td>\n",
       "</tr>\n",
       "<tr>\n",
       "  <th>ma.S.L12</th> <td>   -0.0383</td> <td>    0.258</td> <td>   -0.148</td> <td> 0.882</td> <td>   -0.544</td> <td>    0.467</td>\n",
       "</tr>\n",
       "<tr>\n",
       "  <th>ma.S.L24</th> <td>   -0.9210</td> <td>    0.254</td> <td>   -3.627</td> <td> 0.000</td> <td>   -1.419</td> <td>   -0.423</td>\n",
       "</tr>\n",
       "<tr>\n",
       "  <th>sigma2</th>   <td> 1.704e-06</td> <td> 2.63e-08</td> <td>   64.915</td> <td> 0.000</td> <td> 1.65e-06</td> <td> 1.76e-06</td>\n",
       "</tr>\n",
       "</table>\n",
       "<table class=\"simpletable\">\n",
       "<tr>\n",
       "  <th>Ljung-Box (L1) (Q):</th>     <td>0.79</td> <th>  Jarque-Bera (JB):  </th> <td>11286.51</td>\n",
       "</tr>\n",
       "<tr>\n",
       "  <th>Prob(Q):</th>                <td>0.38</td> <th>  Prob(JB):          </th>   <td>0.00</td>  \n",
       "</tr>\n",
       "<tr>\n",
       "  <th>Heteroskedasticity (H):</th> <td>0.70</td> <th>  Skew:              </th>   <td>1.21</td>  \n",
       "</tr>\n",
       "<tr>\n",
       "  <th>Prob(H) (two-sided):</th>    <td>0.00</td> <th>  Kurtosis:          </th>   <td>14.90</td> \n",
       "</tr>\n",
       "</table><br/><br/>Warnings:<br/>[1] Covariance matrix calculated using the outer product of gradients (complex-step)."
      ],
      "text/plain": [
       "<class 'statsmodels.iolib.summary.Summary'>\n",
       "\"\"\"\n",
       "                                     SARIMAX Results                                      \n",
       "==========================================================================================\n",
       "Dep. Variable:                            actuals   No. Observations:                 1849\n",
       "Model:             SARIMAX(0, 1, 2)x(1, 1, 2, 12)   Log Likelihood                9568.129\n",
       "Date:                            Sat, 02 Jul 2022   AIC                         -19124.257\n",
       "Time:                                    19:31:16   BIC                         -19091.165\n",
       "Sample:                                         0   HQIC                        -19112.054\n",
       "                                           - 1849                                         \n",
       "Covariance Type:                              opg                                         \n",
       "==============================================================================\n",
       "                 coef    std err          z      P>|z|      [0.025      0.975]\n",
       "------------------------------------------------------------------------------\n",
       "ma.L1         -0.6603      0.011    -58.121      0.000      -0.683      -0.638\n",
       "ma.L2         -0.0047      0.016     -0.296      0.768      -0.036       0.026\n",
       "ar.S.L12      -0.9448      0.251     -3.768      0.000      -1.436      -0.453\n",
       "ma.S.L12      -0.0383      0.258     -0.148      0.882      -0.544       0.467\n",
       "ma.S.L24      -0.9210      0.254     -3.627      0.000      -1.419      -0.423\n",
       "sigma2      1.704e-06   2.63e-08     64.915      0.000    1.65e-06    1.76e-06\n",
       "===================================================================================\n",
       "Ljung-Box (L1) (Q):                   0.79   Jarque-Bera (JB):             11286.51\n",
       "Prob(Q):                              0.38   Prob(JB):                         0.00\n",
       "Heteroskedasticity (H):               0.70   Skew:                             1.21\n",
       "Prob(H) (two-sided):                  0.00   Kurtosis:                        14.90\n",
       "===================================================================================\n",
       "\n",
       "Warnings:\n",
       "[1] Covariance matrix calculated using the outer product of gradients (complex-step).\n",
       "\"\"\""
      ]
     },
     "execution_count": 53,
     "metadata": {},
     "output_type": "execute_result"
    }
   ],
   "source": [
    "# Split data into train / test sets\n",
    "train = time_series_df.iloc[:len(time_series_df)-3000]\n",
    "test = time_series_df.iloc[len(time_series_df)-3000:] # set 3000 for testing\n",
    "\n",
    "# Fit a SARIMAX(0, 1, 2)x(1, 1, 2, 12) on the training set\n",
    "from statsmodels.tsa.statespace.sarimax import SARIMAX\n",
    "\n",
    "model = SARIMAX(train['actuals'], \n",
    "                order = (0, 1, 2), \n",
    "                seasonal_order =(1, 1, 2, 12))\n",
    "\n",
    "result = model.fit(maxiter=300, method='nm')\n",
    "result.summary()"
   ]
  },
  {
   "cell_type": "code",
   "execution_count": 54,
   "id": "45cfe795",
   "metadata": {},
   "outputs": [
    {
     "data": {
      "text/plain": [
       "<AxesSubplot:>"
      ]
     },
     "execution_count": 54,
     "metadata": {},
     "output_type": "execute_result"
    },
    {
     "data": {
      "image/png": "[encoded data removed]",
      "text/plain": [
       "<Figure size 432x288 with 1 Axes>"
      ]
     },
     "metadata": {
      "needs_background": "light"
     },
     "output_type": "display_data"
    }
   ],
   "source": [
    "start = len(train)\n",
    "end = len(train) + len(test) - 1\n",
    "  \n",
    "# Predictions for one-year against the test set\n",
    "predictions = result.predict(start, end,\n",
    "                             typ = 'levels').rename(\"Predictions\")\n",
    "  \n",
    "# plot predictions and actual values\n",
    "predictions.plot(legend = True)\n",
    "test['actuals'].plot(legend = True)"
   ]
  },
  {
   "cell_type": "code",
   "execution_count": null,
   "id": "133ceccf",
   "metadata": {},
   "outputs": [],
   "source": []
  },
  {
   "cell_type": "code",
   "execution_count": 18,
   "id": "1da6ef31",
   "metadata": {},
   "outputs": [
    {
     "data": {
      "image/png": "[encoded data removed]",
      "text/plain": [
       "<Figure size 432x288 with 4 Axes>"
      ]
     },
     "execution_count": 18,
     "metadata": {},
     "output_type": "execute_result"
    },
    {
     "data": {
      "image/png": "[encoded data removed]",
      "text/plain": [
       "<Figure size 432x288 with 4 Axes>"
      ]
     },
     "metadata": {
      "needs_background": "light"
     },
     "output_type": "display_data"
    }
   ],
   "source": [
    "result = seasonal_decompose(series['Pressure'], model='multiplicable', period=12)\n",
    "result.plot()"
   ]
  },
  {
   "cell_type": "code",
   "execution_count": 19,
   "id": "190cd1cf",
   "metadata": {},
   "outputs": [
    {
     "data": {
      "text/plain": [
       "'from pmdarima import auto_arima\\n  \\n# Ignore harmless warnings\\nimport warnings\\nwarnings.filterwarnings(\"ignore\")\\n  \\n# Fit auto_arima function to AirPassengers dataset\\nstepwise_fit = auto_arima(series[\\'Pressure\\'], start_p = 1, start_q = 1,\\n                          max_p = 3, max_q = 3, m = 12,\\n                          start_P = 0, seasonal = True,\\n                          d = None, D = 1, trace = True,\\n                          error_action =\\'ignore\\',   # we don\\'t want to know if an order does not work\\n                          suppress_warnings = True,  # we don\\'t want convergence warnings\\n                          stepwise = True)           # set to stepwise\\n  \\n# To print the summary\\nstepwise_fit.summary()'"
      ]
     },
     "execution_count": 19,
     "metadata": {},
     "output_type": "execute_result"
    }
   ],
   "source": [
    "\"\"\"from pmdarima import auto_arima\n",
    "  \n",
    "# Ignore harmless warnings\n",
    "import warnings\n",
    "warnings.filterwarnings(\"ignore\")\n",
    "  \n",
    "# Fit auto_arima function to AirPassengers dataset\n",
    "stepwise_fit = auto_arima(series['Pressure'], start_p = 1, start_q = 1,\n",
    "                          max_p = 3, max_q = 3, m = 12,\n",
    "                          start_P = 0, seasonal = True,\n",
    "                          d = None, D = 1, trace = True,\n",
    "                          error_action ='ignore',   # we don't want to know if an order does not work\n",
    "                          suppress_warnings = True,  # we don't want convergence warnings\n",
    "                          stepwise = True)           # set to stepwise\n",
    "  \n",
    "# To print the summary\n",
    "stepwise_fit.summary()\"\"\""
   ]
  },
  {
   "cell_type": "code",
   "execution_count": 20,
   "id": "76d35042",
   "metadata": {},
   "outputs": [],
   "source": [
    "#X = series.values\n",
    "#train, test = X[1:len(X)-3000], X[len(X)-3000:]"
   ]
  },
  {
   "cell_type": "code",
   "execution_count": 21,
   "id": "054171ec",
   "metadata": {},
   "outputs": [
    {
     "name": "stderr",
     "output_type": "stream",
     "text": [
      "C:\\Users\\Ronny\\anaconda3\\lib\\site-packages\\statsmodels\\base\\model.py:566: ConvergenceWarning:\n",
      "\n",
      "Maximum Likelihood optimization failed to converge. Check mle_retvals\n",
      "\n"
     ]
    },
    {
     "data": {
      "text/html": [
       "<table class=\"simpletable\">\n",
       "<caption>SARIMAX Results</caption>\n",
       "<tr>\n",
       "  <th>Dep. Variable:</th>              <td>Pressure</td>            <th>  No. Observations:  </th>    <td>1849</td>   \n",
       "</tr>\n",
       "<tr>\n",
       "  <th>Model:</th>           <td>SARIMAX(0, 1, 2)x(1, 1, 2, 12)</td> <th>  Log Likelihood     </th>  <td>9523.199</td> \n",
       "</tr>\n",
       "<tr>\n",
       "  <th>Date:</th>                   <td>Sat, 02 Jul 2022</td>        <th>  AIC                </th> <td>-19034.398</td>\n",
       "</tr>\n",
       "<tr>\n",
       "  <th>Time:</th>                       <td>18:03:23</td>            <th>  BIC                </th> <td>-19001.306</td>\n",
       "</tr>\n",
       "<tr>\n",
       "  <th>Sample:</th>                         <td>0</td>               <th>  HQIC               </th> <td>-19022.194</td>\n",
       "</tr>\n",
       "<tr>\n",
       "  <th></th>                             <td> - 1849</td>            <th>                     </th>      <td> </td>    \n",
       "</tr>\n",
       "<tr>\n",
       "  <th>Covariance Type:</th>               <td>opg</td>              <th>                     </th>      <td> </td>    \n",
       "</tr>\n",
       "</table>\n",
       "<table class=\"simpletable\">\n",
       "<tr>\n",
       "      <td></td>        <th>coef</th>     <th>std err</th>      <th>z</th>      <th>P>|z|</th>  <th>[0.025</th>    <th>0.975]</th>  \n",
       "</tr>\n",
       "<tr>\n",
       "  <th>ma.L1</th>    <td>   -0.7373</td> <td>    0.011</td> <td>  -68.521</td> <td> 0.000</td> <td>   -0.758</td> <td>   -0.716</td>\n",
       "</tr>\n",
       "<tr>\n",
       "  <th>ma.L2</th>    <td>    0.0079</td> <td>    0.013</td> <td>    0.598</td> <td> 0.550</td> <td>   -0.018</td> <td>    0.034</td>\n",
       "</tr>\n",
       "<tr>\n",
       "  <th>ar.S.L12</th> <td>   -0.5141</td> <td>    0.259</td> <td>   -1.982</td> <td> 0.047</td> <td>   -1.023</td> <td>   -0.006</td>\n",
       "</tr>\n",
       "<tr>\n",
       "  <th>ma.S.L12</th> <td>   -0.3985</td> <td>    0.268</td> <td>   -1.484</td> <td> 0.138</td> <td>   -0.925</td> <td>    0.128</td>\n",
       "</tr>\n",
       "<tr>\n",
       "  <th>ma.S.L24</th> <td>   -0.3809</td> <td>    0.234</td> <td>   -1.625</td> <td> 0.104</td> <td>   -0.840</td> <td>    0.079</td>\n",
       "</tr>\n",
       "<tr>\n",
       "  <th>sigma2</th>   <td>   1.8e-06</td> <td> 2.78e-08</td> <td>   64.636</td> <td> 0.000</td> <td> 1.75e-06</td> <td> 1.85e-06</td>\n",
       "</tr>\n",
       "</table>\n",
       "<table class=\"simpletable\">\n",
       "<tr>\n",
       "  <th>Ljung-Box (L1) (Q):</th>     <td>7.21</td> <th>  Jarque-Bera (JB):  </th> <td>13182.14</td>\n",
       "</tr>\n",
       "<tr>\n",
       "  <th>Prob(Q):</th>                <td>0.01</td> <th>  Prob(JB):          </th>   <td>0.00</td>  \n",
       "</tr>\n",
       "<tr>\n",
       "  <th>Heteroskedasticity (H):</th> <td>0.63</td> <th>  Skew:              </th>   <td>1.35</td>  \n",
       "</tr>\n",
       "<tr>\n",
       "  <th>Prob(H) (two-sided):</th>    <td>0.00</td> <th>  Kurtosis:          </th>   <td>15.85</td> \n",
       "</tr>\n",
       "</table><br/><br/>Warnings:<br/>[1] Covariance matrix calculated using the outer product of gradients (complex-step)."
      ],
      "text/plain": [
       "<class 'statsmodels.iolib.summary.Summary'>\n",
       "\"\"\"\n",
       "                                     SARIMAX Results                                      \n",
       "==========================================================================================\n",
       "Dep. Variable:                           Pressure   No. Observations:                 1849\n",
       "Model:             SARIMAX(0, 1, 2)x(1, 1, 2, 12)   Log Likelihood                9523.199\n",
       "Date:                            Sat, 02 Jul 2022   AIC                         -19034.398\n",
       "Time:                                    18:03:23   BIC                         -19001.306\n",
       "Sample:                                         0   HQIC                        -19022.194\n",
       "                                           - 1849                                         \n",
       "Covariance Type:                              opg                                         \n",
       "==============================================================================\n",
       "                 coef    std err          z      P>|z|      [0.025      0.975]\n",
       "------------------------------------------------------------------------------\n",
       "ma.L1         -0.7373      0.011    -68.521      0.000      -0.758      -0.716\n",
       "ma.L2          0.0079      0.013      0.598      0.550      -0.018       0.034\n",
       "ar.S.L12      -0.5141      0.259     -1.982      0.047      -1.023      -0.006\n",
       "ma.S.L12      -0.3985      0.268     -1.484      0.138      -0.925       0.128\n",
       "ma.S.L24      -0.3809      0.234     -1.625      0.104      -0.840       0.079\n",
       "sigma2        1.8e-06   2.78e-08     64.636      0.000    1.75e-06    1.85e-06\n",
       "===================================================================================\n",
       "Ljung-Box (L1) (Q):                   7.21   Jarque-Bera (JB):             13182.14\n",
       "Prob(Q):                              0.01   Prob(JB):                         0.00\n",
       "Heteroskedasticity (H):               0.63   Skew:                             1.35\n",
       "Prob(H) (two-sided):                  0.00   Kurtosis:                        15.85\n",
       "===================================================================================\n",
       "\n",
       "Warnings:\n",
       "[1] Covariance matrix calculated using the outer product of gradients (complex-step).\n",
       "\"\"\""
      ]
     },
     "execution_count": 21,
     "metadata": {},
     "output_type": "execute_result"
    }
   ],
   "source": [
    "# Split data into train / test sets\n",
    "train = series.iloc[:len(series)-3000]\n",
    "test = series.iloc[len(series)-3000:] # set 3000 for testing\n",
    "\n",
    "# Fit a SARIMAX(0, 1, 2)x(1, 1, 2, 12) on the training set\n",
    "from statsmodels.tsa.statespace.sarimax import SARIMAX\n",
    "\n",
    "model = SARIMAX(train['Pressure'], \n",
    "                order = (0, 1, 2), \n",
    "                seasonal_order =(1, 1, 2, 12))\n",
    "\n",
    "result = model.fit()\n",
    "result.summary()"
   ]
  },
  {
   "cell_type": "code",
   "execution_count": 22,
   "id": "4a7e917d",
   "metadata": {},
   "outputs": [
    {
     "data": {
      "text/plain": [
       "<AxesSubplot:>"
      ]
     },
     "execution_count": 22,
     "metadata": {},
     "output_type": "execute_result"
    },
    {
     "data": {
      "image/png": "[encoded data removed]",
      "text/plain": [
       "<Figure size 432x288 with 1 Axes>"
      ]
     },
     "metadata": {
      "needs_background": "light"
     },
     "output_type": "display_data"
    }
   ],
   "source": [
    "start = len(train)\n",
    "end = len(train) + len(test) - 1\n",
    "  \n",
    "# Predictions for one-year against the test set\n",
    "predictions = result.predict(start, end,\n",
    "                             typ = 'levels').rename(\"Predictions\")\n",
    "  \n",
    "# plot predictions and actual values\n",
    "predictions.plot(legend = True)\n",
    "test['Pressure'].plot(legend = True)"
   ]
  },
  {
   "cell_type": "code",
   "execution_count": 23,
   "id": "dc5aaa22",
   "metadata": {},
   "outputs": [],
   "source": [
    "# Load specific evaluation tools\n",
    "from sklearn.metrics import mean_squared_error\n",
    "from statsmodels.tools.eval_measures import rmse"
   ]
  },
  {
   "cell_type": "code",
   "execution_count": 24,
   "id": "7eddff30",
   "metadata": {},
   "outputs": [
    {
     "data": {
      "text/plain": [
       "0.002265941365780023"
      ]
     },
     "execution_count": 24,
     "metadata": {},
     "output_type": "execute_result"
    }
   ],
   "source": [
    "# Calculate root mean squared error\n",
    "rmse(test[\"Pressure\"], predictions)"
   ]
  },
  {
   "cell_type": "code",
   "execution_count": 25,
   "id": "56c14f36",
   "metadata": {},
   "outputs": [
    {
     "data": {
      "text/plain": [
       "5.1344902731530355e-06"
      ]
     },
     "execution_count": 25,
     "metadata": {},
     "output_type": "execute_result"
    }
   ],
   "source": [
    "# Calculate mean squared error\n",
    "mean_squared_error(test[\"Pressure\"], predictions)"
   ]
  },
  {
   "cell_type": "markdown",
   "id": "9daab5bd",
   "metadata": {},
   "source": [
    "### Forecast using ARIMA Model"
   ]
  },
  {
   "cell_type": "code",
   "execution_count": 26,
   "id": "a08b08f0",
   "metadata": {},
   "outputs": [
    {
     "name": "stderr",
     "output_type": "stream",
     "text": [
      "C:\\Users\\Ronny\\anaconda3\\lib\\site-packages\\statsmodels\\base\\model.py:566: ConvergenceWarning:\n",
      "\n",
      "Maximum Likelihood optimization failed to converge. Check mle_retvals\n",
      "\n"
     ]
    },
    {
     "data": {
      "text/plain": [
       "<AxesSubplot:>"
      ]
     },
     "execution_count": 26,
     "metadata": {},
     "output_type": "execute_result"
    },
    {
     "data": {
      "image/png": "[encoded data removed]",
      "text/plain": [
       "<Figure size 864x360 with 1 Axes>"
      ]
     },
     "metadata": {
      "needs_background": "light"
     },
     "output_type": "display_data"
    }
   ],
   "source": [
    "# Train the model on the full dataset\n",
    "model = model = SARIMAX(series['Pressure'], \n",
    "                        order = (0, 1, 2), \n",
    "                        seasonal_order =(1, 1, 2, 12))\n",
    "result = model.fit()\n",
    "  \n",
    "# Forecast for the next 3 years\n",
    "forecast = result.predict(start = len(series), \n",
    "                          end = (len(series)-1) + 4849, \n",
    "                          typ = 'levels').rename('Forecast')\n",
    "  \n",
    "# Plot the forecast values\n",
    "series['Pressure'].plot(figsize = (12, 5), legend = True)\n",
    "forecast.plot(legend = True)"
   ]
  },
  {
   "cell_type": "code",
   "execution_count": 27,
   "id": "a644252e",
   "metadata": {},
   "outputs": [
    {
     "name": "stdout",
     "output_type": "stream",
     "text": [
      "4849    5.028205\n",
      "4850    5.028201\n",
      "4851    5.027939\n",
      "4852    5.028275\n",
      "4853    5.029064\n",
      "          ...   \n",
      "9693    5.003299\n",
      "9694    5.003650\n",
      "9695    5.003479\n",
      "9696    5.004062\n",
      "9697    5.003562\n",
      "Name: Forecast, Length: 4849, dtype: float64\n"
     ]
    }
   ],
   "source": [
    "print(forecast)"
   ]
  },
  {
   "cell_type": "code",
   "execution_count": 32,
   "id": "97925da6",
   "metadata": {},
   "outputs": [
    {
     "data": {
      "text/html": [
       "<div>\n",
       "<style scoped>\n",
       "    .dataframe tbody tr th:only-of-type {\n",
       "        vertical-align: middle;\n",
       "    }\n",
       "\n",
       "    .dataframe tbody tr th {\n",
       "        vertical-align: top;\n",
       "    }\n",
       "\n",
       "    .dataframe thead th {\n",
       "        text-align: right;\n",
       "    }\n",
       "</style>\n",
       "<table border=\"1\" class=\"dataframe\">\n",
       "  <thead>\n",
       "    <tr style=\"text-align: right;\">\n",
       "      <th></th>\n",
       "      <th>Time</th>\n",
       "      <th>actuals</th>\n",
       "      <th>predicted</th>\n",
       "    </tr>\n",
       "  </thead>\n",
       "  <tbody>\n",
       "    <tr>\n",
       "      <th>0</th>\n",
       "      <td>12:30:17</td>\n",
       "      <td>5.004</td>\n",
       "      <td>5.028205</td>\n",
       "    </tr>\n",
       "    <tr>\n",
       "      <th>1</th>\n",
       "      <td>12:30:18</td>\n",
       "      <td>5.009</td>\n",
       "      <td>5.028201</td>\n",
       "    </tr>\n",
       "    <tr>\n",
       "      <th>2</th>\n",
       "      <td>12:30:19</td>\n",
       "      <td>5.011</td>\n",
       "      <td>5.027939</td>\n",
       "    </tr>\n",
       "    <tr>\n",
       "      <th>3</th>\n",
       "      <td>12:30:20</td>\n",
       "      <td>5.012</td>\n",
       "      <td>5.028275</td>\n",
       "    </tr>\n",
       "    <tr>\n",
       "      <th>4</th>\n",
       "      <td>12:30:21</td>\n",
       "      <td>5.015</td>\n",
       "      <td>5.029064</td>\n",
       "    </tr>\n",
       "  </tbody>\n",
       "</table>\n",
       "</div>"
      ],
      "text/plain": [
       "       Time  actuals  predicted\n",
       "0  12:30:17    5.004   5.028205\n",
       "1  12:30:18    5.009   5.028201\n",
       "2  12:30:19    5.011   5.027939\n",
       "3  12:30:20    5.012   5.028275\n",
       "4  12:30:21    5.015   5.029064"
      ]
     },
     "execution_count": 32,
     "metadata": {},
     "output_type": "execute_result"
    }
   ],
   "source": [
    "predicted=pd.DataFrame()\n",
    "\n",
    "predicted['Time']=series['Time']\n",
    "predicted['actuals']=series['Pressure']\n",
    "predicted['predicted']=forecast.values\n",
    "\n",
    "predicted.reset_index(inplace=False)\n",
    "predicted.head()"
   ]
  },
  {
   "cell_type": "markdown",
   "id": "e80f3ed0",
   "metadata": {},
   "source": [
    "### Steps to detect anomalies:\n",
    "1. Compute the error term(actual- predicted).\n",
    "2. Compute the rolling mean and rolling standard deviation(window is a week).\n",
    "3. Classify data with an error of 1.5,1.75 and 2 standard deviations as limits for low,medium and high anomalies. (5% of data point would be identified anomalies based on this property)"
   ]
  },
  {
   "cell_type": "code",
   "execution_count": 47,
   "id": "a1c5a610",
   "metadata": {},
   "outputs": [],
   "source": [
    "def detect_classify_anomalies(df,window):\n",
    "    df.replace([np.inf, -np.inf], np.NaN, inplace=True)\n",
    "    df.fillna(0,inplace=True)\n",
    "    df['error']=df['actuals']-df['predicted']\n",
    "    df['percentage_change'] = ((df['actuals'] - df['predicted']) / df['actuals']) * 100\n",
    "    df['meanval'] = df['error'].rolling(window=window).mean()\n",
    "    df['deviation'] = df['error'].rolling(window=window).std()\n",
    "    df['-3s'] = df['meanval'] - (2 * df['deviation'])\n",
    "    df['3s'] = df['meanval'] + (2 * df['deviation'])\n",
    "    df['-2s'] = df['meanval'] - (1.75 * df['deviation'])\n",
    "    df['2s'] = df['meanval'] + (1.75 * df['deviation'])\n",
    "    df['-1s'] = df['meanval'] - (1.5 * df['deviation'])\n",
    "    df['1s'] = df['meanval'] + (1.5 * df['deviation'])\n",
    "    cut_list = df[['error', '-3s', '-2s', '-1s', 'meanval', '1s', '2s', '3s']]\n",
    "    cut_values = cut_list.values\n",
    "    cut_sort = np.sort(cut_values)\n",
    "    df['impact'] = [(lambda x: np.where(cut_sort == df['error'][x])[1][0])(x) for x in range(len(df['error']))]\n",
    "    severity = {0: 3, 1: 2, 2: 1, 3: 0, 4: 0, 5: 1, 6: 2, 7: 3}\n",
    "    region = {0: \"NEGATIVE\", 1: \"NEGATIVE\", 2: \"NEGATIVE\", 3: \"NEGATIVE\", 4: \"POSITIVE\", 5: \"POSITIVE\", 6: \"POSITIVE\", 7: \"POSITIVE\"}\n",
    "    df['color'] =  df['impact'].map(severity)\n",
    "    df['region'] = df['impact'].map(region)\n",
    "    df['anomaly_points'] = np.where(df['color'] == 3, df['error'], np.nan)\n",
    "    df = df.sort_values(by='load_date', ascending=False)\n",
    "    df.load_date = pd.to_datetime(df['load_date'].astype(str), format=\"%Y-%m-%d\")\n",
    "    return df"
   ]
  },
  {
   "cell_type": "code",
   "execution_count": 48,
   "id": "0159a61d",
   "metadata": {},
   "outputs": [
    {
     "data": {
      "text/html": [
       "<div>\n",
       "<style scoped>\n",
       "    .dataframe tbody tr th:only-of-type {\n",
       "        vertical-align: middle;\n",
       "    }\n",
       "\n",
       "    .dataframe tbody tr th {\n",
       "        vertical-align: top;\n",
       "    }\n",
       "\n",
       "    .dataframe thead th {\n",
       "        text-align: right;\n",
       "    }\n",
       "</style>\n",
       "<table border=\"1\" class=\"dataframe\">\n",
       "  <thead>\n",
       "    <tr style=\"text-align: right;\">\n",
       "      <th></th>\n",
       "      <th>Time</th>\n",
       "      <th>Pressure</th>\n",
       "    </tr>\n",
       "  </thead>\n",
       "  <tbody>\n",
       "    <tr>\n",
       "      <th>0</th>\n",
       "      <td>12:30:17</td>\n",
       "      <td>5.004</td>\n",
       "    </tr>\n",
       "    <tr>\n",
       "      <th>1</th>\n",
       "      <td>12:30:18</td>\n",
       "      <td>5.009</td>\n",
       "    </tr>\n",
       "    <tr>\n",
       "      <th>2</th>\n",
       "      <td>12:30:19</td>\n",
       "      <td>5.011</td>\n",
       "    </tr>\n",
       "    <tr>\n",
       "      <th>3</th>\n",
       "      <td>12:30:20</td>\n",
       "      <td>5.012</td>\n",
       "    </tr>\n",
       "    <tr>\n",
       "      <th>4</th>\n",
       "      <td>12:30:21</td>\n",
       "      <td>5.015</td>\n",
       "    </tr>\n",
       "    <tr>\n",
       "      <th>...</th>\n",
       "      <td>...</td>\n",
       "      <td>...</td>\n",
       "    </tr>\n",
       "    <tr>\n",
       "      <th>4844</th>\n",
       "      <td>13:59:56</td>\n",
       "      <td>5.027</td>\n",
       "    </tr>\n",
       "    <tr>\n",
       "      <th>4845</th>\n",
       "      <td>13:59:57</td>\n",
       "      <td>5.027</td>\n",
       "    </tr>\n",
       "    <tr>\n",
       "      <th>4846</th>\n",
       "      <td>13:59:58</td>\n",
       "      <td>5.028</td>\n",
       "    </tr>\n",
       "    <tr>\n",
       "      <th>4847</th>\n",
       "      <td>13:59:59</td>\n",
       "      <td>5.029</td>\n",
       "    </tr>\n",
       "    <tr>\n",
       "      <th>4848</th>\n",
       "      <td>14:00:00</td>\n",
       "      <td>5.030</td>\n",
       "    </tr>\n",
       "  </tbody>\n",
       "</table>\n",
       "<p>4849 rows × 2 columns</p>\n",
       "</div>"
      ],
      "text/plain": [
       "          Time  Pressure\n",
       "0     12:30:17     5.004\n",
       "1     12:30:18     5.009\n",
       "2     12:30:19     5.011\n",
       "3     12:30:20     5.012\n",
       "4     12:30:21     5.015\n",
       "...        ...       ...\n",
       "4844  13:59:56     5.027\n",
       "4845  13:59:57     5.027\n",
       "4846  13:59:58     5.028\n",
       "4847  13:59:59     5.029\n",
       "4848  14:00:00     5.030\n",
       "\n",
       "[4849 rows x 2 columns]"
      ]
     },
     "execution_count": 48,
     "metadata": {},
     "output_type": "execute_result"
    }
   ],
   "source": [
    "df"
   ]
  },
  {
   "cell_type": "code",
   "execution_count": 49,
   "id": "818fbecc",
   "metadata": {},
   "outputs": [
    {
     "ename": "KeyError",
     "evalue": "'anomaly_points'",
     "output_type": "error",
     "traceback": [
      "\u001b[1;31m---------------------------------------------------------------------------\u001b[0m",
      "\u001b[1;31mKeyError\u001b[0m                                  Traceback (most recent call last)",
      "\u001b[1;32m~\\anaconda3\\lib\\site-packages\\pandas\\core\\indexes\\base.py\u001b[0m in \u001b[0;36mget_loc\u001b[1;34m(self, key, method, tolerance)\u001b[0m\n\u001b[0;32m   3079\u001b[0m             \u001b[1;32mtry\u001b[0m\u001b[1;33m:\u001b[0m\u001b[1;33m\u001b[0m\u001b[1;33m\u001b[0m\u001b[0m\n\u001b[1;32m-> 3080\u001b[1;33m                 \u001b[1;32mreturn\u001b[0m \u001b[0mself\u001b[0m\u001b[1;33m.\u001b[0m\u001b[0m_engine\u001b[0m\u001b[1;33m.\u001b[0m\u001b[0mget_loc\u001b[0m\u001b[1;33m(\u001b[0m\u001b[0mcasted_key\u001b[0m\u001b[1;33m)\u001b[0m\u001b[1;33m\u001b[0m\u001b[1;33m\u001b[0m\u001b[0m\n\u001b[0m\u001b[0;32m   3081\u001b[0m             \u001b[1;32mexcept\u001b[0m \u001b[0mKeyError\u001b[0m \u001b[1;32mas\u001b[0m \u001b[0merr\u001b[0m\u001b[1;33m:\u001b[0m\u001b[1;33m\u001b[0m\u001b[1;33m\u001b[0m\u001b[0m\n",
      "\u001b[1;32mpandas\\_libs\\index.pyx\u001b[0m in \u001b[0;36mpandas._libs.index.IndexEngine.get_loc\u001b[1;34m()\u001b[0m\n",
      "\u001b[1;32mpandas\\_libs\\index.pyx\u001b[0m in \u001b[0;36mpandas._libs.index.IndexEngine.get_loc\u001b[1;34m()\u001b[0m\n",
      "\u001b[1;32mpandas\\_libs\\hashtable_class_helper.pxi\u001b[0m in \u001b[0;36mpandas._libs.hashtable.PyObjectHashTable.get_item\u001b[1;34m()\u001b[0m\n",
      "\u001b[1;32mpandas\\_libs\\hashtable_class_helper.pxi\u001b[0m in \u001b[0;36mpandas._libs.hashtable.PyObjectHashTable.get_item\u001b[1;34m()\u001b[0m\n",
      "\u001b[1;31mKeyError\u001b[0m: 'anomaly_points'",
      "\nThe above exception was the direct cause of the following exception:\n",
      "\u001b[1;31mKeyError\u001b[0m                                  Traceback (most recent call last)",
      "\u001b[1;32m<ipython-input-49-687b346c66d5>\u001b[0m in \u001b[0;36m<module>\u001b[1;34m\u001b[0m\n\u001b[0;32m     34\u001b[0m                        \u001b[0mxaxis\u001b[0m\u001b[1;33m=\u001b[0m\u001b[1;34m'x1'\u001b[0m\u001b[1;33m,\u001b[0m\u001b[1;33m\u001b[0m\u001b[1;33m\u001b[0m\u001b[0m\n\u001b[0;32m     35\u001b[0m                        \u001b[0myaxis\u001b[0m\u001b[1;33m=\u001b[0m\u001b[1;34m'y1'\u001b[0m\u001b[1;33m,\u001b[0m\u001b[1;33m\u001b[0m\u001b[1;33m\u001b[0m\u001b[0m\n\u001b[1;32m---> 36\u001b[1;33m                        \u001b[0my\u001b[0m\u001b[1;33m=\u001b[0m\u001b[0mdf\u001b[0m\u001b[1;33m[\u001b[0m\u001b[1;34m'anomaly_points'\u001b[0m\u001b[1;33m]\u001b[0m\u001b[1;33m,\u001b[0m\u001b[1;33m\u001b[0m\u001b[1;33m\u001b[0m\u001b[0m\n\u001b[0m\u001b[0;32m     37\u001b[0m                        \u001b[0mmode\u001b[0m\u001b[1;33m=\u001b[0m\u001b[1;34m'markers'\u001b[0m\u001b[1;33m,\u001b[0m\u001b[1;33m\u001b[0m\u001b[1;33m\u001b[0m\u001b[0m\n\u001b[0;32m     38\u001b[0m                        marker = dict(color ='red',\n",
      "\u001b[1;32m~\\anaconda3\\lib\\site-packages\\pandas\\core\\frame.py\u001b[0m in \u001b[0;36m__getitem__\u001b[1;34m(self, key)\u001b[0m\n\u001b[0;32m   3022\u001b[0m             \u001b[1;32mif\u001b[0m \u001b[0mself\u001b[0m\u001b[1;33m.\u001b[0m\u001b[0mcolumns\u001b[0m\u001b[1;33m.\u001b[0m\u001b[0mnlevels\u001b[0m \u001b[1;33m>\u001b[0m \u001b[1;36m1\u001b[0m\u001b[1;33m:\u001b[0m\u001b[1;33m\u001b[0m\u001b[1;33m\u001b[0m\u001b[0m\n\u001b[0;32m   3023\u001b[0m                 \u001b[1;32mreturn\u001b[0m \u001b[0mself\u001b[0m\u001b[1;33m.\u001b[0m\u001b[0m_getitem_multilevel\u001b[0m\u001b[1;33m(\u001b[0m\u001b[0mkey\u001b[0m\u001b[1;33m)\u001b[0m\u001b[1;33m\u001b[0m\u001b[1;33m\u001b[0m\u001b[0m\n\u001b[1;32m-> 3024\u001b[1;33m             \u001b[0mindexer\u001b[0m \u001b[1;33m=\u001b[0m \u001b[0mself\u001b[0m\u001b[1;33m.\u001b[0m\u001b[0mcolumns\u001b[0m\u001b[1;33m.\u001b[0m\u001b[0mget_loc\u001b[0m\u001b[1;33m(\u001b[0m\u001b[0mkey\u001b[0m\u001b[1;33m)\u001b[0m\u001b[1;33m\u001b[0m\u001b[1;33m\u001b[0m\u001b[0m\n\u001b[0m\u001b[0;32m   3025\u001b[0m             \u001b[1;32mif\u001b[0m \u001b[0mis_integer\u001b[0m\u001b[1;33m(\u001b[0m\u001b[0mindexer\u001b[0m\u001b[1;33m)\u001b[0m\u001b[1;33m:\u001b[0m\u001b[1;33m\u001b[0m\u001b[1;33m\u001b[0m\u001b[0m\n\u001b[0;32m   3026\u001b[0m                 \u001b[0mindexer\u001b[0m \u001b[1;33m=\u001b[0m \u001b[1;33m[\u001b[0m\u001b[0mindexer\u001b[0m\u001b[1;33m]\u001b[0m\u001b[1;33m\u001b[0m\u001b[1;33m\u001b[0m\u001b[0m\n",
      "\u001b[1;32m~\\anaconda3\\lib\\site-packages\\pandas\\core\\indexes\\base.py\u001b[0m in \u001b[0;36mget_loc\u001b[1;34m(self, key, method, tolerance)\u001b[0m\n\u001b[0;32m   3080\u001b[0m                 \u001b[1;32mreturn\u001b[0m \u001b[0mself\u001b[0m\u001b[1;33m.\u001b[0m\u001b[0m_engine\u001b[0m\u001b[1;33m.\u001b[0m\u001b[0mget_loc\u001b[0m\u001b[1;33m(\u001b[0m\u001b[0mcasted_key\u001b[0m\u001b[1;33m)\u001b[0m\u001b[1;33m\u001b[0m\u001b[1;33m\u001b[0m\u001b[0m\n\u001b[0;32m   3081\u001b[0m             \u001b[1;32mexcept\u001b[0m \u001b[0mKeyError\u001b[0m \u001b[1;32mas\u001b[0m \u001b[0merr\u001b[0m\u001b[1;33m:\u001b[0m\u001b[1;33m\u001b[0m\u001b[1;33m\u001b[0m\u001b[0m\n\u001b[1;32m-> 3082\u001b[1;33m                 \u001b[1;32mraise\u001b[0m \u001b[0mKeyError\u001b[0m\u001b[1;33m(\u001b[0m\u001b[0mkey\u001b[0m\u001b[1;33m)\u001b[0m \u001b[1;32mfrom\u001b[0m \u001b[0merr\u001b[0m\u001b[1;33m\u001b[0m\u001b[1;33m\u001b[0m\u001b[0m\n\u001b[0m\u001b[0;32m   3083\u001b[0m \u001b[1;33m\u001b[0m\u001b[0m\n\u001b[0;32m   3084\u001b[0m         \u001b[1;32mif\u001b[0m \u001b[0mtolerance\u001b[0m \u001b[1;32mis\u001b[0m \u001b[1;32mnot\u001b[0m \u001b[1;32mNone\u001b[0m\u001b[1;33m:\u001b[0m\u001b[1;33m\u001b[0m\u001b[1;33m\u001b[0m\u001b[0m\n",
      "\u001b[1;31mKeyError\u001b[0m: 'anomaly_points'"
     ]
    }
   ],
   "source": [
    "dates = series.Time\n",
    "def plot_anomaly(df,metric_name):\n",
    "    dates = series.Time\n",
    "    bool_array = (abs(df['anomaly_points']) > 0)\n",
    "    \n",
    "#And a subplot of the Actual Values.\n",
    "    actuals = df[\"actuals\"][-len(bool_array):]\n",
    "    anomaly_points = bool_array * actuals\n",
    "    anomaly_points[anomaly_points == 0] = np.nan\n",
    "#Order_results['meanval']=meanval\n",
    "    #Order_results['deviation']=deviation\n",
    "    color_map= {0: \"'rgba(228, 222, 249, 0.65)'\", 1: \"yellow\", 2: \"orange\", 3: \"red\"}\n",
    "    table = go.Table(domain=dict(x=[0, 1], y=[0, 0.3]), columnwidth=[1, 2 ],\n",
    "                     header = dict(height = 20, values = [['<b>Date</b>'],['<b>Actual Values </b>'],['<b>Predicted</b>'],\n",
    "                                                          ['<b>% Difference</b>'],['<b>Severity (0-3)</b>']],\n",
    "                                   font = dict(color=['rgb(45, 45, 45)'] * 5, size=14),\n",
    "                                   fill = dict(color='#d562be')),\n",
    "                     cells = dict(values = [df.round(3)[k].tolist() for k in ['load_date', 'actuals',\n",
    "                                                                            'predicted','percentage_change','color']],\n",
    "                                  line = dict(color='#506784'),\n",
    "                                  align = ['center'] * 5,\n",
    "                                  font = dict(color=['rgb(40, 40, 40)'] * 5, size=12),\n",
    "                                  suffix=[None] + [''] + [''] + ['%'] + [''],\n",
    "                                  height = 27,\n",
    "                                  fill=dict(color=[df['color'].map(color_map)],\n",
    "                                           )\n",
    "                                 )\n",
    "                    )\n",
    "    \n",
    "    \n",
    "#df['ano'] = np.where(df['color']==3, df['error'], np.nan)\n",
    "anomalies = go.Scatter(name=\"Anomaly\",\n",
    "                       x=dates,\n",
    "                       xaxis='x1',\n",
    "                       yaxis='y1',\n",
    "                       y=df['anomaly_points'],\n",
    "                       mode='markers',\n",
    "                       marker = dict(color ='red',\n",
    "                      size = 11,line = dict(\n",
    "                                         color = \"red\",\n",
    "                                         width = 2)))\n",
    "upper_bound = go.Scatter(hoverinfo=\"skip\",\n",
    "                         x=dates,\n",
    "                         showlegend =False,\n",
    "                         xaxis='x1',\n",
    "                         yaxis='y1',\n",
    "                         y=df['3s'],\n",
    "                         marker=dict(color=\"#444\"),\n",
    "                         line=dict(\n",
    "                             color=('rgb(23, 96, 167)'),\n",
    "                             width=2,\n",
    "                             dash='dash'),\n",
    "                         fillcolor='rgba(68, 68, 68, 0.3)',\n",
    "                         fill='tonexty')\n",
    "\n",
    "lower_bound = go.Scatter(name='Confidence Interval',\n",
    "                          x=dates,\n",
    "                         xaxis='x1',\n",
    "                         yaxis='y1',\n",
    "                          y=df['-3s'],\n",
    "                          marker=dict(color=\"#444\"),\n",
    "                          line=dict(\n",
    "                              color=('rgb(23, 96, 167)'),\n",
    "                              width=2,\n",
    "                              dash='dash'),\n",
    "                          fillcolor='rgba(68, 68, 68, 0.3)',\n",
    "                          fill='tonexty')\n",
    "\n",
    "Actuals = go.Scatter(name= 'Actuals',\n",
    "                     x= dates,\n",
    "                     y= df['actuals'],\n",
    "                    xaxis='x2', yaxis='y2',\n",
    "                     mode='line',\n",
    "                     marker=dict(size=12,\n",
    "                                 line=dict(width=1),\n",
    "                                 color=\"blue\"))\n",
    "\n",
    "Predicted = go.Scatter(name= 'Predicted',\n",
    "                     x= dates,\n",
    "                     y= df['predicted'],\n",
    "                    xaxis='x2', yaxis='y2',\n",
    "                     mode='line',\n",
    "                     marker=dict(size=12,\n",
    "                                 line=dict(width=1),\n",
    "                                 color=\"orange\"))\n",
    "\n",
    "# create plot for error...\n",
    "Error = go.Scatter(name=\"Error\",\n",
    "                   x=dates, y=df['error'],\n",
    "                   xaxis='x1',\n",
    "                   yaxis='y1',\n",
    "                   mode='line',\n",
    "                   marker=dict(size=12,\n",
    "                               line=dict(width=1),\n",
    "                               color=\"red\"),\n",
    "                   text=\"Error\")\n",
    "    \n",
    "anomalies_map = go.Scatter(name = \"anomaly actual\",\n",
    "                                   showlegend=False,\n",
    "                                   x=dates,\n",
    "                                   y=anomaly_points,\n",
    "                                   mode='markers',\n",
    "                                   xaxis='x2',\n",
    "                                   yaxis='y2',\n",
    "                                    marker = dict(color =\"red\",\n",
    "                                  size = 11,\n",
    "                                 line = dict(\n",
    "                                     color = \"red\",\n",
    "                                     width = 2)))\n",
    "\n",
    "Mvingavrg = go.Scatter(name=\"Moving Average\",\n",
    "                           x=dates,\n",
    "                           y=df['meanval'],\n",
    "                           mode='line',\n",
    "                           xaxis='x1',\n",
    "                           yaxis='y1',\n",
    "                           marker=dict(size=12,\n",
    "                                       line=dict(width=1),\n",
    "                                       color=\"green\"),\n",
    "                           text=\"Moving average\")\n",
    "\n",
    "axis=dict(\n",
    "    showline=True,\n",
    "    zeroline=False,\n",
    "    showgrid=True,\n",
    "    mirror=True,\n",
    "    ticklen=4,\n",
    "    gridcolor='#ffffff',\n",
    "    tickfont=dict(size=10))\n",
    "\n",
    "layout = dict(\n",
    "    width=1000,\n",
    "    height=865,\n",
    "    autosize=False,\n",
    "    title= metric_name,\n",
    "    margin = dict(t=75),\n",
    "    showlegend=True,\n",
    "    xaxis1=dict(axis, **dict(domain=[0, 1], anchor='y1', showticklabels=True)),\n",
    "    xaxis2=dict(axis, **dict(domain=[0, 1], anchor='y2', showticklabels=True)),\n",
    "    yaxis1=dict(axis, **dict(domain=[2 * 0.21 + 0.20 + 0.09, 1], anchor='x1', hoverformat='.2f')),\n",
    "    yaxis2=dict(axis, **dict(domain=[0.21 + 0.12, 2 * 0.31 + 0.02], anchor='x2', hoverformat='.2f')))\n",
    "\n",
    "fig = go.Figure(data = [table,anomalies,anomalies_map,\n",
    "                        upper_bound,lower_bound,Actuals,Predicted,\n",
    "                        Mvingavrg,Error], layout = layout)\n",
    "iplot(fig)\n",
    "pyplot.show()\n",
    "classify_df=detect_classify_anomalies(predicted_df,7)\n",
    "classify_df.reset_index(inplace=True)\n",
    "del classify_df['index']\n",
    "plot_anomaly(classify_df,\"metric_name\")"
   ]
  },
  {
   "cell_type": "code",
   "execution_count": null,
   "id": "95d76b23",
   "metadata": {},
   "outputs": [],
   "source": []
  }
 ],
 "metadata": {
  "kernelspec": {
   "display_name": "Python 3",
   "language": "python",
   "name": "python3"
  },
  "language_info": {
   "codemirror_mode": {
    "name": "ipython",
    "version": 3
   },
   "file_extension": ".py",
   "mimetype": "text/x-python",
   "name": "python",
   "nbconvert_exporter": "python",
   "pygments_lexer": "ipython3",
   "version": "3.8.8"
  }
 },
 "nbformat": 4,
 "nbformat_minor": 5
}
