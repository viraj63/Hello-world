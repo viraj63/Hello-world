{
 "cells": [
  {
   "cell_type": "code",
   "execution_count": null,
   "id": "dae31ec3",
   "metadata": {},
   "outputs": [],
   "source": [
    "import pandas as pd\n",
    "import numpy as np\n",
    "from plotly.offline import download_plotlyjs, init_notebook_mode, plot, iplot\n",
    "import plotly.plotly as py\n",
    "import matplotlib.pyplot as plt\n",
    "from matplotlib import pyplot\n",
    "import plotly.graph_objs as go\n",
    "init_notebook_mode(connected=True)"
   ]
  },
  {
   "cell_type": "code",
   "execution_count": null,
   "id": "52bb43bd",
   "metadata": {},
   "outputs": [],
   "source": [
    "time_series_df=pd.read_excel(r'C:\\Users\\Ronny\\Desktop\\2022\\Ogauge pressure gauge\\New data\\range for 5 Pressure.xlsx',\n",
    "                       index_col ='Time',\n",
    "                       parse_dates = True)\n",
    "time_series_df.head()"
   ]
  },
  {
   "cell_type": "code",
   "execution_count": null,
   "id": "124f8245",
   "metadata": {},
   "outputs": [],
   "source": [
    "actual_vals = time_series_df.values\n",
    "actual_log = np.log10(actual_vals)"
   ]
  },
  {
   "cell_type": "code",
   "execution_count": null,
   "id": "ff3662e8",
   "metadata": {},
   "outputs": [],
   "source": [
    "import math\n",
    "import statsmodels.api as sm\n",
    "import statsmodels.tsa.api as smt\n",
    "from sklearn.metrics import mean_squared_error\n",
    "from matplotlib import pyplot\n",
    "import matplotlib.pyplot as plt\n",
    "import plotly.plotly as py\n",
    "import plotly.tools as tls\n",
    "\n",
    "X = time_series_df.values\n",
    "train, test = X[1:len(X)-3000], X[len(X)-3000:]\n",
    "train_log, test_log = np.log10(train), np.log10(test)\n",
    "\n",
    "my_order = (0, 1, 2)\n",
    "my_seasonal_order = (1, 1, 2, 12)"
   ]
  },
  {
   "cell_type": "code",
   "execution_count": null,
   "id": "523ddcd0",
   "metadata": {},
   "outputs": [],
   "source": []
  },
  {
   "cell_type": "code",
   "execution_count": null,
   "id": "aedd9077",
   "metadata": {},
   "outputs": [],
   "source": []
  },
  {
   "cell_type": "code",
   "execution_count": null,
   "id": "22512e2a",
   "metadata": {},
   "outputs": [],
   "source": []
  }
 ],
 "metadata": {
  "kernelspec": {
   "display_name": "Python 3",
   "language": "python",
   "name": "python3"
  },
  "language_info": {
   "codemirror_mode": {
    "name": "ipython",
    "version": 3
   },
   "file_extension": ".py",
   "mimetype": "text/x-python",
   "name": "python",
   "nbconvert_exporter": "python",
   "pygments_lexer": "ipython3",
   "version": "3.8.8"
  }
 },
 "nbformat": 4,
 "nbformat_minor": 5
}
